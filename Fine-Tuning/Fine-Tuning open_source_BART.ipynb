{
 "cells": [
  {
   "cell_type": "code",
   "execution_count": 1,
   "metadata": {},
   "outputs": [
    {
     "name": "stdout",
     "output_type": "stream",
     "text": [
      "Requirement already satisfied: torch in c:\\users\\zhang xiang\\desktop\\year 3\\sem 2\\fypj\\project\\rd_textsummarizerforwebinar\\development\\.venv\\lib\\site-packages (2.1.1)\n",
      "Requirement already satisfied: filelock in c:\\users\\zhang xiang\\desktop\\year 3\\sem 2\\fypj\\project\\rd_textsummarizerforwebinar\\development\\.venv\\lib\\site-packages (from torch) (3.13.1)\n",
      "Requirement already satisfied: typing-extensions in c:\\users\\zhang xiang\\desktop\\year 3\\sem 2\\fypj\\project\\rd_textsummarizerforwebinar\\development\\.venv\\lib\\site-packages (from torch) (4.8.0)\n",
      "Requirement already satisfied: sympy in c:\\users\\zhang xiang\\desktop\\year 3\\sem 2\\fypj\\project\\rd_textsummarizerforwebinar\\development\\.venv\\lib\\site-packages (from torch) (1.12)\n",
      "Requirement already satisfied: networkx in c:\\users\\zhang xiang\\desktop\\year 3\\sem 2\\fypj\\project\\rd_textsummarizerforwebinar\\development\\.venv\\lib\\site-packages (from torch) (3.2.1)\n",
      "Requirement already satisfied: jinja2 in c:\\users\\zhang xiang\\desktop\\year 3\\sem 2\\fypj\\project\\rd_textsummarizerforwebinar\\development\\.venv\\lib\\site-packages (from torch) (3.1.2)\n",
      "Requirement already satisfied: fsspec in c:\\users\\zhang xiang\\desktop\\year 3\\sem 2\\fypj\\project\\rd_textsummarizerforwebinar\\development\\.venv\\lib\\site-packages (from torch) (2023.10.0)\n",
      "Requirement already satisfied: MarkupSafe>=2.0 in c:\\users\\zhang xiang\\desktop\\year 3\\sem 2\\fypj\\project\\rd_textsummarizerforwebinar\\development\\.venv\\lib\\site-packages (from jinja2->torch) (2.1.3)\n",
      "Requirement already satisfied: mpmath>=0.19 in c:\\users\\zhang xiang\\desktop\\year 3\\sem 2\\fypj\\project\\rd_textsummarizerforwebinar\\development\\.venv\\lib\\site-packages (from sympy->torch) (1.3.0)\n"
     ]
    },
    {
     "name": "stderr",
     "output_type": "stream",
     "text": [
      "WARNING: Ignoring invalid distribution -treamlit (c:\\users\\zhang xiang\\desktop\\year 3\\sem 2\\fypj\\project\\rd_textsummarizerforwebinar\\development\\.venv\\lib\\site-packages)\n",
      "WARNING: Ignoring invalid distribution -treamlit (c:\\users\\zhang xiang\\desktop\\year 3\\sem 2\\fypj\\project\\rd_textsummarizerforwebinar\\development\\.venv\\lib\\site-packages)\n"
     ]
    },
    {
     "name": "stdout",
     "output_type": "stream",
     "text": [
      "Requirement already satisfied: transformers in c:\\users\\zhang xiang\\desktop\\year 3\\sem 2\\fypj\\project\\rd_textsummarizerforwebinar\\development\\.venv\\lib\\site-packages (4.36.1)\n",
      "Requirement already satisfied: filelock in c:\\users\\zhang xiang\\desktop\\year 3\\sem 2\\fypj\\project\\rd_textsummarizerforwebinar\\development\\.venv\\lib\\site-packages (from transformers) (3.13.1)\n",
      "Requirement already satisfied: huggingface-hub<1.0,>=0.19.3 in c:\\users\\zhang xiang\\desktop\\year 3\\sem 2\\fypj\\project\\rd_textsummarizerforwebinar\\development\\.venv\\lib\\site-packages (from transformers) (0.19.4)\n",
      "Requirement already satisfied: numpy>=1.17 in c:\\users\\zhang xiang\\desktop\\year 3\\sem 2\\fypj\\project\\rd_textsummarizerforwebinar\\development\\.venv\\lib\\site-packages (from transformers) (1.26.2)\n",
      "Requirement already satisfied: packaging>=20.0 in c:\\users\\zhang xiang\\desktop\\year 3\\sem 2\\fypj\\project\\rd_textsummarizerforwebinar\\development\\.venv\\lib\\site-packages (from transformers) (23.2)\n",
      "Requirement already satisfied: pyyaml>=5.1 in c:\\users\\zhang xiang\\desktop\\year 3\\sem 2\\fypj\\project\\rd_textsummarizerforwebinar\\development\\.venv\\lib\\site-packages (from transformers) (6.0.1)\n",
      "Requirement already satisfied: regex!=2019.12.17 in c:\\users\\zhang xiang\\desktop\\year 3\\sem 2\\fypj\\project\\rd_textsummarizerforwebinar\\development\\.venv\\lib\\site-packages (from transformers) (2023.10.3)\n",
      "Requirement already satisfied: requests in c:\\users\\zhang xiang\\desktop\\year 3\\sem 2\\fypj\\project\\rd_textsummarizerforwebinar\\development\\.venv\\lib\\site-packages (from transformers) (2.31.0)\n",
      "Requirement already satisfied: tokenizers<0.19,>=0.14 in c:\\users\\zhang xiang\\desktop\\year 3\\sem 2\\fypj\\project\\rd_textsummarizerforwebinar\\development\\.venv\\lib\\site-packages (from transformers) (0.15.0)\n",
      "Requirement already satisfied: safetensors>=0.3.1 in c:\\users\\zhang xiang\\desktop\\year 3\\sem 2\\fypj\\project\\rd_textsummarizerforwebinar\\development\\.venv\\lib\\site-packages (from transformers) (0.4.1)\n",
      "Requirement already satisfied: tqdm>=4.27 in c:\\users\\zhang xiang\\desktop\\year 3\\sem 2\\fypj\\project\\rd_textsummarizerforwebinar\\development\\.venv\\lib\\site-packages (from transformers) (4.66.1)\n",
      "Requirement already satisfied: fsspec>=2023.5.0 in c:\\users\\zhang xiang\\desktop\\year 3\\sem 2\\fypj\\project\\rd_textsummarizerforwebinar\\development\\.venv\\lib\\site-packages (from huggingface-hub<1.0,>=0.19.3->transformers) (2023.10.0)\n",
      "Requirement already satisfied: typing-extensions>=3.7.4.3 in c:\\users\\zhang xiang\\desktop\\year 3\\sem 2\\fypj\\project\\rd_textsummarizerforwebinar\\development\\.venv\\lib\\site-packages (from huggingface-hub<1.0,>=0.19.3->transformers) (4.8.0)\n",
      "Requirement already satisfied: colorama in c:\\users\\zhang xiang\\desktop\\year 3\\sem 2\\fypj\\project\\rd_textsummarizerforwebinar\\development\\.venv\\lib\\site-packages (from tqdm>=4.27->transformers) (0.4.6)\n",
      "Requirement already satisfied: charset-normalizer<4,>=2 in c:\\users\\zhang xiang\\desktop\\year 3\\sem 2\\fypj\\project\\rd_textsummarizerforwebinar\\development\\.venv\\lib\\site-packages (from requests->transformers) (3.3.2)\n",
      "Requirement already satisfied: idna<4,>=2.5 in c:\\users\\zhang xiang\\desktop\\year 3\\sem 2\\fypj\\project\\rd_textsummarizerforwebinar\\development\\.venv\\lib\\site-packages (from requests->transformers) (3.6)\n",
      "Requirement already satisfied: urllib3<3,>=1.21.1 in c:\\users\\zhang xiang\\desktop\\year 3\\sem 2\\fypj\\project\\rd_textsummarizerforwebinar\\development\\.venv\\lib\\site-packages (from requests->transformers) (2.1.0)\n",
      "Requirement already satisfied: certifi>=2017.4.17 in c:\\users\\zhang xiang\\desktop\\year 3\\sem 2\\fypj\\project\\rd_textsummarizerforwebinar\\development\\.venv\\lib\\site-packages (from requests->transformers) (2023.11.17)\n"
     ]
    },
    {
     "name": "stderr",
     "output_type": "stream",
     "text": [
      "WARNING: Ignoring invalid distribution -treamlit (c:\\users\\zhang xiang\\desktop\\year 3\\sem 2\\fypj\\project\\rd_textsummarizerforwebinar\\development\\.venv\\lib\\site-packages)\n",
      "WARNING: Ignoring invalid distribution -treamlit (c:\\users\\zhang xiang\\desktop\\year 3\\sem 2\\fypj\\project\\rd_textsummarizerforwebinar\\development\\.venv\\lib\\site-packages)\n"
     ]
    }
   ],
   "source": [
    "!pip install torch\n",
    "!pip install transformers\n"
   ]
  },
  {
   "cell_type": "code",
   "execution_count": 2,
   "metadata": {},
   "outputs": [
    {
     "name": "stderr",
     "output_type": "stream",
     "text": [
      "c:\\Users\\Zhang Xiang\\Desktop\\Year 3\\Sem 2\\FYPJ\\Project\\RD_TextSummarizerForWebinar\\Development\\.venv\\lib\\site-packages\\tqdm\\auto.py:21: TqdmWarning: IProgress not found. Please update jupyter and ipywidgets. See https://ipywidgets.readthedocs.io/en/stable/user_install.html\n",
      "  from .autonotebook import tqdm as notebook_tqdm\n"
     ]
    }
   ],
   "source": [
    "from transformers import AutoModelForSeq2SeqLM, AutoTokenizer ,LEDForConditionalGeneration, LEDTokenizer\n",
    "from transformers import DataCollatorForSeq2Seq, Seq2SeqTrainer, Seq2SeqTrainingArguments\n",
    "\n",
    "import pandas as pd\n",
    "from datasets import load_dataset, load_from_disk, Dataset, DatasetDict\n"
   ]
  },
  {
   "cell_type": "code",
   "execution_count": 3,
   "metadata": {},
   "outputs": [],
   "source": [
    "# Tokenize Data\n",
    "def preprocess_function(sample):\n",
    "    # tokenize inputs\n",
    "    sample['input_ids'] = tokenizer(sample[\"transcript\"], padding=\"max_length\", truncation=True, return_tensors='pt').input_ids\n",
    "\n",
    "    # Tokenize targets with the `text_target` keyword argument\n",
    "    sample['labels'] = tokenizer(text_target=sample[\"summary\"], padding=\"max_length\", truncation=True, return_tensors='pt').input_ids\n",
    "\n",
    "    \n",
    "    return sample"
   ]
  },
  {
   "cell_type": "code",
   "execution_count": 4,
   "metadata": {},
   "outputs": [],
   "source": [
    "from transformers import BartForConditionalGeneration, BartTokenizer\n",
    "\n",
    "model_name = \"facebook/bart-large-cnn\"\n",
    "model = BartForConditionalGeneration.from_pretrained(model_name)\n",
    "tokenizer = BartTokenizer.from_pretrained(model_name)"
   ]
  },
  {
   "cell_type": "code",
   "execution_count": 5,
   "metadata": {},
   "outputs": [
    {
     "name": "stdout",
     "output_type": "stream",
     "text": [
      "train: DatasetInfo(description='', citation='', homepage='', license='', features={'summary': Value(dtype='string', id=None), 'transcript': Value(dtype='string', id=None), 'id': Value(dtype='int64', id=None)}, post_processed=None, supervised_keys=None, task_templates=None, builder_name=None, dataset_name=None, config_name=None, version=None, splits=None, download_checksums=None, download_size=None, post_processing_size=None, dataset_size=None, size_in_bytes=None)\n",
      "test: DatasetInfo(description='', citation='', homepage='', license='', features={'summary': Value(dtype='string', id=None), 'transcript': Value(dtype='string', id=None), 'id': Value(dtype='int64', id=None)}, post_processed=None, supervised_keys=None, task_templates=None, builder_name=None, dataset_name=None, config_name=None, version=None, splits=None, download_checksums=None, download_size=None, post_processing_size=None, dataset_size=None, size_in_bytes=None)\n",
      "dict_keys(['train', 'test'])\n"
     ]
    }
   ],
   "source": [
    "df_train = pd.read_excel('../Data/tib_train.xlsx')\n",
    "df_test = pd.read_excel('../Data/tib_test.xlsx')\n",
    "\n",
    "df_train[\"id\"] = df_train.index \n",
    "df_test[\"id\"] = df_test.index + len(df_train)\n",
    "\n",
    "\n",
    "# Convert DataFrames into Datasets\n",
    "train_dataset = Dataset.from_pandas(df_train)\n",
    "test_dataset = Dataset.from_pandas(df_test)\n",
    "\n",
    "# Create a DatasetDict to contain train and test splits\n",
    "datasets = DatasetDict({\n",
    "    \"train\": train_dataset,\n",
    "    \"test\": test_dataset,\n",
    "})\n",
    "\n",
    "# Access information about the combined dataset\n",
    "for split_name, split_dataset in datasets.items():\n",
    "    print(f\"{split_name}: {split_dataset.info}\")\n",
    "\n",
    "print(datasets.keys())"
   ]
  },
  {
   "cell_type": "code",
   "execution_count": null,
   "metadata": {},
   "outputs": [
    {
     "name": "stderr",
     "output_type": "stream",
     "text": []
    },
    {
     "name": "stderr",
     "output_type": "stream",
     "text": [
      "Map: 100%|██████████| 241/241 [00:03<00:00, 69.80 examples/s]\n",
      "Map: 100%|██████████| 35/35 [00:00<00:00, 61.96 examples/s]\n"
     ]
    },
    {
     "data": {
      "text/plain": [
       "DatasetDict({\n",
       "    train: Dataset({\n",
       "        features: ['input_ids', 'labels'],\n",
       "        num_rows: 241\n",
       "    })\n",
       "    test: Dataset({\n",
       "        features: ['input_ids', 'labels'],\n",
       "        num_rows: 35\n",
       "    })\n",
       "})"
      ]
     },
     "metadata": {},
     "output_type": "display_data"
    }
   ],
   "source": [
    "tokenizer.pad_token = tokenizer.eos_token\n",
    "\n",
    "tokenized_dataset = datasets.map(\n",
    "        preprocess_function,\n",
    "        batched=True,\n",
    "    )\n",
    "\n",
    "\n",
    "tokenized_dataset = tokenized_dataset.remove_columns([\"transcript\", \"summary\", \"id\"])\n",
    "\n",
    "# for split in tokenized_dataset.keys():\n",
    "    # tokenized_dataset[split] = tokenized_dataset[split].remove_columns([\"transcript\", \"summary\", \"id\"])\n",
    "\n",
    "# tokenized_dataset = tokenized_dataset.remove_column([\"transcript\", \"summary\", \"id\"])\n",
    "# tokenized_dataset = tokenized_dataset.rename_column= [\"label\", \"labels\"]\n",
    "# tokenized_dataset = tokenized_dataset.with_format(\"torch\")\n",
    "\n",
    "\n",
    "# # save datasets to disk for later easy loading\n",
    "tokenized_dataset[\"train\"].save_to_disk(\"./data/train\")\n",
    "tokenized_dataset[\"test\"].save_to_disk(\"./data/eval\")\n",
    "\n",
    "\n",
    "tokenized_dataset"
   ]
  },
  {
   "cell_type": "code",
   "execution_count": null,
   "metadata": {},
   "outputs": [],
   "source": [
    "from transformers import Seq2SeqTrainer, Seq2SeqTrainingArguments\n",
    "\n",
    "training_args = Seq2SeqTrainingArguments(\n",
    "    output_dir=\"./output\",\n",
    "    per_device_train_batch_size=2,\n",
    "    save_steps=1000,\n",
    "    save_total_limit=2,\n",
    "    num_train_epochs=3,\n",
    ")\n",
    "\n",
    "trainer = Seq2SeqTrainer(\n",
    "    model=model,\n",
    "    args=training_args,\n",
    "    train_dataset=your_train_dataset,  # Replace with your training dataset\n",
    "    tokenizer=tokenizer,\n",
    ")\n",
    "\n",
    "trainer.train()\n"
   ]
  },
  {
   "cell_type": "code",
   "execution_count": null,
   "metadata": {},
   "outputs": [],
   "source": [
    "results = trainer.evaluate()\n"
   ]
  },
  {
   "cell_type": "code",
   "execution_count": null,
   "metadata": {},
   "outputs": [],
   "source": []
  },
  {
   "cell_type": "code",
   "execution_count": null,
   "metadata": {},
   "outputs": [],
   "source": []
  }
 ],
 "metadata": {
  "kernelspec": {
   "display_name": ".venv",
   "language": "python",
   "name": "python3"
  },
  "language_info": {
   "codemirror_mode": {
    "name": "ipython",
    "version": 3
   },
   "file_extension": ".py",
   "mimetype": "text/x-python",
   "name": "python",
   "nbconvert_exporter": "python",
   "pygments_lexer": "ipython3",
   "version": "3.10.0"
  }
 },
 "nbformat": 4,
 "nbformat_minor": 2
}
