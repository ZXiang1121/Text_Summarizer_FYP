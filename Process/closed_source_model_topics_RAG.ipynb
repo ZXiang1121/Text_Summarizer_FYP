{
 "cells": [
  {
   "cell_type": "markdown",
   "metadata": {},
   "source": [
    "# Retrieval Augmented Generation (RAG) CHATBOT with BBC News\n",
    "\n",
    "\n",
    "\n",
    "\n",
    "**Retrieval Augmented Generation, or RAG** for short, is a technique used to improve the accuracy and reliability of large language models (LLMs) like me. Here's the basic idea:\n",
    "\n",
    "Imagine LLMs as judges: They have some general understanding of the world based on their training data, but sometimes they need specific expertise for complex cases. Just like judges consult law libraries, RAG allows LLMs to access external knowledge sources for factual grounding.\n",
    "\n",
    "How it works:\n",
    "\n",
    "1. **Retrieval**: When you ask me a question, RAG first uses an information retrieval component to find relevant information from an external knowledge base. This could be a website, a document library, or even a custom database.\n",
    "\n",
    "2. **Augmentation**: Then, it combines the information retrieved with your original question and feeds it to the LLM.\n",
    "\n",
    "3. **Generation**: The LLM, now armed with both its internal knowledge and the retrieved facts, generates a response that's more likely to be accurate and reliable.\n",
    "\n",
    "\n",
    "\n",
    "Benefits of RAG:\n",
    "\n",
    "- **Factual consistency**: LLMs can be prone to making up facts or relying on outdated information. RAG ensures answers are based on current, reliable sources.\n",
    "\n",
    "- **Transparency**: RAG often provides links to the sources used, allowing you to verify the information yourself.\n",
    "\n",
    "- **Adaptability**: RAG can be applied to various LLMs and knowledge bases, making it a versatile tool.\n",
    "\n",
    "\n",
    "Limitations of RAG:\n",
    "\n",
    "- **Data quality**: The quality of RAG outputs depends on the quality of the knowledge base used.\n",
    "\n",
    "- **Computational cost**: Adding an information retrieval step can increase the computational cost of generating responses."
   ]
  },
  {
   "cell_type": "markdown",
   "metadata": {},
   "source": [
    "#### Install & Import Necessary Libraries"
   ]
  },
  {
   "cell_type": "code",
   "execution_count": 1,
   "metadata": {},
   "outputs": [],
   "source": [
    "# !pip install chromadb\n",
    "# %pip install --upgrade --quiet  langchain-google-genai"
   ]
  },
  {
   "cell_type": "code",
   "execution_count": 1,
   "metadata": {},
   "outputs": [
    {
     "name": "stderr",
     "output_type": "stream",
     "text": [
      "c:\\Users\\Zhang Xiang\\Desktop\\Year 3\\Sem 2\\FYPJ\\Project\\RD_TextSummarizerForWebinar\\Development\\.venv\\lib\\site-packages\\tqdm\\auto.py:21: TqdmWarning: IProgress not found. Please update jupyter and ipywidgets. See https://ipywidgets.readthedocs.io/en/stable/user_install.html\n",
      "  from .autonotebook import tqdm as notebook_tqdm\n"
     ]
    }
   ],
   "source": [
    "import os\n",
    "import time\n",
    "import sys\n",
    "import pandas as pd\n",
    "import numpy as np\n",
    "\n",
    "\n",
    "# import nltk\n",
    "# nltk.download('punkt')\n",
    "# nltk.download('stopwords')\n",
    "# from nltk.corpus import stopwords\n",
    "# from nltk.probability import FreqDist\n",
    "# from nltk.tokenize import word_tokenize, sent_tokenize\n",
    "\n",
    "import google.generativeai as genai\n",
    "import langchain_google_genai\n",
    "from langchain_google_genai import GoogleGenerativeAIEmbeddings\n",
    "from langchain_google_genai.chat_models import ChatGoogleGenerativeAI\n",
    "from langchain_google_genai import GoogleGenerativeAI\n",
    "\n",
    "\n",
    "from langchain.chat_models import ChatOpenAI\n",
    "from langchain.text_splitter import RecursiveCharacterTextSplitter\n",
    "from langchain.schema import (\n",
    "    SystemMessage,\n",
    "    HumanMessage,\n",
    "    AIMessage\n",
    ")\n",
    "\n",
    "from chromadb.errors import InvalidDimensionException\n",
    "\n",
    "from langchain.vectorstores import Chroma\n",
    "from langchain.embeddings import OpenAIEmbeddings\n",
    "from langchain.chains import RetrievalQA, ConversationalRetrievalChain\n",
    "\n",
    "\n",
    "sys.path.append('../')\n",
    "from helper.SummarizationMetrics import SummarizationMetrics\n",
    "from helper.chatgpt_automation import ChatGPTAutomation, split_text_into_chunks\n",
    "from helper.bard_automation import BardAutomation, split_text_into_chunks\n"
   ]
  },
  {
   "cell_type": "markdown",
   "metadata": {},
   "source": [
    "#### Load Dataset"
   ]
  },
  {
   "cell_type": "code",
   "execution_count": 5,
   "metadata": {},
   "outputs": [
    {
     "data": {
      "text/html": [
       "<div>\n",
       "<style scoped>\n",
       "    .dataframe tbody tr th:only-of-type {\n",
       "        vertical-align: middle;\n",
       "    }\n",
       "\n",
       "    .dataframe tbody tr th {\n",
       "        vertical-align: top;\n",
       "    }\n",
       "\n",
       "    .dataframe thead th {\n",
       "        text-align: right;\n",
       "    }\n",
       "</style>\n",
       "<table border=\"1\" class=\"dataframe\">\n",
       "  <thead>\n",
       "    <tr style=\"text-align: right;\">\n",
       "      <th></th>\n",
       "      <th>File_path</th>\n",
       "      <th>Articles</th>\n",
       "      <th>Summaries</th>\n",
       "      <th>transcript</th>\n",
       "      <th>summary</th>\n",
       "    </tr>\n",
       "  </thead>\n",
       "  <tbody>\n",
       "    <tr>\n",
       "      <th>0</th>\n",
       "      <td>business</td>\n",
       "      <td>Cuba winds back economic clock..Fidel Castro's...</td>\n",
       "      <td>Fidel Castro's decision to ban all cash transa...</td>\n",
       "      <td>Cuba winds back economic clock..Fidel Castro's...</td>\n",
       "      <td>Fidel Castro's decision to ban all cash transa...</td>\n",
       "    </tr>\n",
       "    <tr>\n",
       "      <th>1</th>\n",
       "      <td>politics</td>\n",
       "      <td>Blair looks to election campaign..Tony Blair's...</td>\n",
       "      <td>There was little in terms of concrete proposal...</td>\n",
       "      <td>Blair looks to election campaign..Tony Blair's...</td>\n",
       "      <td>There was little in terms of concrete proposal...</td>\n",
       "    </tr>\n",
       "    <tr>\n",
       "      <th>2</th>\n",
       "      <td>entertainment</td>\n",
       "      <td>New York rockers top talent poll..New York ele...</td>\n",
       "      <td>New York electro-rock group The Bravery have c...</td>\n",
       "      <td>New York rockers top talent poll..New York ele...</td>\n",
       "      <td>New York electro-rock group The Bravery have c...</td>\n",
       "    </tr>\n",
       "    <tr>\n",
       "      <th>3</th>\n",
       "      <td>politics</td>\n",
       "      <td>Terror suspects face house arrest..UK citizens...</td>\n",
       "      <td>British citizens are being included in the cha...</td>\n",
       "      <td>Terror suspects face house arrest..UK citizens...</td>\n",
       "      <td>British citizens are being included in the cha...</td>\n",
       "    </tr>\n",
       "    <tr>\n",
       "      <th>4</th>\n",
       "      <td>politics</td>\n",
       "      <td>'No more concessions' on terror..Charles Clark...</td>\n",
       "      <td>On Monday, MPs voted 272-219 in favour of the ...</td>\n",
       "      <td>'No more concessions' on terror..Charles Clark...</td>\n",
       "      <td>On Monday, MPs voted 272-219 in favour of the ...</td>\n",
       "    </tr>\n",
       "  </tbody>\n",
       "</table>\n",
       "</div>"
      ],
      "text/plain": [
       "       File_path                                           Articles  \\\n",
       "0       business  Cuba winds back economic clock..Fidel Castro's...   \n",
       "1       politics  Blair looks to election campaign..Tony Blair's...   \n",
       "2  entertainment  New York rockers top talent poll..New York ele...   \n",
       "3       politics  Terror suspects face house arrest..UK citizens...   \n",
       "4       politics  'No more concessions' on terror..Charles Clark...   \n",
       "\n",
       "                                           Summaries  \\\n",
       "0  Fidel Castro's decision to ban all cash transa...   \n",
       "1  There was little in terms of concrete proposal...   \n",
       "2  New York electro-rock group The Bravery have c...   \n",
       "3  British citizens are being included in the cha...   \n",
       "4  On Monday, MPs voted 272-219 in favour of the ...   \n",
       "\n",
       "                                          transcript  \\\n",
       "0  Cuba winds back economic clock..Fidel Castro's...   \n",
       "1  Blair looks to election campaign..Tony Blair's...   \n",
       "2  New York rockers top talent poll..New York ele...   \n",
       "3  Terror suspects face house arrest..UK citizens...   \n",
       "4  'No more concessions' on terror..Charles Clark...   \n",
       "\n",
       "                                             summary  \n",
       "0  Fidel Castro's decision to ban all cash transa...  \n",
       "1  There was little in terms of concrete proposal...  \n",
       "2  New York electro-rock group The Bravery have c...  \n",
       "3  British citizens are being included in the cha...  \n",
       "4  On Monday, MPs voted 272-219 in favour of the ...  "
      ]
     },
     "execution_count": 5,
     "metadata": {},
     "output_type": "execute_result"
    }
   ],
   "source": [
    "df = pd.read_excel(\"../Data/newsbbc_train.xlsx\")\n",
    "\n",
    "df.head()\n"
   ]
  },
  {
   "cell_type": "code",
   "execution_count": 6,
   "metadata": {},
   "outputs": [
    {
     "data": {
      "text/plain": [
       "File_path\n",
       "business         5\n",
       "politics         5\n",
       "entertainment    5\n",
       "sport            5\n",
       "tech             5\n",
       "Name: count, dtype: int64"
      ]
     },
     "execution_count": 6,
     "metadata": {},
     "output_type": "execute_result"
    }
   ],
   "source": [
    "bbc_train_df = df.groupby('File_path').head(5)\n",
    "bbc_train_df['File_path'].value_counts()"
   ]
  },
  {
   "cell_type": "code",
   "execution_count": 7,
   "metadata": {},
   "outputs": [
    {
     "data": {
      "text/plain": [
       "(25, 5)"
      ]
     },
     "execution_count": 7,
     "metadata": {},
     "output_type": "execute_result"
    }
   ],
   "source": [
    "bbc_train_df.shape"
   ]
  },
  {
   "cell_type": "markdown",
   "metadata": {},
   "source": [
    "##### Get API KEY"
   ]
  },
  {
   "cell_type": "code",
   "execution_count": 8,
   "metadata": {},
   "outputs": [],
   "source": [
    "from os import environ\n",
    "\n",
    "from dotenv import load_dotenv\n",
    "\n",
    "load_dotenv(\".env\", override=True)\n",
    "openai_api_key = environ.get(\"OPENAI_API_KEY\")\n",
    "gcp_api_key = environ.get(\"GCP_API_KEY\")"
   ]
  },
  {
   "cell_type": "code",
   "execution_count": 9,
   "metadata": {},
   "outputs": [],
   "source": [
    "# Test embedding Model\n",
    "# from langchain_google_genai import GoogleGenerativeAIEmbeddings\n",
    "# embeddings = GoogleGenerativeAIEmbeddings(model=\"models/embedding-001\", google_api_key=gcp_api_key)\n",
    "# vector = embeddings.embed_query(\"hello, world!\")\n",
    "# vector[:5]"
   ]
  },
  {
   "cell_type": "markdown",
   "metadata": {},
   "source": [
    "##### Define OpenAI Models"
   ]
  },
  {
   "cell_type": "code",
   "execution_count": 10,
   "metadata": {},
   "outputs": [
    {
     "data": {
      "text/html": [
       "<div>\n",
       "<style scoped>\n",
       "    .dataframe tbody tr th:only-of-type {\n",
       "        vertical-align: middle;\n",
       "    }\n",
       "\n",
       "    .dataframe tbody tr th {\n",
       "        vertical-align: top;\n",
       "    }\n",
       "\n",
       "    .dataframe thead th {\n",
       "        text-align: right;\n",
       "    }\n",
       "</style>\n",
       "<table border=\"1\" class=\"dataframe\">\n",
       "  <thead>\n",
       "    <tr style=\"text-align: right;\">\n",
       "      <th></th>\n",
       "      <th>models</th>\n",
       "      <th>max_tokens</th>\n",
       "    </tr>\n",
       "  </thead>\n",
       "  <tbody>\n",
       "    <tr>\n",
       "      <th>0</th>\n",
       "      <td>gpt-3.5-turbo-0125</td>\n",
       "      <td>16385</td>\n",
       "    </tr>\n",
       "  </tbody>\n",
       "</table>\n",
       "</div>"
      ],
      "text/plain": [
       "               models  max_tokens\n",
       "0  gpt-3.5-turbo-0125       16385"
      ]
     },
     "execution_count": 10,
     "metadata": {},
     "output_type": "execute_result"
    }
   ],
   "source": [
    "openai_models = {\n",
    "    \"models\": [\n",
    "        \"gpt-3.5-turbo-0125\",\n",
    "        # \"gpt-3.5-turbo-1106\",\n",
    "        # \"gpt-4\",\n",
    "        # \"gpt-4-1106-preview\"\n",
    "    ],\n",
    "    \"max_tokens\": [\n",
    "        16385,\n",
    "        # 16385,\n",
    "        # 8192,\n",
    "        # 128000,\n",
    "\n",
    "    ]\n",
    "}\n",
    "\n",
    "df_openai_models = pd.DataFrame(openai_models)\n",
    "df_openai_models"
   ]
  },
  {
   "cell_type": "code",
   "execution_count": 11,
   "metadata": {},
   "outputs": [
    {
     "data": {
      "text/html": [
       "<div>\n",
       "<style scoped>\n",
       "    .dataframe tbody tr th:only-of-type {\n",
       "        vertical-align: middle;\n",
       "    }\n",
       "\n",
       "    .dataframe tbody tr th {\n",
       "        vertical-align: top;\n",
       "    }\n",
       "\n",
       "    .dataframe thead th {\n",
       "        text-align: right;\n",
       "    }\n",
       "</style>\n",
       "<table border=\"1\" class=\"dataframe\">\n",
       "  <thead>\n",
       "    <tr style=\"text-align: right;\">\n",
       "      <th></th>\n",
       "      <th>model</th>\n",
       "      <th>method</th>\n",
       "      <th>max_tokens</th>\n",
       "      <th>topic</th>\n",
       "      <th>num_tokens</th>\n",
       "      <th>transcript</th>\n",
       "      <th>original summary</th>\n",
       "      <th>summary</th>\n",
       "      <th>grammar</th>\n",
       "      <th>readability</th>\n",
       "      <th>rouge</th>\n",
       "      <th>bert_score</th>\n",
       "      <th>time_taken</th>\n",
       "      <th>prompt</th>\n",
       "      <th>temperature</th>\n",
       "    </tr>\n",
       "  </thead>\n",
       "  <tbody>\n",
       "  </tbody>\n",
       "</table>\n",
       "</div>"
      ],
      "text/plain": [
       "Empty DataFrame\n",
       "Columns: [model, method, max_tokens, topic, num_tokens, transcript, original summary, summary, grammar, readability, rouge, bert_score, time_taken, prompt, temperature]\n",
       "Index: []"
      ]
     },
     "execution_count": 11,
     "metadata": {},
     "output_type": "execute_result"
    }
   ],
   "source": [
    "df_scores = pd.DataFrame(columns=['model', 'method', 'max_tokens', 'topic' ,'num_tokens' ,'transcript', 'original summary' ,'summary', 'grammar', 'readability', 'rouge', 'bert_score', 'time_taken', 'prompt', 'temperature'])\n",
    "df_scores\n",
    "\n",
    "# df_scores.to_excel(\"closed_source_model_rag_comparison.xlsx\", index=False)\n",
    "\n",
    "# df_scores = pd.read_excel(\"./result/closed_source_model_rag_topic_comparison.xlsx\")\n",
    "# df_scores.shape"
   ]
  },
  {
   "cell_type": "code",
   "execution_count": 12,
   "metadata": {},
   "outputs": [
    {
     "name": "stdout",
     "output_type": "stream",
     "text": [
      "gpt-3.5-turbo-0125\n"
     ]
    },
    {
     "name": "stdout",
     "output_type": "stream",
     "text": [
      "Number of tokens: 762\n",
      "Cuba winds back economic clock..Fidel Castro's decision to ban all cash transactions in US dollars in Cuba has once more turned the spotlight on Cuba's ailing economy...All conversions between the US dollar and Cuba's \"convertible\" peso will from 8 November be subject to a 10% tax. Cuban citizens, who receive money from overseas, and foreign visitors, who change dollars in Cuba, will be affected. Critics of the measure argue that it is a step backwards, reflecting the Cuban president's desire to increase his control of the economy and to clamp down on private enterprise. In a live television broadcast announcing the measure, President Castro's chief aide said it was necessary because of the United States' increasing \"economic aggression\". \"The ten percent obligation applies exclusively to the dollar by virtue of the situation created by the new measures of the US government to suffocate our country,\" he said...The Bush administration has taken an increasingly harsh line on Cuba in recent months. President Bush's government, which has been a strong supporter of the 40-year-old trade embargo on Cuba, introduced even tighter restrictions on Cuba in May...Cubans living in the US are now limited to one visit to Cuba every three years and they can only send money to their immediate relatives. A leading expert on the Cuban economy says that Castro's tax plan smacks more of a desperate economic measure than a political gesture. \"I think it is primarily an effort to raise some cash,\" says Jose Barrionuevo, head of strategy for Latin American emerging markets for Barclays Capital. \"It underscores the fact that the economy is in very bad shape and the government is looking for sources of revenue.\"..The tax will hit the families of Cuban exiles hardest as they benefit from the money their displaced relatives send home. This money, known as remittances, can amount to as much as $1bn a year. Those remaining in Cuba will have to pay the tax. Their relatives abroad may choose to send money in other currencies which are not subject to the tax, such as euros, or increase their dollar payments to compensate. However, many of Cuban's poorest citizens could be worse off as a result. The tax will also affect the two million tourists who visit Cuba every year, particularly those Americans who continue to defy a ban on travel there...Cuba's tourist industry has been one of its few economic success stories over the last ten years and, according to the UN Economic Commission for Latin America, is now worth $3bn to the country...The tax is designed to provide much-needed revenue for Cuba's cash-strapped economy. Cuba badly needs dollars to pay for essential items such as food, fuel and medicine. Much of Cuba's basic infrastructure is in a state of disrepair. In recent weeks, Cuba has suffered its most serious power cuts in a decade and there have also been water shortages in parts of the island. Cuba's economy had staged a modest recovery during the mid 1990s as the collapse of the Soviet Union forced it to embrace foreign capital, decentralise trade and permit limited private enterprise. However, a decline in foreign tourism since 2002, periodic hurricanes and the increasing costs of importing oil have put a strain on the economy. It has however yet to be seen if the tax will provide a solution to the government's economic problems. The tax could fuel an active black market in currency trading, Mr Barrionuevo said. \"The main impact could be that it will create a black market which you typically see in countries, like Venezuela, which have restrictions on capital,\" he says. Mr Barrioneuvo says the measure could be dropped if it has a damaging effect on economic activity. \"It is intended to be a permanent measure but I am not sure it can last too long.\"\n",
      "Cuba has implemented a 10% tax on US dollar conversions to Cuban pesos, affecting Cuban citizens and tourists. The tax aims to raise revenue for the struggling economy, but critics see it as a step back in economic progress. The tax may lead to a black market in currency trading and its long-term effectiveness remains uncertain.\n"
     ]
    },
    {
     "name": "stderr",
     "output_type": "stream",
     "text": [
      "Some weights of RobertaModel were not initialized from the model checkpoint at roberta-large and are newly initialized: ['roberta.pooler.dense.weight', 'roberta.pooler.dense.bias']\n",
      "You should probably TRAIN this model on a down-stream task to be able to use it for predictions and inference.\n"
     ]
    },
    {
     "name": "stdout",
     "output_type": "stream",
     "text": [
      "calculating scores...\n",
      "computing bert embedding.\n"
     ]
    },
    {
     "name": "stderr",
     "output_type": "stream",
     "text": [
      "100%|██████████| 1/1 [00:01<00:00,  1.60s/it]\n"
     ]
    },
    {
     "name": "stdout",
     "output_type": "stream",
     "text": [
      "computing greedy matching.\n"
     ]
    },
    {
     "name": "stderr",
     "output_type": "stream",
     "text": [
      "100%|██████████| 1/1 [00:00<00:00, 498.49it/s]\n"
     ]
    },
    {
     "name": "stdout",
     "output_type": "stream",
     "text": [
      "done in 1.61 seconds, 0.62 sentences/sec\n"
     ]
    },
    {
     "name": "stderr",
     "output_type": "stream",
     "text": [
      "C:\\Users\\Zhang Xiang\\AppData\\Local\\Temp\\ipykernel_23480\\4074984934.py:82: FutureWarning: The behavior of DataFrame concatenation with empty or all-NA entries is deprecated. In a future version, this will no longer exclude empty or all-NA columns when determining the result dtypes. To retain the old behavior, exclude the relevant entries before the concat operation.\n",
      "  df_scores = pd.concat([df_scores, new_row], ignore_index=True)\n"
     ]
    },
    {
     "name": "stdout",
     "output_type": "stream",
     "text": [
      "Number of tokens: 702\n",
      "Blair looks to election campaign..Tony Blair's big speech will be looked back on as the performance that kicked off the election campaign...That poll may still be about 16 weeks away, but there can be little doubt left that the campaign is now in full swing. The prime minister used his speech to a selected audience in the south east to set out his broad brush election manifesto. There was a detailed account of the government's past record, with a major emphasis on the economy and public services. There was an attempt to draw the line under the gossip surrounding his rift with Chancellor Gordon Brown. And there was an insistence on the importance of the party continuing to operate as unremittingly \"New\" Labour - although that may continue to irritate his chancellor...There was little in terms of concrete proposals or what might form manifesto pledges, although the prime minister talked about a \"New Labour manifesto that will be aimed at all sections of society\". His was more a speech designed to remind people, and some in his own party, precisely what New Labour stood for, and to leave them in no doubt there would not be any shrinking away from that approach. And, for some, that means showing that New Labour actually does stand for something - that it is, as he said, more than \"an electoral device\"...To that end he set out a broad programme aimed to appeal to both middle England voters who switched to the party in 1997 and stuck with it, possibly through some gritted teeth, in 2001, and to more traditional lower income old Labour supporters. In a key section, he declared: \"In our third term we can achieve an unprecedented widening of opportunity and prosperity. \"For the first time ever a whole generation growing up with unbroken economic stability. Every family - not just the fortunate few - knowing their children will have an inheritance at adulthood. \"Every pupil in every secondary school guaranteed a place in university or a quality apprenticeship. Every adult - including those who missed out at school - able to get the skills then need to advance. \"Home ownership extended to its highest ever level and to families who have never before been able to afford it. \"The highest ever level of employment with everyone in work guaranteed a decent wage and decent conditions\"...Under what is to be the general election slogan \"Britain is working\", the prime minister time and again insisted the future direction would be unremittingly New Labour. That might get under the skin of Mr Brown, but he also heaped praise on him as the most successful post-war chancellor Britain has had. Probably the greatest ideological divide between the two men, in so far as there is one, is about the degree of private finance allowed into the public services...An unremittingly \"New\" Labour manifesto, as the prime minister is happy to make plain, will stress the importance of that - the belief patients and parents, for example, want a choice of good services before they start worrying about who has provided them. The chancellor is said to be far more sceptical about private finance, although there is no suggestion he opposes it in principle. With an election looming the next big speech from Gordon Brown will be closely examined for any signs of divisions and, in particular, the use of that little three letter word. But for now, all eyes have been focused on the next general election. And for many in Westminster, Mr Blair's performance has only succeeded in hardening the belief that will be on 5 May.\n",
      "Tony Blair's recent speech marked the beginning of the election campaign, emphasizing New Labour's values and goals. He highlighted achievements in the economy and public services, aimed to appeal to various voter groups, and stressed the importance of continuing as New Labour. The upcoming election is expected to take place on May 5th, with a focus on New Labour's vision for the future.\n"
     ]
    },
    {
     "name": "stderr",
     "output_type": "stream",
     "text": [
      "Some weights of RobertaModel were not initialized from the model checkpoint at roberta-large and are newly initialized: ['roberta.pooler.dense.weight', 'roberta.pooler.dense.bias']\n",
      "You should probably TRAIN this model on a down-stream task to be able to use it for predictions and inference.\n"
     ]
    },
    {
     "name": "stdout",
     "output_type": "stream",
     "text": [
      "calculating scores...\n",
      "computing bert embedding.\n"
     ]
    },
    {
     "name": "stderr",
     "output_type": "stream",
     "text": [
      "100%|██████████| 1/1 [00:01<00:00,  1.86s/it]\n"
     ]
    },
    {
     "name": "stdout",
     "output_type": "stream",
     "text": [
      "computing greedy matching.\n"
     ]
    },
    {
     "name": "stderr",
     "output_type": "stream",
     "text": [
      "100%|██████████| 1/1 [00:00<00:00, 499.98it/s]\n",
      "c:\\Users\\Zhang Xiang\\Desktop\\Year 3\\Sem 2\\FYPJ\\Project\\RD_TextSummarizerForWebinar\\Development\\.venv\\lib\\site-packages\\nltk\\translate\\bleu_score.py:552: UserWarning: \n",
      "The hypothesis contains 0 counts of 4-gram overlaps.\n",
      "Therefore the BLEU score evaluates to 0, independently of\n",
      "how many N-gram overlaps of lower order it contains.\n",
      "Consider using lower n-gram order or use SmoothingFunction()\n",
      "  warnings.warn(_msg)\n"
     ]
    },
    {
     "name": "stdout",
     "output_type": "stream",
     "text": [
      "done in 1.86 seconds, 0.54 sentences/sec\n",
      "Number of tokens: 718\n",
      "New York rockers top talent poll..New York electro-rock group The Bravery have come top of the BBC News website's Sound of 2005 poll to find the music scene's most promising new act...The Bravery, who have been compared to The Cure and New Order, were the most heavily-tipped act in the survey of 110 impartial critics and broadcasters. Rock band Keane won Sound of 2004 while US rapper 50 Cent topped Sound of 2003. Other new artists in this year's list include London indie group Bloc Party at second and UK rapper Kano third. The Bravery played their first gig in 2003 and have since supported bands including The Libertines, Interpol and Echo and the Bunnymen...They were the subject of a record company bidding war in 2004 and their debut single, Unconditional, caused a huge buzz when it was released in the UK in November. Singer Sam Endicott said he felt \"great\" about coming top of the Sound of 2005 list. \"Anyone that says they don't want a zillion screaming fans is a jackass, a liar,\" he said. One of the experts to tip The Bravery was The Times' music critic Paul Connolly, who said they were \"spiky but in love with pop\". Chris Hawkins, host of BBC 6 Music's chart show, said the band had \"great guitars and a mastery of the electro-clash sound\". \"The Bravery are proof alone that New York City is still home to hot new talent,\" he said. Nigel Harding, head of music at London rock radio station Xfm, said every track from their live set \"sounded like a potential single\"...Unconditional reached the summit of the station's listeners' chart within a fortnight of its first play, which Mr Harding described as \"an unheard of achievement for a debut single\"...Q magazine reviews editor Ted Kessler said they were \"pretty-boy New York clothes horses\" with \"an unusually nimble ear for concise, yearning pop in the mould of Duran Duran or The Strokes\". Other pundits to take part in the survey included BBC Radio 1 DJ Trevor Nelson, NME editor Conor McNicholas, Top of the Pops presenter Fearne Cotton, Glastonbury organiser Emily Eavis and BBC Radio 2 music editor Colin Martin. Elsewhere on the top 10, second-placed rock band Bloc Party began their rise after supporting Franz Ferdinand and UK garage MC Kano, in third, is signed to The Streets' record label. US rapper The Game is hip-hop great Dr Dre's latest protege while Leeds group Kaiser Chiefs came fifth with a promise to lead a Britpop revival. In last year's survey, Keane were followed by Franz Ferdinand, Razorlight and Joss Stone in the top five - all of whom were virtually unknown outside the music industry at that point...Boy band McFly were sixth while Scissor Sisters, who had the UK's best-selling album of 2004, were seventh. In the survey, the pundits were asked for tips for three acts they thought were capable of reaching the top in their chosen genre, either in terms of sales or critical acclaim. The artists could be from any country and any musical genre, but must not have had a UK top 20 single, been a contestant on a TV talent show or already be famous for doing something else, such as a soap actor. Those tips were then counted and compiled to make the top 10.\n",
      "The Bravery, a New York electro-rock group, topped the BBC News website's Sound of 2005 poll as the most promising new act. They have been compared to The Cure and New Order, and their debut single \"Unconditional\" created a buzz. Other notable artists in the top 10 included Bloc Party and Kano. The survey involved 110 critics and broadcasters, with The Bravery receiving high praise for their electro-clash sound and potential for success.\n"
     ]
    },
    {
     "name": "stderr",
     "output_type": "stream",
     "text": [
      "Some weights of RobertaModel were not initialized from the model checkpoint at roberta-large and are newly initialized: ['roberta.pooler.dense.weight', 'roberta.pooler.dense.bias']\n",
      "You should probably TRAIN this model on a down-stream task to be able to use it for predictions and inference.\n"
     ]
    },
    {
     "name": "stdout",
     "output_type": "stream",
     "text": [
      "calculating scores...\n",
      "computing bert embedding.\n"
     ]
    },
    {
     "name": "stderr",
     "output_type": "stream",
     "text": [
      "100%|██████████| 1/1 [00:01<00:00,  1.32s/it]\n"
     ]
    },
    {
     "name": "stdout",
     "output_type": "stream",
     "text": [
      "computing greedy matching.\n"
     ]
    },
    {
     "name": "stderr",
     "output_type": "stream",
     "text": [
      "100%|██████████| 1/1 [00:00<00:00, 500.10it/s]\n"
     ]
    },
    {
     "name": "stdout",
     "output_type": "stream",
     "text": [
      "done in 1.33 seconds, 0.75 sentences/sec\n",
      "Number of tokens: 671\n",
      "Terror suspects face house arrest..UK citizens suspected of involvement in terrorism could face house arrest as part of a series of new measures outlined by the home secretary...It comes after law lords ruled that the detention of 12 foreign terror suspects without trial breached human rights. Charles Clarke's planned \"control orders\" mean anyone suspected of being involved in terrorism could be subject to house arrest, curfews or tagging. The Law Society dubbed Mr Clarke's new proposals an \"abuse of power\". Deals are already being sought to deport some of the foreign detainees who are mainly held in Belmarsh Prison in London under the current laws introduced after the US terror attacks on 11 September 2001. Mr Clarke said efforts would continue to deport them to their countries of origin Algeria, Tunisia, Egypt and Jordan without them facing torture or death...Under the proposed changes - prompted by the House of Lords ruling - the home secretary could order British citizens or foreign suspects who could not be deported, to face house arrest or other measures such as restrictions on their movements or limits on their use of telephones and the internet...British citizens are being included in the changes after the law lords said the current powers were discriminatory because they could only be used on foreign suspects. Mr Clarke also said intelligence reports showed some British nationals were now playing a more significant role in terror threats. Human rights lawyer Clive Stafford-Smith said the plans were a \"further abuse of human rights in Britain\"...Mr Clarke said prosecutions were the government's first preference and promised the powers would only be used in \"serious\" cases, with independent scrutiny from judges...He told MPs: \"There remains a public emergency threatening the life of the nation.\" He accepted the law lords' ruling but argued detention powers had helped prevent attacks and deter terrorists. The current detainees would not be freed until the new powers were in place as they were still considered a national security threat, he told MPs...There have been calls for the rules for wire-tap and intercept evidence to be allowed to be used in courts but Mr Clarke refused to back that change...He said intercept evidence was only a small part of the case against the men and some of it could not be used because it could put sources' lives at risk. Most of the terror suspects are being held indefinitely at Belmarsh prison, in London. Conservative shadow home secretary David Davis was worried about extending special powers to cover British citizens. He warned: \"Throughout history, internment has generally backfired because of the resentment it creates. \"So unless the process is clearly just, the home secretary could find himself confining one known terrorist only to recruit 10 unknown terrorists.\" He suggested changing the law to let security-cleared judges view evidence gathered by phone-tapping could allow more terror cases to come to court...Liberal Democrat spokesman Mark Oaten also backed use of wire-tap evidence. He said the standard of proof for the new powers would have to be \"very high indeed\" and he asked whether ministers had looked at measures which fitted with human rights laws. Shami Chakrabarti, from human rights group Liberty, joined calls for intercept evidence to be allowed in trials. She said: \"Adherence to the rule of law should not be a game of cat and mouse. The government should not swap one human rights 'opt out' for another.\"\n",
      "The UK government is considering new measures, including house arrest, for citizens suspected of terrorism following a ruling that detaining foreign suspects without trial violated human rights. The proposed \"control orders\" could also involve curfews, tagging, and restrictions on movement, phones, and internet use. Efforts are being made to deport some foreign detainees. Critics argue the plans are an abuse of power and could lead to further human rights violations. There are calls for allowing wire-tap evidence in trials, but the Home Secretary has not backed this change.\n"
     ]
    },
    {
     "name": "stderr",
     "output_type": "stream",
     "text": [
      "Some weights of RobertaModel were not initialized from the model checkpoint at roberta-large and are newly initialized: ['roberta.pooler.dense.weight', 'roberta.pooler.dense.bias']\n",
      "You should probably TRAIN this model on a down-stream task to be able to use it for predictions and inference.\n"
     ]
    },
    {
     "name": "stdout",
     "output_type": "stream",
     "text": [
      "calculating scores...\n",
      "computing bert embedding.\n"
     ]
    },
    {
     "name": "stderr",
     "output_type": "stream",
     "text": [
      "100%|██████████| 1/1 [00:01<00:00,  1.80s/it]\n"
     ]
    },
    {
     "name": "stdout",
     "output_type": "stream",
     "text": [
      "computing greedy matching.\n"
     ]
    },
    {
     "name": "stderr",
     "output_type": "stream",
     "text": [
      "100%|██████████| 1/1 [00:00<00:00, 478.75it/s]\n",
      "c:\\Users\\Zhang Xiang\\Desktop\\Year 3\\Sem 2\\FYPJ\\Project\\RD_TextSummarizerForWebinar\\Development\\.venv\\lib\\site-packages\\nltk\\translate\\bleu_score.py:552: UserWarning: \n",
      "The hypothesis contains 0 counts of 4-gram overlaps.\n",
      "Therefore the BLEU score evaluates to 0, independently of\n",
      "how many N-gram overlaps of lower order it contains.\n",
      "Consider using lower n-gram order or use SmoothingFunction()\n",
      "  warnings.warn(_msg)\n"
     ]
    },
    {
     "name": "stdout",
     "output_type": "stream",
     "text": [
      "done in 1.81 seconds, 0.55 sentences/sec\n",
      "Number of tokens: 642\n",
      "'No more concessions' on terror..Charles Clarke says he has \"no desire\" to offer more concessions on his controversial anti-terror plans to get them on to the statute book...MPs voted in favour of the Prevention of Terrorism Bill after Mr Clarke agreed to key changes - but Labour's majority was reduced to 14. The Bill now faces opposition from peers angry at house arrest proposals. Lord Strathclyde, Tory leader in the Lords, said ministers should expect it to be \"substantially re-written\"...The Bill proposes \"control orders\", which as well as house arrest could impose curfews, tagging or bans on telephone and internet use. They would replace current powers to detain foreign terror suspects without trial, which the law lords have ruled against...On Monday, MPs voted 272-219 in favour of the Bill after key concessions from Mr Clarke. The government earlier saw its 161-strong majority cut to just 14 as a cross-party amendment was narrowly rejected by the Commons despite the support of 62 Labour rebels. Mr Clarke won over critics by announcing he would introduce an amendment in the Lords to ensure the most controversial control order, amounting to house arrest, would be imposed by judges and not politicians. Lord Strathclyde warned ministers that they should \"prepare themselves for substantial rewriting of various aspects of the Bill\". \"They should consider far more seriously the use of intercept evidence in any trial and I think they should drop the most objectionable proposals, which are for house arrest.\"..But Mr Clarke told BBC Radio 4's Today programme he believed the changes he had made to the Bill to win over critics in the Commons should be sufficient to satisfy colleagues in the Lords. \"No Bill goes through Parliament without detailed consideration being made, but I believe that what I announced yesterday will be sufficient to secure the agreement of the House of Lords,\" he said...\"I have no desire to make further so-called concessions on the Bill.\" Mr Clarke's proposed amendment will be debated by the Lords on Tuesday without having been considered by MPs. The debate is unlikely to result in a vote. Speaking after the Commons debate, shadow home secretary David Davies said the bill had been \"clearly very badly drawn-up\" and that the government was trying to rush it through too quickly. He said it would be possible to \"rescue\" the government and make the law \"tolerable\" by amending it in the Lords. \"The scope for miscarriages of justice is enormous,\" he told BBC News...Mark Oaten, for the Liberal Democrats, said Monday night's vote showed the government had \"lost the confidence of all sides of the House\". He said: \"They need to rethink the bill, and extend the power of a judge to decide on all control orders, build safeguards on evidence and create charges against suspects. \"Unless there is a major movement, this bill is doomed to fail.\"..BBC News political editor Andrew Marr said: \"I think that this is a bill in deep trouble. It's been unravelling in the House of Commons - it may unravel further.\" The government wants the new bill to pass into law by 14 March, when the current powers expire.\n",
      "The Prevention of Terrorism Bill, proposing control orders including house arrest, faced opposition in the House of Lords despite concessions made by Charles Clarke. MPs narrowly passed the bill, but concerns remain about potential miscarriages of justice. The government aims to pass the bill by 14 March, but it faces significant challenges in the Lords.\n"
     ]
    },
    {
     "name": "stderr",
     "output_type": "stream",
     "text": [
      "Some weights of RobertaModel were not initialized from the model checkpoint at roberta-large and are newly initialized: ['roberta.pooler.dense.weight', 'roberta.pooler.dense.bias']\n",
      "You should probably TRAIN this model on a down-stream task to be able to use it for predictions and inference.\n"
     ]
    },
    {
     "name": "stdout",
     "output_type": "stream",
     "text": [
      "calculating scores...\n",
      "computing bert embedding.\n"
     ]
    },
    {
     "name": "stderr",
     "output_type": "stream",
     "text": [
      "100%|██████████| 1/1 [00:01<00:00,  1.48s/it]\n"
     ]
    },
    {
     "name": "stdout",
     "output_type": "stream",
     "text": [
      "computing greedy matching.\n"
     ]
    },
    {
     "name": "stderr",
     "output_type": "stream",
     "text": [
      "100%|██████████| 1/1 [00:00<00:00, 332.33it/s]\n"
     ]
    },
    {
     "name": "stdout",
     "output_type": "stream",
     "text": [
      "done in 1.49 seconds, 0.67 sentences/sec\n",
      "Number of tokens: 634\n",
      "Howard denies split over ID cards..Michael Howard has denied his shadow cabinet was split over its decision to back controversial Labour plans to introduce ID cards...The Tory leader said his front bench team had reached a \"collective view\" after holding a \"good discussion\", but admitted it was \"not an easy issue\". He had decided to support the plans as the police said they would help fight terror, crime and illegal immigration. The Lib Dems have pledged to oppose the bill when it is debated next Monday...Tory sources say senior party figures had argued vociferously against the ID card scheme. Among those reported to have serious reservations over the strategy were senior shadow cabinet members David Davis, Oliver Letwin and Tim Yeo. But Mr Howard denied Mr Yeo, his transport and environment spokesman, said the plans \"stink\". He also said he was confident shadow home secretary Mr Davis would \"set out the position very clearly\" when he stands up to debate the matter next week. Mr Howard said the police had said ID cards could \"help them foil a terror bomb plot in which people could lose their lives\". He added: \"When the police say that you have to take them seriously\"...He acknowledged there were \"good libertarian arguments\" against the cards, but said the shadow Cabinet had weighed up all the \"conflicting interests\" before reaching its decision. \"I don't pretend that it is an easy decision but at the end of the day a decision has to be taken.\" He also denied he was afraid of looking \"soft\" on the issue, compared to Labour. The Conservatives announced their support for the government plans on Monday evening...Sources within the party told the BBC Mr Howard had always been in favour of ID cards, and tried to introduce them when he was Home Secretary. But the Tories insisted they would hold ministers to account over the precise purpose of the scheme...They said they would also press Labour over whether objectives could be met and whether the Home Office would be able to deliver them. And they pledged to assess the cost effectiveness of ID cards and whether people's privacy would be properly protected. \"It is important to remember that this bill will take a decade to come into full effect,\" a spokesman said. Lib Dem home affairs spokesman Mark Oaten has branded the ID scheme a waste of money and \"deeply flawed\". He said: \"This has all the signs of Michael Howard overruling colleagues' concerns over ID cards.\"..The chairman of the Bar Council, Guy Mansfield QC warned there was a real risk that people on the \"margins of society\" would be driven into the hands of extremists. \"What is going to happen to young Asian men when there has been a bomb gone off somewhere? They are going to be stopped. If they haven't [ID cards] they are going to be detained.\" Tory ex-minister Douglas Hogg said he opposed the plans for ID cards branding them a \"regressive\" step which would intrude into the lives of ordinary citizens without any counterbalancing benefits. He predicted ultimately carrying the cards would become compulsory and that would lead to large numbers of Britain's ethnic minorities being stopped by police.\n",
      "The Conservative Party, led by Michael Howard, has decided to support Labour's controversial plans to introduce ID cards despite some internal opposition. Howard emphasized the importance of the cards in fighting terror, crime, and illegal immigration, citing police support. The decision was made after a collective discussion within the shadow cabinet, acknowledging the complexity of the issue. The Liberal Democrats have pledged to oppose the bill. Critics, including some senior Tory figures, have raised concerns about privacy, cost-effectiveness, and potential discrimination against ethnic minorities.\n"
     ]
    },
    {
     "name": "stderr",
     "output_type": "stream",
     "text": [
      "Some weights of RobertaModel were not initialized from the model checkpoint at roberta-large and are newly initialized: ['roberta.pooler.dense.weight', 'roberta.pooler.dense.bias']\n",
      "You should probably TRAIN this model on a down-stream task to be able to use it for predictions and inference.\n"
     ]
    },
    {
     "name": "stdout",
     "output_type": "stream",
     "text": [
      "calculating scores...\n",
      "computing bert embedding.\n"
     ]
    },
    {
     "name": "stderr",
     "output_type": "stream",
     "text": [
      "100%|██████████| 1/1 [00:01<00:00,  1.57s/it]\n"
     ]
    },
    {
     "name": "stdout",
     "output_type": "stream",
     "text": [
      "computing greedy matching.\n"
     ]
    },
    {
     "name": "stderr",
     "output_type": "stream",
     "text": [
      "100%|██████████| 1/1 [00:00<00:00, 333.09it/s]\n"
     ]
    },
    {
     "name": "stdout",
     "output_type": "stream",
     "text": [
      "done in 1.58 seconds, 0.63 sentences/sec\n",
      "Number of tokens: 726\n",
      "Chelsea denied by James heroics..A brave defensive display, led by keeper David James, helped Manchester City hold the leaders Chelsea...After a quiet opening, James denied Damien Duff, Jiri Jarosik and Mateja Kezman, while Paul Bosvelt cleared William Gallas' header off the line. Robbie Fowler should have scored for the visitors but sent his header wide. Chelsea had most of the possession in the second half but James kept out Frank Lampard's free-kick and superbly tipped the same player's volley wide. City went into the game with the proud record of being the only domestic team to beat Chelsea this season. And there was little to alarm them in the first 30 minutes as Chelsea - deprived of Arjen Robben and Didier Drogba through injury - struggled to pose much of a threat. Indeed, it was the visitors who looked likelier to enliven a drab opening played at a lethargic pace. Shaun Wright-Phillips - watched by England boss Sven-Goran Eriksson - showed his customary trickery to burst into the right of the area and deliver a dangerous ball, which was blocked by John Terry. But Chelsea suddenly stepped up a gear and created a flurry of chances. First, Duff got round Ben Thatcher and blasted in a shot that James parried to Kezman, who turned the ball wide...Soon afterwards, Jarosik found space in the area to powerfully head Lampard's corner goalwards but James tipped the ball over. Chelsea were now looking more like Premiership leaders and James kept out Kezman's fierce drive before Bosvelt and James combined to clear Gallas' header from Duff's corner. City broke swiftly up the field and the last chance of a frenetic spell should have resulted in Fowler celebrating his 150th Premiership goal. Wright-Phillips raced down the left and crossed to Fowler but City's lone man up front, left free by Terry's slip, contrived to head wide when it seemed a breakthrough was certain. The second half started as quietly as the first, although James was forced to divert a cross from the lively Duff away from Eidur Gudjohnsen's path. There was a nasty moment for Petr Cech, looking for a ninth straight clean sheet in the league, when a series of ricochets saw Fowler chase a loose ball in the area and collide accidently with the Czech Republic stopper. Another quiet spell followed, which Duff interrupted with a surging run that was halted illegally on the edge of the penalty area by Bosvelt. Lampard stepped up to blast a shot through the wall and James somehow blocked it with his legs. Another timely challenge, this time from Richard Dunne in time added on, prevented Gudjohnsen from getting in a shot. There was still time for James to produce a sensational save to tip Lampard's volley round the post...Cech, Paulo Ferreira, Gallas, Terry, Bridge, Jarosik (Tiago 56), Lampard, Makelele, Duff, Gudjohnsen, Kezman (Cole 63)...Subs Not Used: Johnson, Smertin, Cudicini...Makelele, Gudjohnsen...James, Mills, Distin, Dunne, Thatcher, Shaun Wright-Phillips, Bosvelt, Barton, Sibierski (McManaman 85), Musampa, Fowler...Subs Not Used: Macken, Weaver, Onuoha, Jordan...Bosvelt...42,093..H Webb (S Yorkshire).\n",
      "Manchester City, led by goalkeeper David James, put on a brave defensive display to hold league leaders Chelsea to a draw. Despite Chelsea's dominance in possession, James made several crucial saves to deny Chelsea's attacking efforts, including stopping Lampard's free-kick and volley. Chelsea had multiple chances to score, but Fowler missed a key opportunity. The match ended in a goalless draw, with City maintaining their record as the only domestic team to beat Chelsea that season.\n"
     ]
    },
    {
     "name": "stderr",
     "output_type": "stream",
     "text": [
      "Some weights of RobertaModel were not initialized from the model checkpoint at roberta-large and are newly initialized: ['roberta.pooler.dense.weight', 'roberta.pooler.dense.bias']\n",
      "You should probably TRAIN this model on a down-stream task to be able to use it for predictions and inference.\n"
     ]
    },
    {
     "name": "stdout",
     "output_type": "stream",
     "text": [
      "calculating scores...\n",
      "computing bert embedding.\n"
     ]
    },
    {
     "name": "stderr",
     "output_type": "stream",
     "text": [
      "100%|██████████| 1/1 [00:01<00:00,  1.95s/it]\n"
     ]
    },
    {
     "name": "stdout",
     "output_type": "stream",
     "text": [
      "computing greedy matching.\n"
     ]
    },
    {
     "name": "stderr",
     "output_type": "stream",
     "text": [
      "100%|██████████| 1/1 [00:00<00:00, 500.51it/s]\n"
     ]
    },
    {
     "name": "stdout",
     "output_type": "stream",
     "text": [
      "done in 1.95 seconds, 0.51 sentences/sec\n",
      "Number of tokens: 753\n",
      "Guantanamo man 'suing government'..A British terror suspect held in Guantanamo Bay for 33 months plans to sue the government, it is reported...Martin Mubanga claimed in the Observer that an MI6 officer played a key role in consigning him to the US camp in Cuba, following his arrest in Zambia. Mr Mubanga, 32, from Wembley, London, said he was brutally interrogated and daubed with urine at the camp. The home secretary said he would not be launching an investigation and that the media reports were not \"well informed\". Mr Mubanga, who has dual British and Zambian nationality, was one of four Britons who were released from the US camp in January...He said he was sent there after being interrogated by a British man who said he was from MI6, shortly after his arrest in Zambia in March 2002. Mr Mubanga said he had been in Afghanistan and Pakistan to study Islam. But he said he was unable to return to the UK because he had lost his British passport, and was travelling on his Zambian passport instead. Mr Mubanga said the \"MI6 agent\" told him the passport had been found in a cave in Afghanistan along with documents listing Jewish groups in New York and suggested he had been on an al-Qaeda reconnaissance mission. Mr Mubanga said the man, and an American female defence official, tried to recruit him as an agent, but he refused and within three weeks was told he would be sent to Guantanamo Bay...His lawyer Louise Christian said: \"'We are hoping to issue proceedings for the misfeasance of officials who colluded with the Americans in effectively kidnapping him and taking him to Guantanamo.\" And Menzies Campbell, the Liberal Democrats' foreign affairs spokesman, said it was vital to establish whether ministers approved Mr Mubanga's transfer to Guantanamo. But a Foreign Office spokesman said he could not comment on the activities of British intelligence or security agencies. And Home Secretary Charles Clarke told BBC One's Breakfast with Frost: \"I'm not organising a specific investigation into it.\" Mr Mubanga is the first of the four detainees freed last month to give a media interview. He told the Observer his worst moment was when he was told he would be released last March, only to be confined and told he would be there for many more years...He claimed he was stripped of his clothes and mattress and forced to remain in an empty metal box, naked except for boxer shorts. And he said an interrogator used a mop to daub him with his own urine while he was chained hand and foot. Mr Mubanga, who insists he does not feel bitter, said: \"I've lost three years of my life, because I was a Muslim. He added: \"The authorities wanted to break me but they strengthened me. They've made me what I am - even if I'm not quite sure yet who that person is.\" The US government denied the claims, saying it condemned and prohibited torture. In a statement, it said: \"The Department of Defense has no doubt that Mr Mubanga was properly detained as an enemy combatant under the laws of war. \"He was detained to prevent him from fighting against the US and our allies in the war on terror.\" But Fair Trials Abroad director Stephen Jakobi said there were similarities between Mr Mubanga's account and those of other Guantanamo detainees. He said: \"The pattern is the same. The real problem is the concentration camp conditions in Guantanamo. \"Is [Charles Clarke] really pretending this is all made up?\" Mr Mubanga and the three other freed British detainees were released without charge by UK police on their return from Cuba.\n",
      "Martin Mubanga, a British terror suspect, plans to sue the government for his 33-month detention in Guantanamo Bay. He claims a British MI6 officer played a role in his transfer to the camp after his arrest in Zambia. Mubanga alleges brutal interrogation and mistreatment at the camp. The UK Home Secretary declined to investigate. Mubanga, released without charge, plans to sue officials for collusion. The US government denies torture allegations. Mubanga's story aligns with other detainees' experiences.\n"
     ]
    },
    {
     "name": "stderr",
     "output_type": "stream",
     "text": [
      "Some weights of RobertaModel were not initialized from the model checkpoint at roberta-large and are newly initialized: ['roberta.pooler.dense.weight', 'roberta.pooler.dense.bias']\n",
      "You should probably TRAIN this model on a down-stream task to be able to use it for predictions and inference.\n"
     ]
    },
    {
     "name": "stdout",
     "output_type": "stream",
     "text": [
      "calculating scores...\n",
      "computing bert embedding.\n"
     ]
    },
    {
     "name": "stderr",
     "output_type": "stream",
     "text": [
      "100%|██████████| 1/1 [00:02<00:00,  2.02s/it]\n"
     ]
    },
    {
     "name": "stdout",
     "output_type": "stream",
     "text": [
      "computing greedy matching.\n"
     ]
    },
    {
     "name": "stderr",
     "output_type": "stream",
     "text": [
      "100%|██████████| 1/1 [00:00<00:00, 499.32it/s]\n"
     ]
    },
    {
     "name": "stdout",
     "output_type": "stream",
     "text": [
      "done in 2.03 seconds, 0.49 sentences/sec\n",
      "Number of tokens: 875\n",
      "Could Yukos be a blessing in disguise?..Other things being equal, the notion of entrepreneurs languishing in jail while their companies are sold off for a song ought to be bad for business...But in the looking-glass world of modern Russia, the opposite might just be true, a new report* has argued. The study, from the Centre for Economic Policy Research, does not praise the rough handling of oil company Yukos. But it argues that more rigorous tax policing has benefited all Russian firms, even targets of the tax police. \"An increase in tax enforcement can increase the amount [of dividends and other income] outside shareholders will receive, even accounting for increased levels of taxation,\" the authors say...The paper's reasoning is complex, and is based on a sophisticated model of the relationship between tax regimes and corporate governance - in particular, the propensity of management to steal from the company. The calculations demonstrated what many Russian analysts already knew: that increasing the tax rate increases the amount that managers steal, since undeclared income becomes relatively more valuable. In the West, meanwhile, higher tax rates translate far more smoothly into higher government revenues. On the other hand, increasing the rigour with which taxes are collected encourages companies to become more transparent, forcing them to be able to demonstrate their financial position far more accurately. The net result, the authors say, is that the extra amount companies pay in tax is more than compensated for by greater efficiency and financial soundness...After Vladimir Putin became president in 2000, he did not raise taxes, but put a lot of effort - too much, critics argue - into enforcement...Since then, the Russian stock market has more than trebled in value, a rise the authors attribute at least in part to the newly tough approach. The report highlights the case of Sibneft, a Russian oil company that came close to merging with Yukos last year. After Mr Putin came to power, the company's overall effective tax rate rose from 2.6% to 10.4%, and Sibneft was the target of a series of aggressive raids by fiscal police. But shareholders benefited hugely: Sibneft started to pay dividends - $53m in 2000 and almost $1bn in 2001 - and closed down the network of opaque subsidiaries it had previously used for siphoning off unofficial funds. According to the authors, although a variety of changes were sweeping through Russian industry at the time, the increase in tax enforcement is the only likely explanation for the change of fortunes at Sibneft and many of its peers...Does this analysis make sense? In part, certainly. For all its faults, corporate Russia has become far more orderly and law-abiding since 2000. Companies have rushed to list their shares on international stock exchanges - something unthinkable in the wilder days of the 1990s - and most large firms now produce their accounts to international standards. Foreign direct investment, long negligible, is starting to flow in serious amounts - $7bn in 2003 - and stock market returns have been among the healthiest in Europe. But the authors' model does not quite cover all the complexities. For a start, the model assumes that the various parties have clearly-defined motivation: companies want to maximise profit, governments want to maximise tax revenue. In fact, the alarmingly close connections between big business and government in Russia - connections often greased by bribery - blur the apparently antagonistic relationship. Companies can, for example, persuade officials to overlook non-payment of taxes...And the authors' definition of tax enforcement seems unrealistically Western. Genuine, disinterested tax collection might well work wonders in Russia; the problem with recent examples has been the erratic and unpredictable way laws are enforced. The case against Yukos, for example, has moved in fits and starts, with little clarity from the government about its intentions, and little faith from investors that the letter of the law would be followed. As far as most commentators are concerned, the state is pursuing Yukos out of a political vendetta, rather than simply to enforce fiscal rectitude. Since Yukos' founder, Mikhail Khodorkovsky, was arrested a year ago, the Russian market has dropped by 10% - an indication that few investors feel optimistic about the salutary effect on corporate performance.\n",
      "The study suggests that increased tax enforcement in Russia, exemplified by the case of Yukos, has led to greater transparency and financial soundness in companies. This has resulted in improved corporate governance, increased dividends for shareholders, and a rise in stock market value. However, critics argue that the close ties between big business and government, along with erratic enforcement of laws, may hinder the positive impact of tax enforcement. The case of Yukos, seen as politically motivated, has raised concerns among investors about the overall effect on corporate performance in Russia.\n"
     ]
    },
    {
     "name": "stderr",
     "output_type": "stream",
     "text": [
      "Some weights of RobertaModel were not initialized from the model checkpoint at roberta-large and are newly initialized: ['roberta.pooler.dense.weight', 'roberta.pooler.dense.bias']\n",
      "You should probably TRAIN this model on a down-stream task to be able to use it for predictions and inference.\n"
     ]
    },
    {
     "name": "stdout",
     "output_type": "stream",
     "text": [
      "calculating scores...\n",
      "computing bert embedding.\n"
     ]
    },
    {
     "name": "stderr",
     "output_type": "stream",
     "text": [
      "100%|██████████| 1/1 [00:02<00:00,  2.10s/it]\n"
     ]
    },
    {
     "name": "stdout",
     "output_type": "stream",
     "text": [
      "computing greedy matching.\n"
     ]
    },
    {
     "name": "stderr",
     "output_type": "stream",
     "text": [
      "100%|██████████| 1/1 [00:00<00:00, 499.74it/s]\n",
      "c:\\Users\\Zhang Xiang\\Desktop\\Year 3\\Sem 2\\FYPJ\\Project\\RD_TextSummarizerForWebinar\\Development\\.venv\\lib\\site-packages\\nltk\\translate\\bleu_score.py:552: UserWarning: \n",
      "The hypothesis contains 0 counts of 4-gram overlaps.\n",
      "Therefore the BLEU score evaluates to 0, independently of\n",
      "how many N-gram overlaps of lower order it contains.\n",
      "Consider using lower n-gram order or use SmoothingFunction()\n",
      "  warnings.warn(_msg)\n"
     ]
    },
    {
     "name": "stdout",
     "output_type": "stream",
     "text": [
      "done in 2.10 seconds, 0.48 sentences/sec\n",
      "Number of tokens: 756\n",
      "Asian quake hits European shares..Shares in Europe's leading reinsurers and travel firms have fallen as the scale of the damage wrought by tsunamis across south Asia has become apparent...More than 23,000 people have been killed following a massive underwater earthquake and many of the worst hit areas are popular tourist destinations. Reisurance firms such as Swiss Re and Munich Re lost value as investors worried about rebuilding costs. But the disaster has little impact on stock markets in the US and Asia...Currencies including the Thai baht and Indonesian rupiah weakened as analysts warned that economic growth may slow. \"It came at the worst possible time,\" said Hans Goetti, a Singapore-based fund manager. \"The impact on the tourist industry is pretty devastating, especially in Thailand.\" Travel-related shares dropped in Europe, with companies such as Germany's TUI and Lufthansa and France's Club Mediterranne sliding. Insurers and reinsurance firms were also under pressure in Europe...Shares in Munich Re and Swiss Re - the world's two biggest reinsurers - both fell 1.7% as the market speculated about the cost of rebuilding in Asia. Zurich Financial, Allianz and Axa also suffered a decline in value...However, their losses were much smaller, reflecting the market's view that reinsurers were likely to pick up the bulk of the costs. Worries about the size of insurance liabilities dragged European shares down, although the impact was exacerbated by light post-Christmas trading. Germany's benchmark Dax index closed the day 16.29 points lower at 3.817.69 while France's Cac index of leading shares fell 5.07 points to 3.817.69. Investors pointed out, however, that declines probably would be industry specific, with the travel and insurance firms hit hardest. \"It's still too early for concrete damage figures,\" Swiss Re's spokesman Floiran Woest told Associated Press. \"That also has to do with the fact that the damage is very widely spread geographically.\"..The unfolding scale of the disaster in south Asia had little immediate impact on US shares, however. The Dow Jones index had risen 20.54 points, or 0.2%, to 10,847.66 by late morning as analsyts were cheered by more encouraging reports from retailers about post-Christmas sales. In Asian markets, adjustments were made quickly to account for lower earnings and the cost of repairs. Thai Airways shed almost 4%. The country relies on tourism for about 6% of its total economy. Singapore Airlines dropped 2.6%. About 5% of Singapore's annual gross domestic product (GDP) comes from tourism. Malaysia's budget airline, AirAsia fell 2.9%. Resort operator Tanco Holdings slumped 5%...Travel companies also took a hit, with Japan's Kinki Nippon sliding 1.5% and HIS dropping 3.3%. However, the overall impact on Asia's largest stock market, Japan's Nikkei, was slight. Shares fell just 0.03%. Concerns about the strength of economic growth going forward weighed on the currency markets. The Indonesian rupiah lost as much as 0.6% against the US dollar, before bouncing back slightly to trade at 9,300. The Thai baht lost 0.3% against the US currency, trading at 39.10. In India, where more than 2,000 people are thought to have died, the rupee shed 0.1% against the dollar Analysts said that it was difficult to predict the total cost of the disaster and warned that share prices and currencies would come under increasing pressure as the bills mounted.\n",
      "The devastating Asian earthquake and tsunamis have caused over 23,000 deaths and significant damage to popular tourist destinations. European reinsurers and travel firms saw stock declines due to worries about rebuilding costs. Asian currencies weakened, and travel-related shares dropped. US shares were less affected, with slight declines in Asian markets. Concerns about economic growth and rebuilding costs are putting pressure on share prices and currencies.\n"
     ]
    },
    {
     "name": "stderr",
     "output_type": "stream",
     "text": [
      "Some weights of RobertaModel were not initialized from the model checkpoint at roberta-large and are newly initialized: ['roberta.pooler.dense.weight', 'roberta.pooler.dense.bias']\n",
      "You should probably TRAIN this model on a down-stream task to be able to use it for predictions and inference.\n"
     ]
    },
    {
     "name": "stdout",
     "output_type": "stream",
     "text": [
      "calculating scores...\n",
      "computing bert embedding.\n"
     ]
    },
    {
     "name": "stderr",
     "output_type": "stream",
     "text": [
      "100%|██████████| 1/1 [00:02<00:00,  2.37s/it]\n"
     ]
    },
    {
     "name": "stdout",
     "output_type": "stream",
     "text": [
      "computing greedy matching.\n"
     ]
    },
    {
     "name": "stderr",
     "output_type": "stream",
     "text": [
      "100%|██████████| 1/1 [00:00<00:00, 250.05it/s]\n"
     ]
    },
    {
     "name": "stdout",
     "output_type": "stream",
     "text": [
      "done in 2.38 seconds, 0.42 sentences/sec\n",
      "Number of tokens: 707\n",
      "The year search became personal..The odds are that when you fire up your browser, you go straight to your favourite search engine, rather than type in a web address...Some may see this as the height of laziness, but in an era of information overload, search has become a vital tool in navigating the net. It is symptomatic of how the way we use the internet is changing. And as Google has shown, there is money in offering a service that people cannot live without. There is no shortage of companies vying for the loyalty of web searchers, offering a wealth of different services and tools to help you find what you want. Over the past 12 months, giants of the technology world such as Microsoft and Yahoo have sought to grab a slice of the search action. \"User experience has contributed to people searching more,\" said Yonca Brunini of Yahoo. As people become more familiar with the internet, they tend to spend more time online and ask more queries, she said. \"The other second thing is broadband,\" Ms Brunini told the BBC News website. \"This will do to internet what colour has done to TV.\"..But search is hardly a new phenomenon. It has been around since the early days of the net...Veteran surfers will remember old-timers like Hotbot and Altavista. \"Search was always important,\" said Urs Holzle, Google vice-president of operations. \"We trumpeted that in 1999. It is even truer now as there are more users and more information.\" \"People didn't realise that search was the future. The financials have something to do with it.\" Google has shown web commerce can work through its targeted small adverts, which appear at the top and down the right-hand side of a page and are related to the original search. These small ads helped Google reach revenues of $805.9m for the three months to September. Others have woken up to the fact that you can make money out of web queries. \"Once you see there is a market, Microsoft is bound to step to it. If Microsoft sees search as important, then nobody queries it,\" said Mr Holzle...Microsoft is just one of the net giants muscling in on search. Yahoo, Ask Jeeves, Amazon and a handful of smaller outfits are all seeking to capture eyeballs...Web users face a plethora of choices as each company tries to outflank Google by rolling out new search products such as desktop search. It reflects how the battlefield has shifted from the net to your PC. Search is not just about finding your way around the web. It is now about unlocking information hidden in the gigabytes of documents, images and music on hard drives. For all these advances, search is still a clumsy tool, often failing to come up with exactly what you had in mind. In order to do a better job, search engines are trying to get to know you better, doing a better job of remembering, cataloguing and managing all the information you come across. \"Personalisation is going to be a big area for the future,\" said Yahoo's Yonca Brunini. \"Whoever cracks that and gives you the information you want is going to be the winner. We have to understand you to give you better results that are tailored to you.\" This is perhaps the Holy Grail of search, understanding what it is you are looking for and providing it quickly. The problem is that no one yet knows how to get there.\n",
      "The evolution of search engines has become crucial in navigating the internet, with companies like Google, Microsoft, and Yahoo competing for users' loyalty. Search has transitioned from the web to personal computers, aiming to unlock information stored on hard drives. Personalization is seen as the future of search, but the challenge lies in understanding users' needs accurately. The ultimate goal is to provide tailored results efficiently, although the exact method to achieve this remains unknown.\n"
     ]
    },
    {
     "name": "stderr",
     "output_type": "stream",
     "text": [
      "Some weights of RobertaModel were not initialized from the model checkpoint at roberta-large and are newly initialized: ['roberta.pooler.dense.weight', 'roberta.pooler.dense.bias']\n",
      "You should probably TRAIN this model on a down-stream task to be able to use it for predictions and inference.\n"
     ]
    },
    {
     "name": "stdout",
     "output_type": "stream",
     "text": [
      "calculating scores...\n",
      "computing bert embedding.\n"
     ]
    },
    {
     "name": "stderr",
     "output_type": "stream",
     "text": [
      "100%|██████████| 1/1 [00:02<00:00,  2.29s/it]\n"
     ]
    },
    {
     "name": "stdout",
     "output_type": "stream",
     "text": [
      "computing greedy matching.\n"
     ]
    },
    {
     "name": "stderr",
     "output_type": "stream",
     "text": [
      "100%|██████████| 1/1 [00:00<00:00, 333.54it/s]\n",
      "c:\\Users\\Zhang Xiang\\Desktop\\Year 3\\Sem 2\\FYPJ\\Project\\RD_TextSummarizerForWebinar\\Development\\.venv\\lib\\site-packages\\nltk\\translate\\bleu_score.py:552: UserWarning: \n",
      "The hypothesis contains 0 counts of 4-gram overlaps.\n",
      "Therefore the BLEU score evaluates to 0, independently of\n",
      "how many N-gram overlaps of lower order it contains.\n",
      "Consider using lower n-gram order or use SmoothingFunction()\n",
      "  warnings.warn(_msg)\n"
     ]
    },
    {
     "name": "stdout",
     "output_type": "stream",
     "text": [
      "done in 2.30 seconds, 0.44 sentences/sec\n",
      "Number of tokens: 842\n",
      "Doors open at biggest gadget fair..Thousands of technology lovers and industry experts have gathered in Las Vegas for the annual Consumer Electronics Show (CES)...The fair showcases the latest technologies and gadgets that will hit the shops in the next year. About 50,000 new products will be unveiled as the show unfolds. Microsoft chief Bill Gates is to make a pre-show keynote speech on Wednesday when he is expected to announce details of the next generation Xbox...The thrust of this year's show will be on technologies which put people in charge of multimedia content so they can store, listen to, and watch what they want on devices any time, anywhere. About 120,000 people are expected to attend the trade show which stretches over more than 1.5 million square feet. Highlights will include the latest trends in digital imaging, storage technologies, thinner flat screen and high-definition TVs, wireless and portable technologies, gaming, and broadband technologies. The show also includes several speeches from key technology companies such as Intel, Microsoft, and Hewlett Packard among others. \"The story this year remains all about digital and how that is completely transforming and revolutionising products and the way people interact with them,\" Jeff Joseph, from the Consumer Electronics Association (CEA) told the BBC News website. \"It is about personalisation - taking your MP3 player and creating your own playlist, taking your digital video recorder and watch what you want to watch when - you are no longer at the whim of the broadcasters.\"..Consumer electronics and gadgets had a phenomenal year in 2004, according to figures released by CES organisers, the CEA, on Tuesday. The gadget explosion signalled the strongest growth yet in the US in 2004. Shipments of consumer electronics rose by almost 11% between 2003 and 2004. That trend is predicted to continue, according to CEA analysts, with wholesale shipments of consumer technologies expected to grow by 11% again in 2005. The fastest-growing technologies in 2004 included blank DVD media, Liquid Crystal Display (LCD) TVs, digital video recorders (DVRs), and portable music players. \"This year we will really begin to see that come to life in what we call place shifting - so if you have your PVR [personal video recorder] in your living room, you can move that content around the house. \"Some exhibitors will be showcasing how you can take that content anywhere,\" said Mr Joseph. He said the products which will be making waves in the next year will be about the \"democratisation\" of content - devices and technologies that will give people the freedom to do more with music, video, and images. There will also be more focus on the design of technologies, following the lead that Apple's iPod made, with ease of use and good looks which appeal to a wider range of people a key concern...The CEA predicted that there would be several key technology trends to watch in the coming year. Gaming would continue to thrive, especially on mobile devices, and would reach out to more diverse gamers such as women. Games consoles sales have been declining, but the launch of next generation consoles, such as Microsoft's Xbox and PlayStation, could buoy up sales. Although it has been widely predicted that Mr Gates would be showcasing the new Xbox, some media reports have cast doubt on what he would be talking about in the keynote. Some have suggested the announcement may take place at the Games Developers Conference in the summer instead. With more than 52% of US homes expected to have home networks, the CEA suggested hard drive boxes - or media servers - capable of storing thousands of images, video and audio files to be accessed through other devices around the home, will be more commonplace. Portable devices that combine mobile telephony, digital music and video players, will also be more popular in 2005. Their popularity will be driven by more multimedia content and services which will let people watch and listen to films, TV, and audio wherever they are. This means more storage technologies will be in demand, such as external hard drives, and flash memory like SD cards. CES runs officially from 6 to 9 January.\n",
      "The Consumer Electronics Show (CES) in Las Vegas showcases the latest technologies and gadgets, with a focus on personalization and democratization of content. The event features keynotes from industry leaders like Bill Gates, highlighting trends like digital imaging, storage, flat screen TVs, gaming, and broadband technologies. The show predicts continued growth in consumer electronics, with a spotlight on portable devices, multimedia content, and home networking. The event runs from January 6 to 9, with expectations of unveiling around 50,000 new products.\n"
     ]
    },
    {
     "name": "stderr",
     "output_type": "stream",
     "text": [
      "Some weights of RobertaModel were not initialized from the model checkpoint at roberta-large and are newly initialized: ['roberta.pooler.dense.weight', 'roberta.pooler.dense.bias']\n",
      "You should probably TRAIN this model on a down-stream task to be able to use it for predictions and inference.\n"
     ]
    },
    {
     "name": "stdout",
     "output_type": "stream",
     "text": [
      "calculating scores...\n",
      "computing bert embedding.\n"
     ]
    },
    {
     "name": "stderr",
     "output_type": "stream",
     "text": [
      "100%|██████████| 1/1 [00:02<00:00,  2.30s/it]\n"
     ]
    },
    {
     "name": "stdout",
     "output_type": "stream",
     "text": [
      "computing greedy matching.\n"
     ]
    },
    {
     "name": "stderr",
     "output_type": "stream",
     "text": [
      "100%|██████████| 1/1 [00:00<00:00, 284.17it/s]\n"
     ]
    },
    {
     "name": "stdout",
     "output_type": "stream",
     "text": [
      "done in 2.31 seconds, 0.43 sentences/sec\n",
      "Number of tokens: 829\n",
      "File-swappers ready new network..Legal attacks on websites that help people swap pirated films have forced the development of a system that could be harder to shut down...One site behind the success of the BitTorrent file-swapping system is producing its own software that avoids the pitfalls of the earlier program. A test version of the new Exeem program will be released in late January. But doubts remain about the new networks ability to ensure files being swapped are \"quality copies\"...In late December movie studios launched a legal campaign against websites that helped people swap pirated movies using the BitTorrent network. The legal campaign worked because of the way that BitTorrent is organised. That file-sharing system relies on links called \"trackers\" that point users to others happy to share the file they are looking for. Shutting down sites that listed trackers crippled the BitTorrent network. One of the sites shut down by the legal campaign was suprnova.org which helped boost the popularity of the BitTorrent system by checking that trackers led to the movies or TV programmes they claimed to...Now the man behind suprnova.org, who goes by the nickname Sloncek, is preparing to release software for a new file-swapping network dubbed Exeem. In an interview with Novastream web radio, Sloncek said Exeem would combine ideas from the BitTorrent and Kazaa file-sharing systems. Like BitTorrent, Exeem will have trackers that help point people toward the file they want. Like Kazaa these trackers will be held by everyone. There will be no centrally maintained list. This, said Sloncek, should make the system less vulnerable to legal action aimed at stopping people swapping pirated movies and music. The Exeem software has been under development for a few months and is currently being tested by a closed group of users. An early public version of the software should be available before February. Sloncek said that currently only a Windows version of the software was in development. There were no plans for a Linux or Mac version. He said that costs of writing the software will be paid for by adverts appearing in the finished version of the program. Despite Suprnova administrator Sloncek's involvement with Exeem, the basic technology appears to have been developed by a firm called Swarm Systems that is based on Caribbean island Saint Kitts and Nevis...Users of the Exeem system will be able to rate files being swapped to help stop the spread of fake files, Sloncek told Novastream...Dr Johan Pouwelse, a researcher at the Delft University of Technology who studies peer-to-peer networks, said Exeem was the next evolution in file-sharing systems. But, he said, it would struggle to be as popular as BitTorrent and Suprnova because early versions were not taking enough care to make sure good copies of files were being shared. \"Exeem cannot prevent pollution,\" he said. \"The rating system in Exeem seems flawed because it is easy to insert both fake files and fake ratings,\" he said. Studies have shown that organisations working for record labels and movie studios have worked to undermine Kazaa by putting in fakes. By contrast moderators on Suprnova made sure files being shared were high quality. \"The moderators are the difference between having a system that works and one that's full of crap like Kazaa,\" he said. \"There is a fundamental tension between distribution and integrity,\" he said. Mr Pouwelse said that future versions of file-sharing systems are likely to incorporate some kind of distributed reputation system that lets moderators prove who they are to the network and rate which files are worth downloading. When big files were being shared moderation systems were key, said Mr Pouwelse. He added that the legal attacks on BitTorrent had driven people away from sites such as Suprnova but many users had simply migrated to other tracker listing sites many of which have seen huge increases in traffic. \"It's hard to compete with free,\" he said. No-one from the Motion Picture Association of America was immediately available for comment on the file-sharing development.\n",
      "Developers are creating a new file-sharing network called Exeem, combining features of BitTorrent and Kazaa. Exeem aims to be less vulnerable to legal action by decentralizing trackers. However, concerns exist about ensuring file quality. The system will allow users to rate files, but experts warn about the potential for fake files and ratings. Researchers suggest future systems may need distributed reputation systems for file integrity.\n"
     ]
    },
    {
     "name": "stderr",
     "output_type": "stream",
     "text": [
      "Some weights of RobertaModel were not initialized from the model checkpoint at roberta-large and are newly initialized: ['roberta.pooler.dense.weight', 'roberta.pooler.dense.bias']\n",
      "You should probably TRAIN this model on a down-stream task to be able to use it for predictions and inference.\n"
     ]
    },
    {
     "name": "stdout",
     "output_type": "stream",
     "text": [
      "calculating scores...\n",
      "computing bert embedding.\n"
     ]
    },
    {
     "name": "stderr",
     "output_type": "stream",
     "text": [
      "100%|██████████| 1/1 [00:03<00:00,  3.62s/it]\n"
     ]
    },
    {
     "name": "stdout",
     "output_type": "stream",
     "text": [
      "computing greedy matching.\n"
     ]
    },
    {
     "name": "stderr",
     "output_type": "stream",
     "text": [
      "100%|██████████| 1/1 [00:00<00:00, 76.92it/s]\n"
     ]
    },
    {
     "name": "stdout",
     "output_type": "stream",
     "text": [
      "done in 3.65 seconds, 0.27 sentences/sec\n",
      "Number of tokens: 639\n",
      "Toxic web links help virus spread..Virus writers have begun using the power of the web to spread their malicious wares...A Windows virus called Bofra is turning infected machines into distributors of its malicious code. Those clicking on the poisoned links in e-mail messages sent out by infected machines may fall victim to the virus. The trick is being used to prevent the progam being caught by anti-virus software that combs through code contained in e-mail attachments...The virus that uses this trick is called Bofra and the first member of the family of worms appeared on 10 November. They exploit a Windows vulnerability that was discovered only a few days earlier...Like many other recent viruses, Bofra plunders the address book in Microsoft Outlook for e-mail addresses and scours other files on an infected machine for fresh target addresses. The virus uses its own mail sending software to despatch e-mail messages to potential victims but, unlike many other recent viruses, does not itself travel via mail. Instead the body of the mail messages sent out contain fake weblinks that, when clicked on, connect back to the machine that distributed that e-mail. Essentially, Bofra turns infected machines into small web servers that happily dole out copies of the virus. The messages try to trick people into clicking on the links by promising pornographic videos and images or by posing as payment confirmation for a Paypal transaction...Copies of the messages seen by the BBC News website had bright yellow and green backgrounds. Those clicking on the links will inadvertently download the Bofra virus which will then start searching for new addresses to send itself to. Filtering firm Clearswift said this tactic of creating thousands of mini web servers was designed to help the virus spread quickly and avoid attempts to shut it down. In the past other malicious programs have relied on a single web server that downloads viral code to target machines. Shutting down this central server usually stops the virus spreading...Clearswift said that fact that no viral code travels in the e-mail messages sent out by machines infected by Bofra could hamper effects to limit its spread. Finnish anti-virus firm F-Secure said that, so far, it had not seen many copies of the Bofra virus and its variants in circulation...Tim Warner, spokesman for anti-virus firm Finjan, said: \"You have people getting very creative now to deliver the virus and get it propagating.\" Mr Warner said organisations needed to prepare deep defences to keep out the modern form of malicious mobile code. \"Most firms have secured their e-mail gateway,\" said Mr Warner, \"but the irony is that most of them let malicious content through the web gateways.\" He said behavioural systems that monitor what users do can help to spot when viruses have penetrated organisations and have started hunting for other victims. The Bofra family of viruses, which were originally thought to be offshoots of the MyDoom bug, can infect machines running Windows 2000, 95, 98, Me, NT, XP and Server 2003. Users running Windows XP that have applied the SP2 update are not vulnerable to the loophole that Bofra exploits.\n",
      "The Bofra virus spreads through infected machines turning them into web servers distributing the virus via fake links promising pornographic content or payment confirmations. The virus does not travel via email but tricks users into downloading it. It exploits a Windows vulnerability and targets machines running various Windows versions except those with the SP2 update. Organizations are advised to strengthen defenses against such creative virus propagation methods.\n"
     ]
    },
    {
     "name": "stderr",
     "output_type": "stream",
     "text": [
      "Some weights of RobertaModel were not initialized from the model checkpoint at roberta-large and are newly initialized: ['roberta.pooler.dense.weight', 'roberta.pooler.dense.bias']\n",
      "You should probably TRAIN this model on a down-stream task to be able to use it for predictions and inference.\n"
     ]
    },
    {
     "name": "stdout",
     "output_type": "stream",
     "text": [
      "calculating scores...\n",
      "computing bert embedding.\n"
     ]
    },
    {
     "name": "stderr",
     "output_type": "stream",
     "text": [
      "100%|██████████| 1/1 [00:02<00:00,  2.28s/it]\n"
     ]
    },
    {
     "name": "stdout",
     "output_type": "stream",
     "text": [
      "computing greedy matching.\n"
     ]
    },
    {
     "name": "stderr",
     "output_type": "stream",
     "text": [
      "100%|██████████| 1/1 [00:00<00:00, 333.09it/s]\n",
      "c:\\Users\\Zhang Xiang\\Desktop\\Year 3\\Sem 2\\FYPJ\\Project\\RD_TextSummarizerForWebinar\\Development\\.venv\\lib\\site-packages\\nltk\\translate\\bleu_score.py:552: UserWarning: \n",
      "The hypothesis contains 0 counts of 3-gram overlaps.\n",
      "Therefore the BLEU score evaluates to 0, independently of\n",
      "how many N-gram overlaps of lower order it contains.\n",
      "Consider using lower n-gram order or use SmoothingFunction()\n",
      "  warnings.warn(_msg)\n",
      "c:\\Users\\Zhang Xiang\\Desktop\\Year 3\\Sem 2\\FYPJ\\Project\\RD_TextSummarizerForWebinar\\Development\\.venv\\lib\\site-packages\\nltk\\translate\\bleu_score.py:552: UserWarning: \n",
      "The hypothesis contains 0 counts of 4-gram overlaps.\n",
      "Therefore the BLEU score evaluates to 0, independently of\n",
      "how many N-gram overlaps of lower order it contains.\n",
      "Consider using lower n-gram order or use SmoothingFunction()\n",
      "  warnings.warn(_msg)\n"
     ]
    },
    {
     "name": "stdout",
     "output_type": "stream",
     "text": [
      "done in 2.29 seconds, 0.44 sentences/sec\n",
      "Number of tokens: 787\n",
      "Mobiles 'not media players yet'..Mobiles are not yet ready to be all-singing, all-dancing multimedia devices which will replace portable media players, say two reports...Despite moves to bring music download services to mobiles, people do not want to trade multimedia services with size and battery life, said Jupiter. A separate study by Gartner has also said real-time TV broadcasts to mobiles is \"unlikely\" in Europe until 2007. Technical issues and standards must be resolved first, said the report. Batteries already have to cope with other services that operators offer, like video playback, video messaging, megapixel cameras and games amongst others. Bringing music download services based on the success of computer-based download services will put more demands on battery life...Fifty percent of Europeans said the size of a mobile was the most important factor when it came to choosing their phone, but more power demands tend to mean larger handsets. \"Mobile phone music services must not be positioned to compete with the PC music experience as the handsets are not yet ready,\" said Thomas Husson, mobile analyst at Jupiter research. \"Mobile music services should be new and different, and enable operators to differentiate their brands and support third generation network launches.\" Other problems facing mobile music include limited storage on phones, compared to portable players which can hold up to 40GB of music. The mobile industry is keen to get into music downloading, after the success of Apple's iTunes, Napster and other net music download services...With phones getting smarter and more powerful, there are also demands to be able to watch TV on the move. In the US, services like TiVo To Go let people transfer pre-recorded TV content onto their phones. But, the Gartner report on mobile TV broadcasting in Europe suggests direct broadcasting will have to wait. Currently, TV-like services, where clips are downloaded, are offered by several European operators, like Italy's TIM and 3. Mobile TV will have to overcome several barriers before it is widely taken up though, said the report...Various standards and ways of getting TV signals to mobiles are being worked on globally. In Europe, trials in Berlin and Helsinki are making use of terrestrial TV masts to broadcast compressed signals to handsets with extra receivers. A service from the Norwegian Broadcasting Corporation lets people watch TV programmes on their mobiles 24 hours a day. The service uses 3GP technology, one of the standards for mobile TV. But at the end of 2004, the European Telecommunications Institute (Etsi) formally adopted Digital Video Broadcasting Handheld (DVB-H) as the mobile TV broadcasting standard for Europe. Operators will be working on the standard as a way to bring real-time broadcasts to mobiles, as well as trying to overcome several other barriers. The cost and infrastructure needs to set up the services will need to be addressed. Handsets also need to be able to work with the DVB-H standard. TV services will have to live up to the expectations of the digital TV generation too, which expects good quality images at low prices, according to analysts. People are also likely to be put off watching TV on such small screens, said Gartner. Digital video recorders, like Europe's Sky+ box, and video-on-demand services mean people have much more control over what TV they watch. As a result, people may see broadcasting straight to mobiles as taking away that control. More powerful smartphones like the XDA II, Nokia 6600, SonyEricsson P900 and the Orange E200, offering web access, text and multimedia messaging, e-mail, calendar and gaming are becoming increasingly common. A report by analysts InStat/MDR has predicted that smartphone shipments will grow by 44% over the next five years. It says that smartphones will make up 117 million out of 833 million handsets shipped globally by 2009.\n",
      "Mobile phones are not yet advanced enough to replace portable media players due to issues with size, battery life, and limited storage. Real-time TV broadcasts to mobiles in Europe are unlikely until 2007 due to technical issues and standards that need to be resolved. The mobile industry is eager to introduce music downloading services, but challenges remain. Smartphone shipments are expected to grow significantly over the next five years, with more powerful devices offering various features becoming increasingly common.\n"
     ]
    },
    {
     "name": "stderr",
     "output_type": "stream",
     "text": [
      "Some weights of RobertaModel were not initialized from the model checkpoint at roberta-large and are newly initialized: ['roberta.pooler.dense.weight', 'roberta.pooler.dense.bias']\n",
      "You should probably TRAIN this model on a down-stream task to be able to use it for predictions and inference.\n"
     ]
    },
    {
     "name": "stdout",
     "output_type": "stream",
     "text": [
      "calculating scores...\n",
      "computing bert embedding.\n"
     ]
    },
    {
     "name": "stderr",
     "output_type": "stream",
     "text": [
      "100%|██████████| 1/1 [00:01<00:00,  1.91s/it]\n"
     ]
    },
    {
     "name": "stdout",
     "output_type": "stream",
     "text": [
      "computing greedy matching.\n"
     ]
    },
    {
     "name": "stderr",
     "output_type": "stream",
     "text": [
      "100%|██████████| 1/1 [00:00<00:00, 499.50it/s]\n"
     ]
    },
    {
     "name": "stdout",
     "output_type": "stream",
     "text": [
      "done in 1.92 seconds, 0.52 sentences/sec\n",
      "Number of tokens: 800\n",
      "European medal chances improve..What have the European Indoor trials told us? Well, I think we could be heading to the European Championships with half a dozen medal prospects...It was good to see athletes beginning to make steps forward, to see a few new faces and there were lots of personal bests kicking around...The best performance on the track for me was Sarah Claxton's win in the 60m hurdles. Running sub-eight seconds twice in a week puts her right up there and if she repeats that in Madrid she will be close to picking up a medal. But what was great about Sunday's performance was that she was under pressure to produce the goods when it counted. Diane Allahgreen has been our best hurdler for some time now and I think she was surprised to be beaten by Sarah. And knowing that she got the better of Diane in a head-to-head race will give Sarah confidence. In the men's race on Saturday, Allan Scott was right in there and there is definitely more to come from him. In fact, the men's 60m hurdles is so strong, I think the selectors will pick three hurdlers to go to Madrid...Phillips Idowu lit up the field events, not only with his hair, but also with his leap of 17.30m, which puts him at the top of the world rankings. I had a chat with him before the competition and he was really looking forward to getting out there. He feels he is in great shape and has some big jumps inside him - but then Phillips always has. A lot of the athletes said the runway was not very helpful, so for Phillips to jump like that is a good performance. He is such a huge talent but just needs some consistency - and if he does that then the big jumps will get even further. Across the board I thought Kelly Sotherton had a great weekend and continued to show she is developing. She picked up three personal bests in the long jump, high jump and 60m hurdles and you can't ask for more than that. Kelly will be up against Carolina Kluft in the pentathlon at the European Championships but she has every chance of a medal on the basis of what we've seen so far...She has a complicated training regime where different people help her with different disciplines but it seems to be working really well. It wasn't all good news in Sheffield. I thought both the 60m races were disappointing in different ways. Jason Gardener may have won but he wasn't at his best. I chatted to him afterwards and he knows it was an off-day for him. He's there to be shot at and the other lads nearly got a big scalp out there. In the women's race, Jeanette Kwayke was hoping to run against defending champion Joice Maduaka. The pair are enjoying a bit of rivalry but Joice had to pull out with a chest infection. If she had made the final I think Jeanette would have gone a bit quicker...Janine Whitlock competed well in the pole vault on her return following a two-year drugs ban. But the most disappointing thing in the wider view is that she is our best pole vaulter by a long way and that shouldn't be the case. The event has moved on immensely since Janine has been away and if there was more domestic competition I think that would help her. A couple of other interesting topics to look out for are the citizenship issues surrounding Mark Findlay and Rabah Yusuf. Findlay is a Londoner who has chosen to represent Trinidad and Tobago but has never run for them so he could still compete for Great Britain. Yusuf, who came third in the 400m, is from the Sudan but is trying to gain British citizenship. He came to Britain as a high jumper but damaged his toe, started doing more running and found his talent. So we shall have to see what happens to both of them.\n",
      "The European Indoor trials showed promising performances from European athletes, with potential medal prospects emerging in events like hurdles, long jump, and pentathlon. Notable highlights include Sarah Claxton's impressive 60m hurdles win, Phillips Idowu's world-leading leap in the field events, and Kelly Sotherton's strong showing in multiple disciplines. However, there were disappointments in some races, and concerns were raised about the lack of domestic competition in certain events like pole vault. Additionally, citizenship issues surrounding athletes like Mark Findlay and Rabah Yusuf added an interesting dimension to the competition.\n"
     ]
    },
    {
     "name": "stderr",
     "output_type": "stream",
     "text": [
      "Some weights of RobertaModel were not initialized from the model checkpoint at roberta-large and are newly initialized: ['roberta.pooler.dense.weight', 'roberta.pooler.dense.bias']\n",
      "You should probably TRAIN this model on a down-stream task to be able to use it for predictions and inference.\n"
     ]
    },
    {
     "name": "stdout",
     "output_type": "stream",
     "text": [
      "calculating scores...\n",
      "computing bert embedding.\n"
     ]
    },
    {
     "name": "stderr",
     "output_type": "stream",
     "text": [
      "100%|██████████| 1/1 [00:02<00:00,  2.19s/it]\n"
     ]
    },
    {
     "name": "stdout",
     "output_type": "stream",
     "text": [
      "computing greedy matching.\n"
     ]
    },
    {
     "name": "stderr",
     "output_type": "stream",
     "text": [
      "100%|██████████| 1/1 [00:00<00:00, 62.50it/s]\n",
      "c:\\Users\\Zhang Xiang\\Desktop\\Year 3\\Sem 2\\FYPJ\\Project\\RD_TextSummarizerForWebinar\\Development\\.venv\\lib\\site-packages\\nltk\\translate\\bleu_score.py:552: UserWarning: \n",
      "The hypothesis contains 0 counts of 4-gram overlaps.\n",
      "Therefore the BLEU score evaluates to 0, independently of\n",
      "how many N-gram overlaps of lower order it contains.\n",
      "Consider using lower n-gram order or use SmoothingFunction()\n",
      "  warnings.warn(_msg)\n"
     ]
    },
    {
     "name": "stdout",
     "output_type": "stream",
     "text": [
      "done in 2.22 seconds, 0.45 sentences/sec\n",
      "Number of tokens: 838\n",
      "Disaster claims 'less than $10bn'..Insurers have sought to calm fears that they face huge losses after an earthquake and giant waves killed at least 38,000 people in southern Asia...Munich Re and Swiss Re, the world's two biggest reinsurers, have said exposure will be less than for other disasters. Rebuilding costs are likely to be cheaper than in developed countries, and many of those affected will not have insurance, analysts said. Swiss Re has said total claims are likely to be less than $10bn (£5.17bn). Swiss Re believes that the cost would be substantial but that it is unlikely to be in double-digit billions, the Financial Times reported. Munich Re, the world's largest reinsurance company, said that its exposure is less than 100m euros (£70m; $136m)...At least 10 countries have been affected, with Sri Lanka, Indonesia, India and Thailand among the worst hit. The region's resorts and Western tourists are expected to be among the main claimants...Lloyds of London told the Financial Times it expected its exposure to be limited to \"holiday resorts, personal accident, travel insurance and marine risks\". A spokeswoman for Hanover Re, Europe's fifth-largest reinsurance firm, estimated tsunami-related damage claims would be in the low double-digit millions of euros. The company has paid out about 300 million euros (£281m; $400m) to cover damage caused recently by four major hurricanes in the US...But insurers have not had long to assess the economic impact of the damage and reports of more casualties and destruction are still coming through...\"So many things are unclear, it is just too early to tell,\" said Serge Troeber, deputy head of Swiss Re's natural disasters department. \"You need very complicated processes to estimate damages. Unlike the hurricanes, you can't just run a model.\" He anticipated that his own company's total claims would be less then those from the hurricanes, which the company put at $640m. Allianz, a leading German insurer, said it did not know yet what its exposure would be. However, it said the tidal waves were unlikely to have a \"significant\" impact on its business. Zurich Financial said they could not yet assess the cost of the disaster...The impact on US insurance companies is not expected to be heavy, analysts said...Most US insurers have relatively little exposure to Asia and those that do, pass on a lot of the risk to reinsurance companies or special catastrophe funds. Insured damage could be a fraction of the \"billions of dollars worth of destruction in Sri Lanka, India, Thailand, Indonesia, the Maldive Islands and Malaysia,\" said Prudential Equity Group insurance analyst Jay Gelb. \"US insurers are likely to have only minimal to no exposure. It's more likely the Bermuda-based reinsurance [companies] might have some exposure,\" said Paul Newsome, an insurance analyst at AG Edwards & Co...Many of the affected countries, such as Indonesia, Sri Lanka or the Maldives, do not usually buy insurance for these kinds of disasters, said a US-based insurance expert. Early estimates from the World Bank put the amount of aid needed for the worst affected countries including Sri Lanka, India, Indonesia and Thailand, at about $5bn (£2.6bn), similar to the cash offered to Central America after Hurricane Mitch...Mitch killed about 10,000 people and caused damage of about $10bn in 1998. But the cost of the tsunamis on the individuals involved is incalculable. \"We cannot fathom the cost of these poor societies and the nameless fishermen and fishing villages ... that have just been wiped out. Hundreds of thousands of livelihoods have gone,\" said Jan Egeland, head of the UN Office for the Coordination of Humanitarian Affairs. Tourists cutting short their holidays in affected areas may suffer a financial impact too. The Association of British insurers warned that travel insurance does not normally cover cutting short a holiday. It said loss of possessions will usually be covered, but the Association stressed the importance of checking the wording of travel policies.\n",
      "The earthquake and tsunamis in southern Asia have caused significant devastation, with at least 38,000 people dead. Reinsurers like Munich Re and Swiss Re estimate total claims to be less than $10 billion. The impact on US insurers is expected to be minimal due to limited exposure in Asia. Many affected countries do not usually buy insurance for such disasters. The World Bank estimates aid needed at about $5 billion for the worst-hit countries. The human cost is immeasurable, with livelihoods lost and tourists facing financial impacts.\n"
     ]
    },
    {
     "name": "stderr",
     "output_type": "stream",
     "text": [
      "Some weights of RobertaModel were not initialized from the model checkpoint at roberta-large and are newly initialized: ['roberta.pooler.dense.weight', 'roberta.pooler.dense.bias']\n",
      "You should probably TRAIN this model on a down-stream task to be able to use it for predictions and inference.\n"
     ]
    },
    {
     "name": "stdout",
     "output_type": "stream",
     "text": [
      "calculating scores...\n",
      "computing bert embedding.\n"
     ]
    },
    {
     "name": "stderr",
     "output_type": "stream",
     "text": [
      "100%|██████████| 1/1 [00:02<00:00,  2.65s/it]\n"
     ]
    },
    {
     "name": "stdout",
     "output_type": "stream",
     "text": [
      "computing greedy matching.\n"
     ]
    },
    {
     "name": "stderr",
     "output_type": "stream",
     "text": [
      "100%|██████████| 1/1 [00:00<00:00, 500.27it/s]\n"
     ]
    },
    {
     "name": "stdout",
     "output_type": "stream",
     "text": [
      "done in 2.66 seconds, 0.38 sentences/sec\n",
      "Number of tokens: 694\n",
      "Franz Ferdinand's art school lesson..Scottish rock band Franz Ferdinand, who shot to prominence in 2004, have won two Brit Awards...With their self-titled debut, Franz Ferdinand have achieved what most rock bands crave - high credibility and critical acclaim while also selling stacks of CDs. They have risen to the head of the UK's art rock ranks with an album of songs that are catchy, creative and original enough to sound fresh. With a cool, spiky, fun sound previously associated with bands like Talking Heads, they hit upon a style that had been out of fashion for a while and so was ripe for another airing. Their first UK single hit number three last January, followed by two more top 20 hits, while the album has sold more than 600,000 copies in 11 months on release. In September it was named album of the year winning the prestigious Mercury Music Prize...On the festivals circuit, they have been one of the main attractions for huge crowds at Glastonbury, T in the Park and Reading/Leeds. They have also found success in Japan, Europe and the US. By September the album had sold 500,000 in the States and total sales were pushing two million worldwide. They have been nominated for three Grammy awards in the US as well as the US music industry's Shortlist award, but lost the Shortlist prize to US band TV on the Radio. Nevertheless Franz Ferdinand were the only UK band to win an MTV Video Music Award this year, taking the breakthrough video crown for Take Me Out...The four-piece met two years ago when drummer Paul Thomson was working at the Glasgow art school where bassist Bob Hardy was studying. Singer Alex Kapranos was studying English at university but had friends at art school, and the line-up was completed when guitarist Nick McCarthy moved from Munich, Germany, to the city. At the turn of the year, Kapranos told BBC News Online the band were fed up with serious bands in \"that post-rock thing that seemed to be doing its damndest to avoid any bloody tune\"...\"We want people to go away from the gigs humming the tunes that we were singing. But at the same time bringing an edge to it.\" Franz Ferdinand had a question they asked themselves every time they wrote a song, Kapranos said. \"Where's the fun in that?\" they pondered at every stage, making enjoyment the top priority and ensuring they did not disappear up their own muso posteriors. The band started out with a DIY ethic that saw them take over a disused art-deco warehouse in Glasgow and rename it The Chateau. The venue soon became legendary - so well-known that the police spent a month trying to find it, eventually raiding it and arresting Kapranos. But the charges of running an illegal bar and contravening health and safety, fire hazard and noise abatement laws were dropped...The band took over an abandoned Victorian courtroom and jail instead, and named that The Chateau. The buzz about the band soon spread around the music industry and 40 record labels turned up to one gig in Glasgow - which the band thought was \"totally ridiculous\". \"I'm really glad it was almost comical because we weren't overwhelmed by the seriousness of it,\" Kapranos said. They signed with independent label Domino, home of Smog, Sebadoh and Four Tet, in June 2003.\n",
      "Scottish rock band Franz Ferdinand gained fame in 2004 with their self-titled debut album, blending catchy, creative, and original songs reminiscent of bands like Talking Heads. They prioritize fun and enjoyment in their music, avoiding overly serious post-rock trends. The band's DIY ethic led them to create The Chateau, a legendary venue in Glasgow. They signed with Domino Records in 2003 and have achieved critical acclaim, commercial success, and won multiple awards.\n"
     ]
    },
    {
     "name": "stderr",
     "output_type": "stream",
     "text": [
      "Some weights of RobertaModel were not initialized from the model checkpoint at roberta-large and are newly initialized: ['roberta.pooler.dense.weight', 'roberta.pooler.dense.bias']\n",
      "You should probably TRAIN this model on a down-stream task to be able to use it for predictions and inference.\n"
     ]
    },
    {
     "name": "stdout",
     "output_type": "stream",
     "text": [
      "calculating scores...\n",
      "computing bert embedding.\n"
     ]
    },
    {
     "name": "stderr",
     "output_type": "stream",
     "text": [
      "100%|██████████| 1/1 [00:01<00:00,  1.99s/it]\n"
     ]
    },
    {
     "name": "stdout",
     "output_type": "stream",
     "text": [
      "computing greedy matching.\n"
     ]
    },
    {
     "name": "stderr",
     "output_type": "stream",
     "text": [
      "100%|██████████| 1/1 [00:00<00:00, 200.09it/s]\n"
     ]
    },
    {
     "name": "stdout",
     "output_type": "stream",
     "text": [
      "done in 2.00 seconds, 0.50 sentences/sec\n",
      "Number of tokens: 712\n",
      "Man Utd stroll to Cup win..Wayne Rooney made a winning return to Everton as Manchester United cruised into the FA Cup quarter-finals...Rooney received a hostile reception, but goals in each half from Quinton Fortune and Cristiano Ronaldo silenced the jeers at Goodison Park. Fortune headed home after 23 minutes before Ronaldo scored when Nigel Martyn parried Paul Scholes' free-kick. Marcus Bent missed Everton's best chance when Roy Carroll, who was later struck by a missile, saved at his feet...Rooney's return was always going to be a potential flashpoint, and he was involved in an angry exchange with a spectator even before kick-off. And Rooney's every touch was met with a deafening chorus of jeers from the crowd that once idolised the 19-year-old. Everton started brightly and Fortune needed to be alert to scramble away a header from Bent near the goal-line. But that was the cue for United to take complete control with a supreme passing display on a Goodison Park pitch that was cutting up. Fortune gave United the lead after 23 minutes, rising to meet Ronaldo's cross from eight yards after the Portuguese youngster had been allowed too much time and space by the hapless Gary Naysmith. United dominated without creating too many clear-cut chances, and they almost paid the price for not making the most of their domination two minutes before half-time. Mikel Arteta played a superb ball into the area but Bent, played onside by Gabriel Heintze, hesitated and Carroll plunged at his fee to save. United almost doubled their lead after 48 minutes when Ronaldo's low drive from 25 yards took a deflection off Tony Hibbert, but Martyn dived to save brilliantly. And Martyn came to Everton's rescue three minutes later when Rooney's big moment almost arrived as he raced clean through, but once again the veteran keeper was in outstanding form. But there was nothing Martyn could do when United doubled their lead after 57 minutes as they doubled their advantage. Scholes' free-kick took a deflection, and Martyn could only parry the ball out for Ronaldo, who reacted first to score easily. Everton's problems worsened when James McFadden limped off with an injury. And there may be further trouble ahead for Everton after goalkeeper Carroll required treatment after he was struck on the head by a missile thrown from behind the goal. Rooney's desperate search for a goal on his return to Everton was halted again by Martyn in injury-time when he outpaced Stubbs, but once again Martyn denied the England striker...- Manchester United coach Sir Alex Ferguson: \"It was a fantastic performance by us. In fairness I think Everton have missed a couple of players and got some young players out. \"The boy Ronaldo is a fantastic player. He's persistent and never gives in. \"I don't know how many fouls he had He gets up and wants the ball again, he's truly a fabulous player.\" Everton: Martyn, Hibbert, Yobo, Stubbs, Naysmith, Osman, Carsley, Arteta, Kilbane, McFadden, Bent. Subs: Wright, Pistone, Weir, Plessis, Vaughan. Manchester United: Carroll, Gary Neville, Brown, Ferdinand, Heinze, Ronaldo, Phil Neville, Keane, Scholes, Fortune, Rooney. Subs: Howard, Giggs, Smith, Miller, Spector. Referee: R Styles (Hampshire)\n",
      "Manchester United defeated Everton in the FA Cup quarter-finals with goals from Quinton Fortune and Cristiano Ronaldo. Wayne Rooney faced a hostile reception on his return to Everton. Ronaldo's persistence and skill were highlighted by Manchester United coach Sir Alex Ferguson. Everton's James McFadden suffered an injury, and Roy Carroll was struck by a missile but continued playing.\n"
     ]
    },
    {
     "name": "stderr",
     "output_type": "stream",
     "text": [
      "Some weights of RobertaModel were not initialized from the model checkpoint at roberta-large and are newly initialized: ['roberta.pooler.dense.weight', 'roberta.pooler.dense.bias']\n",
      "You should probably TRAIN this model on a down-stream task to be able to use it for predictions and inference.\n"
     ]
    },
    {
     "name": "stdout",
     "output_type": "stream",
     "text": [
      "calculating scores...\n",
      "computing bert embedding.\n"
     ]
    },
    {
     "name": "stderr",
     "output_type": "stream",
     "text": [
      "100%|██████████| 1/1 [00:02<00:00,  2.97s/it]\n"
     ]
    },
    {
     "name": "stdout",
     "output_type": "stream",
     "text": [
      "computing greedy matching.\n"
     ]
    },
    {
     "name": "stderr",
     "output_type": "stream",
     "text": [
      "100%|██████████| 1/1 [00:00<00:00, 499.74it/s]\n"
     ]
    },
    {
     "name": "stdout",
     "output_type": "stream",
     "text": [
      "done in 2.98 seconds, 0.34 sentences/sec\n",
      "Number of tokens: 774\n",
      "Stars shine on Bafta red carpet..Hollywood stars brought a touch of glamour to London on Saturday for the biggest night in the British film calendar...Cate Blanchett, Leonardo DiCaprio and Richard Gere were just some of the actors who attended the 2005 Bafta film awards. They emerged from limos at Leicester Square to an uncertain British climate that threatened rain one moment and promised late winter sunshine the next. But the gods were certainly shining on the thousands of film fans who lined the red carpet to meet their idols. Screaming built up into a crescendo as more and more big name stars appeared. The biggest cheer of the night was reserved for The Aviator star Leonardo DiCaprio, who paused in the chilly February air to sign autographs for the throngs. He said the ear-piercing welcome was \"unlike anything I've ever encountered. It's very intense and very loud.\"..Best actress winner Imelda Staunton, who wore a green chiffon dress that sparkled with sequins and beads, told the BBC News website that Vera Drake was the highlight of her career. Her role as a backstreet abortionist in the gritty low-budget film has already led to a clutch of awards and an Oscar nomination. She said: \"Never in a million years did I think this was going to happen. \"Being here and just being nominated is great, but I hope it means more people will go and see the film as well.\" Rooting for Staunton in the best actress category was Cate Blanchett, herself nominated for her supporting role as Hollywood icon Katherine Hepburn in The Aviator...Shivering in a floor-length shimmering Armani dress, the Australian-born actress stopped to sign autographs and joked: \"It's tight but I love it.\" Glamour was also brought to the evening by actress Sienna Miller, supermodel Claudia Schiffer - who was supporting her director husband Matthew Vaughn - Troy actress Diane Kruger and star of the TV programme The OC, Micha Barton. Wearing a caramel-coloured floaty frock by the designer Alexander McQueen, Miller told reporters the red carpet experience was \"intense, nerve-wracking and cold\". The younger stars of British film were also represented in the shape of Emma Watson, who plays Hermione in the Harry Potter films. The 14-year-old said she was hoping to meet DiCaprio and Keanu Reeves but joked that \"they are probably a little too old for me\"...Actor Christian Slater, who is currently starring in One Flew Over The Cuckoo's Nest in London's West End, was greeted by cries of \"Christian, Christian\" by the ever vocal crowd. Keanu Reeves, who presented the best actress award, said being on the red carpet was an \"exciting\" part of his job. \"It is always surreal and when it is nice, it is nice,\" he said. Martin Scorsese, whose movie The Aviator went on to win best film, said being honoured in the UK meant a lot to him. He said: \"I am a great admirer of British cinema since the 1930s and 40s, up until now...\"They give me a new energy when I see the best coming out of England and every two or three years is a whole new cycle of tough and young film-makers, and even the older ones are making good films. \"To recognise me in this way is a great honour.\" British actor Clive Owen, who has won a Golden Globe and a Bafta for his supporting role in Closer, said it \"meant a lot\" to be at the ceremony. He said: \"Just to be here really, at the Baftas. The bottom line is it is a celebration of British films.\"\n",
      "Hollywood stars brought glamour to the 2005 Bafta film awards in London. Leonardo DiCaprio, Cate Blanchett, and Imelda Staunton were among the attendees. The Aviator was a highlight, with DiCaprio receiving a warm welcome. Imelda Staunton won Best Actress for Vera Drake. Other stars like Sienna Miller and Keanu Reeves added to the evening's glamour. Martin Scorsese expressed gratitude for UK recognition, and Clive Owen highlighted the celebration of British films at the event.\n"
     ]
    },
    {
     "name": "stderr",
     "output_type": "stream",
     "text": [
      "Some weights of RobertaModel were not initialized from the model checkpoint at roberta-large and are newly initialized: ['roberta.pooler.dense.weight', 'roberta.pooler.dense.bias']\n",
      "You should probably TRAIN this model on a down-stream task to be able to use it for predictions and inference.\n"
     ]
    },
    {
     "name": "stdout",
     "output_type": "stream",
     "text": [
      "calculating scores...\n",
      "computing bert embedding.\n"
     ]
    },
    {
     "name": "stderr",
     "output_type": "stream",
     "text": [
      "100%|██████████| 1/1 [00:02<00:00,  2.19s/it]\n"
     ]
    },
    {
     "name": "stdout",
     "output_type": "stream",
     "text": [
      "computing greedy matching.\n"
     ]
    },
    {
     "name": "stderr",
     "output_type": "stream",
     "text": [
      "100%|██████████| 1/1 [00:00<00:00, 99.98it/s]\n",
      "c:\\Users\\Zhang Xiang\\Desktop\\Year 3\\Sem 2\\FYPJ\\Project\\RD_TextSummarizerForWebinar\\Development\\.venv\\lib\\site-packages\\nltk\\translate\\bleu_score.py:552: UserWarning: \n",
      "The hypothesis contains 0 counts of 4-gram overlaps.\n",
      "Therefore the BLEU score evaluates to 0, independently of\n",
      "how many N-gram overlaps of lower order it contains.\n",
      "Consider using lower n-gram order or use SmoothingFunction()\n",
      "  warnings.warn(_msg)\n"
     ]
    },
    {
     "name": "stdout",
     "output_type": "stream",
     "text": [
      "done in 2.20 seconds, 0.45 sentences/sec\n",
      "Number of tokens: 805\n",
      "Paris promise raises Welsh hopes..Has there been a better Six Nations match than Saturday's epic in Paris?..And can the Welsh revival continue all the way to a first Grand Slam since 1978? Those are the two questions occupying not just Wales supporters but rugby fans as a whole after a scintillating display in Paris. Welsh legend Mervyn Davies, a member of two of three Grand Slam-winning sides of the 1970s, hailed it as \"one of the great performances of the past three decades\". Martyn Williams, Wales' two-try scorer on the day, called it \"one of the most surreal games I have ever played in\". A crestfallen France coach, Bernard Laporte, simply observed: \"There was a French half and there was a Welsh half\". And what a half it was for the Red Dragonhood, transforming a 15-6 half-time deficit into an 18-15 lead within five mesmerising minutes of the second period. But while that passage of play showed the swelling self-belief of a side prepared to back its own spirit of adventure, the final quarter told us a whole lot more about this Welsh side. That they recovered from a battering in the first half-hour to first stem the tide before half-time, then reverse it on the resumption, was remarkable enough. But in resisting a seemingly unstoppable wave of French pressure in a nail-biting final five minutes, Wales showed not only their physical attributes but their mental resolve...In international rugby, any of the top seven sides can beat each other on a given day, but the great sides are those that win the close contests on a consistent basis. England suffered some infamous Six Nations disappointments en route to World Cup glory, the pain of defeat forging bonds that ultimately led to victory when it really mattered. Wales have some way to go before they can be remotely considered in a similar light. But the signs are that players previously on the receiving end are learning how to emerge on the right side of the scoreline. Ten of the 22 on duty on Saturday were also involved when Wales were trounced 33-5 in Paris two years ago. But since they threw off the shackles against New Zealand in the 2003 World Cup, Wales have rediscovered much of what made them a great rugby nation in the first place...\"The confidence in the squad has been building and building since the World Cup and we now have young players who are becoming world class,\" noted coach Mike Ruddock. The likes of Michael Owen, Gethin Jenkins, Dwayne Peel and Gavin Henson are certainly building strong cases for inclusion on this summer's Lions tour to New Zealand. And players like Stephen Jones, Martyn Williams, Shane Williams and Gareth Thomas are proving it is not only the youngsters that are on an upward curve. Jones, after his superb man-of-the-match display, observed that \"we are a very happy camp now\". Ruddock and Thomas can take much of the credit for that, ensuring the tribal and regional divisions that have often scarred Welsh rugby do not extend to the national squad. The..joie de vivre..so evident in that magical second-half spell in Paris also stems from a style of play that first wooed supporters the world over in the 1970s...If England had half the innate attacking exuberance Wales have produced in this championship, they would not be contemplating the debris of three consecutive defeats. Similarly, Wales have learnt that style alone does not win matches, and that forward power, mental toughness and good decision-making under pressure are equally important. So on to Murrayfield, where Wales have not won on their last three visits. While the hype in the Principality will go into overdrive, the players will set about the task of beating Scotland. Only then - with the visit of Ireland to finish - can they start thinking about emulating the hallowed players of the 1970s, and writing their own names into Welsh legend.\n",
      "Wales' impressive performance in Paris has sparked hopes of a Grand Slam, with players showing both physical and mental strength. The team's confidence is growing, with young and experienced players making strong cases for inclusion in the Lions tour. The squad's unity and attacking style are reminiscent of Wales' glory days in the 1970s. The focus now shifts to Murrayfield and then Ireland, as Wales aims to emulate past successes and create their own legacy.\n"
     ]
    },
    {
     "name": "stderr",
     "output_type": "stream",
     "text": [
      "Some weights of RobertaModel were not initialized from the model checkpoint at roberta-large and are newly initialized: ['roberta.pooler.dense.weight', 'roberta.pooler.dense.bias']\n",
      "You should probably TRAIN this model on a down-stream task to be able to use it for predictions and inference.\n"
     ]
    },
    {
     "name": "stdout",
     "output_type": "stream",
     "text": [
      "calculating scores...\n",
      "computing bert embedding.\n"
     ]
    },
    {
     "name": "stderr",
     "output_type": "stream",
     "text": [
      "100%|██████████| 1/1 [00:02<00:00,  2.27s/it]\n"
     ]
    },
    {
     "name": "stdout",
     "output_type": "stream",
     "text": [
      "computing greedy matching.\n"
     ]
    },
    {
     "name": "stderr",
     "output_type": "stream",
     "text": [
      "100%|██████████| 1/1 [00:00<00:00, 111.08it/s]\n"
     ]
    },
    {
     "name": "stdout",
     "output_type": "stream",
     "text": [
      "done in 2.30 seconds, 0.44 sentences/sec\n",
      "Number of tokens: 707\n",
      "Rapper Kanye West's shrewd soul..US hip-hop star Kanye West - who leads the race for this year's Grammys with 10 nominations - rose to prominence by producing songs for artists such as Jay-Z and Alicia Keys...He then emerged from his behind-the-scenes role to become an artist as well as a producer. But his solo career almost ended before it began after a near-fatal car crash left West with his jaw wired shut in 2002. The resulting song, Through the Wire, became West's first UK hit in April 2004 and subsequent album The College Dropout became a transatlantic success, both critically and commercially. West, 26, began rapping as a teenager at his Chicago school, inspired by the beats and rhymes of 1980s pioneers Run DMC...Hip-hop producer No ID encouraged West to sample old soul and R&B hits then revive them with an updated sound, an approach that would become his trademark. \"I feel like a lot of the soul that's in those old records that I sample is in me,\" he said. \"So when I hear them and I put them with the drums and I bring them to the new millennium, it's just like God's doing that. I'm one with them records right there. It's a blessing.\"..Leaving his Chicago art school after only one year - a move which would later inspire the title of his album - West began his music career co-producing songs for artists Mase and the Madd Rapper. This drew the attention of superstar rapper Jay-Z, who signed West up to his Roc-A-Fella record label to produce numerous artists on his roster. West's work gained mainstream recognition when he produced the singles Takeover and Izzo (HOVA) on Jay-Z's own 2001 album Blueprint. Incorporating samples of Five to One by The Doors and the Jackson Five's I Want You Back respectively, the hits were credited with injecting soul back into hip-hop...As their success attracted further production work for Jay-Z ('03 Bonnie & Clyde) and artists such as Ludacris (Stand Up) and Alicia Keys (You Don't Know My Name), West announced plans for a solo album. Driving home from a late-night Los Angeles recording session in October 2002, he was involved in the car crash that left his jaw fractured in three places. \"Anytime I hear about any accident my heart sinks in and I just thank God that I'm still here,\" he later said. \"That steering wheel could have been two inches further out, and that would have been it.\"..West's account of the accident sampled Chaka Khan's hit Through the Fire to become the heart of his completed solo album The College Dropout. Released last year, it was by turns smooth, humorous and sharp and largely avoided the clich&#233;d hip-hop preoccupation with guns, girls and jewellery...Through the Wire was quickly joined in the UK and US charts by Slow Jamz, on which West collaborated with rapper Twista and Ray actor Jamie Foxx. The College Dropout spawned two further UK hits and a string of award nominations. West was shortlisted for 10 Grammys - including nominations for artist and album of the year - and took the best hip-hop artist, producer and album titles at last year's Music of Black Origin (Mobo) Awards. Now a respected rapper and producer in the influential field of hip-hop, Kanye West is unlikely to regret his decision to leave college early.\n",
      "Kanye West, a successful rapper and producer, rose to fame after producing songs for artists like Jay-Z and Alicia Keys. His solo career almost ended before it began due to a near-fatal car crash in 2002, but he turned the experience into a hit song, \"Through the Wire.\" His album \"The College Dropout\" was a critical and commercial success, showcasing his unique approach of sampling old soul and R&B hits. West's talent and dedication have earned him numerous awards and nominations, solidifying his position as a respected figure in hip-hop.\n"
     ]
    },
    {
     "name": "stderr",
     "output_type": "stream",
     "text": [
      "Some weights of RobertaModel were not initialized from the model checkpoint at roberta-large and are newly initialized: ['roberta.pooler.dense.weight', 'roberta.pooler.dense.bias']\n",
      "You should probably TRAIN this model on a down-stream task to be able to use it for predictions and inference.\n"
     ]
    },
    {
     "name": "stdout",
     "output_type": "stream",
     "text": [
      "calculating scores...\n",
      "computing bert embedding.\n"
     ]
    },
    {
     "name": "stderr",
     "output_type": "stream",
     "text": [
      "100%|██████████| 1/1 [00:02<00:00,  2.72s/it]\n"
     ]
    },
    {
     "name": "stdout",
     "output_type": "stream",
     "text": [
      "computing greedy matching.\n"
     ]
    },
    {
     "name": "stderr",
     "output_type": "stream",
     "text": [
      "100%|██████████| 1/1 [00:00<00:00, 76.93it/s]\n"
     ]
    },
    {
     "name": "stdout",
     "output_type": "stream",
     "text": [
      "done in 2.75 seconds, 0.36 sentences/sec\n",
      "Number of tokens: 636\n",
      "Redford's vision of Sundance..Despite sporting a corduroy cap pulled low over his face plus a pair of dark glasses, Robert Redford cuts an unmistakable figure through the star-struck crowds at Sundance...It's a rare downtown appearance for the man who started the annual festival in Park City, Utah back in the 1980s. Now in its twenty-first year, Sundance continues to grow. Some 45,000 people are estimated to have descended on this small ski town with nothing but movies on the mind. It's an opportunity to meet and make deals. Redford wanted Sundance to be a platform for independent film-makers, but the commercial success of many showcased films have led to criticism that the festival is becoming too mainstream...Smaller festivals like Slamdance and XDance, which take place during the same week in Park City, are competing for Sundance's limelight. But Redford is not worried. \"The more the merrier,\" he says. \"The point was to create opportunities for people who may not have them. \"Once independent film had a place where the work could be seen, suddenly the merchants came. With them the celebrities came, then the paparazzi - and suddenly it began to take on a whole new tone,\" explains Redford...\"People started to say we had gone mainstream and Hollywood, but actually Hollywood came to us because suddenly there was good business in independent film,\" he adds. International film-makers have always been celebrated here, but 2005 is the first year a dedicated World Dramatic and Documentary competition is being held...Redford wants the festival to encompass viewpoints he believes the American media fails to reflect, particularly how the US is perceived internationally. He has never hidden the fact that he is a Democrat. But he reserves particular disdain for the current Republican administration. \"It's the ability to maintain the importance of dissent in a democratic system which right now is under threat with the attitude of this administration,\" he says. \"I think many voices are being shut down or accused of being unpatriotic if they want to express another point of view. That's very unhealthy and very dangerous...\"If we take that policy into the world, there will be the same victims and the same consequences.\" Sundance isn't just one big screening. There are discussion panels and Q&A sessions with directors tackling controversial topics like America's \"culture wars\" and the Iraq war. While Redford wishes the festival to be a forum for dissent, the profile of the audience is fairly monolithic. Educated, middle class and predominantly white Americans comes Sundance, with views from the same end of the political spectrum - anti-war and socially liberal. But Redford knows this and started the Sundance TV Channel in an effort to reach a wider audience. \"When you look at the films here, what we are presenting is very much egalitarian. And it's about good films and good story-telling be it African America, Asian, women, gay, lesbian. \"Sooner or later we will do away with those stereotypical labels and people will say 'it's just a film by so-and so'.\"\n",
      "Robert Redford founded the Sundance Film Festival in the 1980s to provide a platform for independent filmmakers. Over the years, the festival has grown, attracting thousands of attendees and commercial success. Despite criticism of becoming too mainstream, Redford remains focused on promoting diverse viewpoints and voices, particularly dissenting ones. The festival features discussions on controversial topics and aims to reach a wider audience through initiatives like the Sundance TV Channel.\n"
     ]
    },
    {
     "name": "stderr",
     "output_type": "stream",
     "text": [
      "Some weights of RobertaModel were not initialized from the model checkpoint at roberta-large and are newly initialized: ['roberta.pooler.dense.weight', 'roberta.pooler.dense.bias']\n",
      "You should probably TRAIN this model on a down-stream task to be able to use it for predictions and inference.\n"
     ]
    },
    {
     "name": "stdout",
     "output_type": "stream",
     "text": [
      "calculating scores...\n",
      "computing bert embedding.\n"
     ]
    },
    {
     "name": "stderr",
     "output_type": "stream",
     "text": [
      "100%|██████████| 1/1 [00:01<00:00,  1.76s/it]\n"
     ]
    },
    {
     "name": "stdout",
     "output_type": "stream",
     "text": [
      "computing greedy matching.\n"
     ]
    },
    {
     "name": "stderr",
     "output_type": "stream",
     "text": [
      "100%|██████████| 1/1 [00:00<00:00, 496.66it/s]\n"
     ]
    },
    {
     "name": "stdout",
     "output_type": "stream",
     "text": [
      "done in 1.77 seconds, 0.56 sentences/sec\n",
      "Number of tokens: 697\n",
      "Water firm Suez in Argentina row..A conflict between the Argentine State and water firm Aguas Argentinas, controlled by France's Suez, is casting doubt on the firm's future...The firm, which serves the province of Buenos Aires, wants a tariff rise of 60% to fund water-supply improvements. The government has rejected the 60% rise and wants Aguas Argentinas to make an annual investment of 400m pesos ($136m; £72.3m) in improvements. Planning Minister Julio De Vido has offered State help but not for \"free\"...Mr De Vido said that the Argentine state would not make a contribution \"in the form of a subsidy\"...He has said a contribution could be made in return for a seat on the company's board. He added that the government is in discussions with Aguas Argentinas about what role it might take in the event that a State contribution is agreed. However, Aguas Argentinas told the Argentine newspaper Clarin it would not accept any change to its legal structure and, in practice, this rules out State participation on its board. The Planning Minister didn't rule out the possibility of cancelling Aguas Argentinas water concession. Yet he added that he didn't like to do \"futurology\". But last week, Argentine Economic Minister, Roberto Lavagna, told the French media in Paris that the government was considering allowing a 16% increase in tariffs and the possibility of a State contribution to Aguas Argentinas infrastructure investments. Speaking in Buenos Aires, Mr De Vido later denied the possibility of any tariff increase and insisted that the annual investment in water infrastructure was at the centre of the discussions. He added that in the coming weeks the future of Aguas Argentinas would be decided. Suez owns 40% of Aguas Argentinas (39.9%), while Spain's Aguas de Barcelona is its second biggest shareholder with 25.01%. Recently, Suez lost a water concession in Bolivia after mass protests in the city of El Alto (the poorest in the country), with citizens complaining of unfair water charges. This forced the government to cancel the contract...In Argentina, Suez's subsidiary, which has been fined for cutting the supply of water during a recent heat wave and allegedly failing to keep up investment to meet the demand for water, has maintained a tense relationship with the Argentine government. During the last financial crisis in Argentina, the firm sued the state alleging that converting its tariffs from US dollars to pesos, and then freezing them during devaluation, had affected the company and made it difficult for it to meet its contractual obligations. When President Nestor Kirchner of Argentina arrived in power he began to negotiate a solution to the disagreements with international utilities operating in Argentina. But he has rejected any tariff increases, alleging this will impoverish citizens further. He has also asked for more investments to meet the growing demand for water. On May 2004, Aguas Argentinas and the government signed an agreement to renegotiate its Buenos Aires water-concession contract. The firm agreed to invest 242m pesos. The issue has attracted European interest. Last week in Paris, President Kirchner discussed this problem and other issues with French president Jacques Chirac. The Argentine government is also under pressure from European Union countries and the International Monetary Fund (IMF) to raise utilities tariffs, because most of the utilities operating in Argentina are European.\n",
      "The Argentine government is in conflict with water firm Aguas Argentinas, controlled by France's Suez, over a proposed 60% tariff increase for water-supply improvements. The government wants the firm to invest annually in improvements, but Aguas Argentinas is hesitant. The future of the firm is uncertain, with talks of canceling the concession. President Kirchner is against tariff increases, pushing for more investments to meet water demand. European countries and the IMF are pressuring Argentina to raise tariffs.\n"
     ]
    },
    {
     "name": "stderr",
     "output_type": "stream",
     "text": [
      "Some weights of RobertaModel were not initialized from the model checkpoint at roberta-large and are newly initialized: ['roberta.pooler.dense.weight', 'roberta.pooler.dense.bias']\n",
      "You should probably TRAIN this model on a down-stream task to be able to use it for predictions and inference.\n"
     ]
    },
    {
     "name": "stdout",
     "output_type": "stream",
     "text": [
      "calculating scores...\n",
      "computing bert embedding.\n"
     ]
    },
    {
     "name": "stderr",
     "output_type": "stream",
     "text": [
      "100%|██████████| 1/1 [00:02<00:00,  2.70s/it]\n"
     ]
    },
    {
     "name": "stdout",
     "output_type": "stream",
     "text": [
      "computing greedy matching.\n"
     ]
    },
    {
     "name": "stderr",
     "output_type": "stream",
     "text": [
      "100%|██████████| 1/1 [00:00<00:00, 500.22it/s]\n"
     ]
    },
    {
     "name": "stdout",
     "output_type": "stream",
     "text": [
      "done in 2.71 seconds, 0.37 sentences/sec\n",
      "Number of tokens: 594\n",
      "Lions blow to World Cup winners..British and Irish Lions coach Clive Woodward says he is unlikely to select any players not involved in next year's RBS Six Nations Championship...World Cup winners Lawrence Dallaglio, Neil Back and Martin Johnson had all been thought to be in the frame for next summer's tour to New Zealand. \"I don't think you can ever say never,\" said Woodward. \"But I would have to have a compulsive reason to pick any player who is not available to international rugby.\" Dallaglio, Back and Johnson have all retired from international rugby over the last 12 months but continue to star for their club sides. But Woodward added: \"The key thing that I want to stress is that I intend to use the Six Nations and the players who are available to international rugby as the key benchmark. \"My job, along with all the other senior representatives, is to make sure that we pick the strongest possible team. \"If you are not playing international rugby then it's still a step up to Test rugby. It's definitely a disadvantage...\"I think it's absolutely critical and with the history of the Lions we have got to take players playing for the four countries.\" Woodward also revealed that the race for the captaincy was still wide open. \"It is an open book,\" he said. \"There are some outstanding candidates from all four countries.\" And following the All Blacks' impressive displays in Europe in recent weeks, including a 45-6 humiliation of France, Woodward believes the three-test series in New Zealand will provide the ultimate rugby challenge. \"Their performance in particular against France was simply awesome,\" said the Lions coach. \"Certain things have been suggested about the potency of their front five, but they're a very powerful unit.\" With his customary thoroughness, Woodward revealed he had taken soundings from Australia coach Eddie Jones and Jake White of South Africa following their tour matches in Britain and Ireland...As a result, Woodward stressed his Lions group might not be dominated by players from England and Ireland and held out hope for the struggling Scots. \"Scotland's recent results have not been that impressive but there have been some excellent individual performances. \"Eddie in particular told me how tough they had made it for Australia and I will take on board their opinions.\" And Scotland forward Simon Taylor looks certain to get the call, provided he recovers from knee and tendon problems. \"I took lessons from 2001 in that they did make a mistake in taking Lawrence Dallaglio when he wasn't fit and went on the trip. \"Every player has to be looked at on their own merits and Simon Taylor is an outstanding player and I have no doubts that if he gets back to full fitness he will be on the trip. \"I am told he should be back playing by March and he has plenty of time to prove his fitness for the Lions - and there are other players like Richard Hill in the same boat.\"\n",
      "British and Irish Lions coach Clive Woodward is unlikely to select players not involved in the RBS Six Nations Championship for the upcoming tour to New Zealand. He emphasized the importance of players being available for international rugby and stated that the captaincy is still open. Woodward acknowledged the strength of the All Blacks and mentioned considering input from Australia and South Africa coaches. He expressed hope for Scottish players to be included, with Simon Taylor likely to be selected if he recovers from injury.\n"
     ]
    },
    {
     "name": "stderr",
     "output_type": "stream",
     "text": [
      "Some weights of RobertaModel were not initialized from the model checkpoint at roberta-large and are newly initialized: ['roberta.pooler.dense.weight', 'roberta.pooler.dense.bias']\n",
      "You should probably TRAIN this model on a down-stream task to be able to use it for predictions and inference.\n"
     ]
    },
    {
     "name": "stdout",
     "output_type": "stream",
     "text": [
      "calculating scores...\n",
      "computing bert embedding.\n"
     ]
    },
    {
     "name": "stderr",
     "output_type": "stream",
     "text": [
      "100%|██████████| 1/1 [00:01<00:00,  1.79s/it]\n"
     ]
    },
    {
     "name": "stdout",
     "output_type": "stream",
     "text": [
      "computing greedy matching.\n"
     ]
    },
    {
     "name": "stderr",
     "output_type": "stream",
     "text": [
      "100%|██████████| 1/1 [00:00<00:00, 90.92it/s]\n"
     ]
    },
    {
     "name": "stdout",
     "output_type": "stream",
     "text": [
      "done in 1.82 seconds, 0.55 sentences/sec\n"
     ]
    }
   ],
   "source": [
    "for model_index, model_row in df_openai_models.iterrows():\n",
    "    model_name = model_row[\"models\"]\n",
    "    print(model_name)\n",
    "\n",
    "    temperature = 0\n",
    "\n",
    "    llm = ChatOpenAI(model=model_name,openai_api_key=openai_api_key, temperature=temperature)\n",
    "    \n",
    "    # prompt_template = \"Write a concise summary of the following: {text}\"\"\"\n",
    "\n",
    "    # PROMPT = PromptTemplate(template=prompt_template, input_variables=[\"text\"])\n",
    "\n",
    "    for index, row in bbc_train_df.iterrows():\n",
    "        \n",
    "        # Clear temp vector memory.\n",
    "        Chroma().delete_collection()\n",
    "        \n",
    "        method = \"RAG\"\n",
    "\n",
    "        # get the summary\n",
    "        start_time = time.time()\n",
    "        num_tokens = llm.get_num_tokens(row['transcript'])\n",
    "        print(\"Number of tokens:\", num_tokens)\n",
    "\n",
    "        max_tokens = model_row[\"max_tokens\"]\n",
    "\n",
    "        source_knowledge = row['transcript']\n",
    "        print(source_knowledge)\n",
    "        query = \"Write a concise summary\"\n",
    "        \n",
    "        text_splitter = RecursiveCharacterTextSplitter.from_tiktoken_encoder(chunk_size=max_tokens-100, chunk_overlap=100)\n",
    "        docs = text_splitter.create_documents([source_knowledge])\n",
    "\n",
    "        embeddings = OpenAIEmbeddings(openai_api_key=openai_api_key)\n",
    "        try:\n",
    "            vector = Chroma.from_documents(documents=docs, embedding=embeddings)\n",
    "        except InvalidDimensionException:\n",
    "            # Clear data in Chroma DB to avoid dimension matching error\n",
    "            Chroma().delete_collection()\n",
    "            vector = Chroma.from_documents(documents=docs, embedding=embeddings)                 \n",
    "        vector.persist()\n",
    "        retriever = vector.as_retriever(search_kwargs={'k': len(docs)})\n",
    "\n",
    "        qa_chain = ConversationalRetrievalChain.from_llm(\n",
    "        llm = llm,\n",
    "        retriever=retriever,\n",
    "        return_source_documents=True,\n",
    "        )\n",
    "        \n",
    "        chat_history = []\n",
    "        result = qa_chain({'question': query, 'chat_history': chat_history})\n",
    "        summary = result['answer']\n",
    "        print(summary)\n",
    "\n",
    "        end_time = time.time()\n",
    "        elapsed_time = end_time - start_time\n",
    "\n",
    "        metrics = SummarizationMetrics(row['summary'], summary)\n",
    "\n",
    "        new_result = {\n",
    "            'model': model_name,\n",
    "            'method': method,\n",
    "            'max_tokens': max_tokens,\n",
    "            'topic': row['File_path'],\n",
    "            'transcript': row['transcript'],\n",
    "            'original summary': row['summary'],\n",
    "            'summary': summary,\n",
    "            'rouge': metrics.rouge_scores(),\n",
    "            'bert_score': metrics.bert_score(),\n",
    "            'bleu': metrics.bleu_score(),\n",
    "            'time_taken': elapsed_time,\n",
    "            'grammar': metrics.grammar_check(),\n",
    "            'readability': metrics.readability_index(),\n",
    "            'num_tokens': num_tokens,\n",
    "            'prompt': query,\n",
    "            'temperature': temperature\n",
    "        }\n",
    "\n",
    "\n",
    "        new_row = pd.DataFrame([new_result])\n",
    "\n",
    "        df_scores = pd.concat([df_scores, new_row], ignore_index=True)\n",
    "        time.sleep(1)"
   ]
  },
  {
   "cell_type": "code",
   "execution_count": 14,
   "metadata": {},
   "outputs": [
    {
     "name": "stdout",
     "output_type": "stream",
     "text": [
      "(25, 16)\n"
     ]
    },
    {
     "data": {
      "text/html": [
       "<div>\n",
       "<style scoped>\n",
       "    .dataframe tbody tr th:only-of-type {\n",
       "        vertical-align: middle;\n",
       "    }\n",
       "\n",
       "    .dataframe tbody tr th {\n",
       "        vertical-align: top;\n",
       "    }\n",
       "\n",
       "    .dataframe thead th {\n",
       "        text-align: right;\n",
       "    }\n",
       "</style>\n",
       "<table border=\"1\" class=\"dataframe\">\n",
       "  <thead>\n",
       "    <tr style=\"text-align: right;\">\n",
       "      <th></th>\n",
       "      <th>model</th>\n",
       "      <th>method</th>\n",
       "      <th>max_tokens</th>\n",
       "      <th>topic</th>\n",
       "      <th>num_tokens</th>\n",
       "      <th>transcript</th>\n",
       "      <th>original summary</th>\n",
       "      <th>summary</th>\n",
       "      <th>grammar</th>\n",
       "      <th>readability</th>\n",
       "      <th>rouge</th>\n",
       "      <th>bert_score</th>\n",
       "      <th>time_taken</th>\n",
       "      <th>prompt</th>\n",
       "      <th>temperature</th>\n",
       "      <th>bleu</th>\n",
       "    </tr>\n",
       "  </thead>\n",
       "  <tbody>\n",
       "    <tr>\n",
       "      <th>0</th>\n",
       "      <td>gpt-3.5-turbo-0125</td>\n",
       "      <td>RAG</td>\n",
       "      <td>16385</td>\n",
       "      <td>business</td>\n",
       "      <td>762</td>\n",
       "      <td>Cuba winds back economic clock..Fidel Castro's...</td>\n",
       "      <td>Fidel Castro's decision to ban all cash transa...</td>\n",
       "      <td>Cuba has implemented a 10% tax on US dollar co...</td>\n",
       "      <td>[]</td>\n",
       "      <td>100 words required.</td>\n",
       "      <td>[{'rouge-1': {'r': 0.16326530612244897, 'p': 0...</td>\n",
       "      <td>([tensor(0.9078)], [tensor(0.8389)], [tensor(0...</td>\n",
       "      <td>4.644140</td>\n",
       "      <td>Write a concise summary</td>\n",
       "      <td>0</td>\n",
       "      <td>6.624872e-03</td>\n",
       "    </tr>\n",
       "    <tr>\n",
       "      <th>1</th>\n",
       "      <td>gpt-3.5-turbo-0125</td>\n",
       "      <td>RAG</td>\n",
       "      <td>16385</td>\n",
       "      <td>politics</td>\n",
       "      <td>702</td>\n",
       "      <td>Blair looks to election campaign..Tony Blair's...</td>\n",
       "      <td>There was little in terms of concrete proposal...</td>\n",
       "      <td>Tony Blair's recent speech marked the beginnin...</td>\n",
       "      <td>[Offset 90, length 6, Rule ID: MORFOLOGIK_RULE...</td>\n",
       "      <td>100 words required.</td>\n",
       "      <td>[{'rouge-1': {'r': 0.1317365269461078, 'p': 0....</td>\n",
       "      <td>([tensor(0.8738)], [tensor(0.8153)], [tensor(0...</td>\n",
       "      <td>2.485966</td>\n",
       "      <td>Write a concise summary</td>\n",
       "      <td>0</td>\n",
       "      <td>1.361237e-79</td>\n",
       "    </tr>\n",
       "    <tr>\n",
       "      <th>2</th>\n",
       "      <td>gpt-3.5-turbo-0125</td>\n",
       "      <td>RAG</td>\n",
       "      <td>16385</td>\n",
       "      <td>entertainment</td>\n",
       "      <td>718</td>\n",
       "      <td>New York rockers top talent poll..New York ele...</td>\n",
       "      <td>New York electro-rock group The Bravery have c...</td>\n",
       "      <td>The Bravery, a New York electro-rock group, to...</td>\n",
       "      <td>[Offset 24, length 12, Rule ID: MORFOLOGIK_RUL...</td>\n",
       "      <td>100 words required.</td>\n",
       "      <td>[{'rouge-1': {'r': 0.2962962962962963, 'p': 0....</td>\n",
       "      <td>([tensor(0.9142)], [tensor(0.8610)], [tensor(0...</td>\n",
       "      <td>2.949865</td>\n",
       "      <td>Write a concise summary</td>\n",
       "      <td>0</td>\n",
       "      <td>6.577025e-02</td>\n",
       "    </tr>\n",
       "  </tbody>\n",
       "</table>\n",
       "</div>"
      ],
      "text/plain": [
       "                model method max_tokens          topic num_tokens  \\\n",
       "0  gpt-3.5-turbo-0125    RAG      16385       business        762   \n",
       "1  gpt-3.5-turbo-0125    RAG      16385       politics        702   \n",
       "2  gpt-3.5-turbo-0125    RAG      16385  entertainment        718   \n",
       "\n",
       "                                          transcript  \\\n",
       "0  Cuba winds back economic clock..Fidel Castro's...   \n",
       "1  Blair looks to election campaign..Tony Blair's...   \n",
       "2  New York rockers top talent poll..New York ele...   \n",
       "\n",
       "                                    original summary  \\\n",
       "0  Fidel Castro's decision to ban all cash transa...   \n",
       "1  There was little in terms of concrete proposal...   \n",
       "2  New York electro-rock group The Bravery have c...   \n",
       "\n",
       "                                             summary  \\\n",
       "0  Cuba has implemented a 10% tax on US dollar co...   \n",
       "1  Tony Blair's recent speech marked the beginnin...   \n",
       "2  The Bravery, a New York electro-rock group, to...   \n",
       "\n",
       "                                             grammar          readability  \\\n",
       "0                                                 []  100 words required.   \n",
       "1  [Offset 90, length 6, Rule ID: MORFOLOGIK_RULE...  100 words required.   \n",
       "2  [Offset 24, length 12, Rule ID: MORFOLOGIK_RUL...  100 words required.   \n",
       "\n",
       "                                               rouge  \\\n",
       "0  [{'rouge-1': {'r': 0.16326530612244897, 'p': 0...   \n",
       "1  [{'rouge-1': {'r': 0.1317365269461078, 'p': 0....   \n",
       "2  [{'rouge-1': {'r': 0.2962962962962963, 'p': 0....   \n",
       "\n",
       "                                          bert_score  time_taken  \\\n",
       "0  ([tensor(0.9078)], [tensor(0.8389)], [tensor(0...    4.644140   \n",
       "1  ([tensor(0.8738)], [tensor(0.8153)], [tensor(0...    2.485966   \n",
       "2  ([tensor(0.9142)], [tensor(0.8610)], [tensor(0...    2.949865   \n",
       "\n",
       "                    prompt temperature          bleu  \n",
       "0  Write a concise summary           0  6.624872e-03  \n",
       "1  Write a concise summary           0  1.361237e-79  \n",
       "2  Write a concise summary           0  6.577025e-02  "
      ]
     },
     "execution_count": 14,
     "metadata": {},
     "output_type": "execute_result"
    }
   ],
   "source": [
    "print(df_scores.shape)\n",
    "df_scores.head(3)\n"
   ]
  },
  {
   "cell_type": "code",
   "execution_count": 15,
   "metadata": {},
   "outputs": [],
   "source": [
    "df_scores.to_excel(\"./result/closed_source_model_rag_topic_comparison.xlsx\", index=False)"
   ]
  },
  {
   "cell_type": "code",
   "execution_count": 7,
   "metadata": {},
   "outputs": [
    {
     "name": "stdout",
     "output_type": "stream",
     "text": [
      "(50, 16)\n"
     ]
    },
    {
     "data": {
      "text/html": [
       "<div>\n",
       "<style scoped>\n",
       "    .dataframe tbody tr th:only-of-type {\n",
       "        vertical-align: middle;\n",
       "    }\n",
       "\n",
       "    .dataframe tbody tr th {\n",
       "        vertical-align: top;\n",
       "    }\n",
       "\n",
       "    .dataframe thead th {\n",
       "        text-align: right;\n",
       "    }\n",
       "</style>\n",
       "<table border=\"1\" class=\"dataframe\">\n",
       "  <thead>\n",
       "    <tr style=\"text-align: right;\">\n",
       "      <th></th>\n",
       "      <th>model</th>\n",
       "      <th>method</th>\n",
       "      <th>max_tokens</th>\n",
       "      <th>topic</th>\n",
       "      <th>num_tokens</th>\n",
       "      <th>transcript</th>\n",
       "      <th>original summary</th>\n",
       "      <th>summary</th>\n",
       "      <th>grammar</th>\n",
       "      <th>readability</th>\n",
       "      <th>rouge</th>\n",
       "      <th>bert_score</th>\n",
       "      <th>time_taken</th>\n",
       "      <th>prompt</th>\n",
       "      <th>temperature</th>\n",
       "      <th>bleu</th>\n",
       "    </tr>\n",
       "  </thead>\n",
       "  <tbody>\n",
       "  </tbody>\n",
       "</table>\n",
       "</div>"
      ],
      "text/plain": [
       "Empty DataFrame\n",
       "Columns: [model, method, max_tokens, topic, num_tokens, transcript, original summary, summary, grammar, readability, rouge, bert_score, time_taken, prompt, temperature, bleu]\n",
       "Index: []"
      ]
     },
     "execution_count": 7,
     "metadata": {},
     "output_type": "execute_result"
    }
   ],
   "source": [
    "df_scores = pd.read_excel(\"./result/closed_source_model_rag_topic_comparison.xlsx\")\n",
    "print(df_scores.shape)\n",
    "df_scores.head(0)"
   ]
  },
  {
   "cell_type": "code",
   "execution_count": 9,
   "metadata": {},
   "outputs": [
    {
     "data": {
      "text/html": [
       "<div>\n",
       "<style scoped>\n",
       "    .dataframe tbody tr th:only-of-type {\n",
       "        vertical-align: middle;\n",
       "    }\n",
       "\n",
       "    .dataframe tbody tr th {\n",
       "        vertical-align: top;\n",
       "    }\n",
       "\n",
       "    .dataframe thead th {\n",
       "        text-align: right;\n",
       "    }\n",
       "</style>\n",
       "<table border=\"1\" class=\"dataframe\">\n",
       "  <thead>\n",
       "    <tr style=\"text-align: right;\">\n",
       "      <th></th>\n",
       "      <th>models</th>\n",
       "      <th>max_tokens</th>\n",
       "    </tr>\n",
       "  </thead>\n",
       "  <tbody>\n",
       "    <tr>\n",
       "      <th>0</th>\n",
       "      <td>gemini-pro</td>\n",
       "      <td>30720</td>\n",
       "    </tr>\n",
       "  </tbody>\n",
       "</table>\n",
       "</div>"
      ],
      "text/plain": [
       "       models  max_tokens\n",
       "0  gemini-pro       30720"
      ]
     },
     "execution_count": 9,
     "metadata": {},
     "output_type": "execute_result"
    }
   ],
   "source": [
    "gcp_models = {\n",
    "    # Models selected\n",
    "    \"models\": [\n",
    "        \"gemini-pro\",\n",
    "        # \"chat-bison-001\",\n",
    "        # \"text-bison-001\"\n",
    "    ],\n",
    "\n",
    "    # Input Token\n",
    "    \"max_tokens\": [\n",
    "        30720,\n",
    "        # 4096,\n",
    "        # 8196,\n",
    "    ]\n",
    "}\n",
    "\n",
    "\n",
    "df_gcp_models = pd.DataFrame(gcp_models)\n",
    "df_gcp_models"
   ]
  },
  {
   "cell_type": "code",
   "execution_count": 39,
   "metadata": {},
   "outputs": [
    {
     "data": {
      "text/plain": [
       "1"
      ]
     },
     "execution_count": 39,
     "metadata": {},
     "output_type": "execute_result"
    }
   ],
   "source": [
    "# llm = ChatGoogleGenerativeAI(model=\"gemini-pro\", google_api_key=gcp_api_key, temperature=0, convert_system_message_to_human=True)\n",
    "# llm.get_num_tokens(\"hi\")"
   ]
  },
  {
   "attachments": {
    "image.png": {
     "image/png": "[encoded data removed]"
    }
   },
   "cell_type": "markdown",
   "metadata": {},
   "source": [
    "No Error: Return no information found in provided documents.\n",
    "\n",
    "![image.png](attachment:image.png)"
   ]
  },
  {
   "cell_type": "code",
   "execution_count": 15,
   "metadata": {},
   "outputs": [
    {
     "name": "stdout",
     "output_type": "stream",
     "text": [
      "gemini-pro\n",
      "Number of tokens: 778\n",
      "I do not have enough information to answer this question.\n"
     ]
    },
    {
     "name": "stderr",
     "output_type": "stream",
     "text": [
      "Some weights of RobertaModel were not initialized from the model checkpoint at roberta-large and are newly initialized: ['roberta.pooler.dense.weight', 'roberta.pooler.dense.bias']\n",
      "You should probably TRAIN this model on a down-stream task to be able to use it for predictions and inference.\n"
     ]
    },
    {
     "name": "stdout",
     "output_type": "stream",
     "text": [
      "calculating scores...\n",
      "computing bert embedding.\n"
     ]
    },
    {
     "name": "stderr",
     "output_type": "stream",
     "text": [
      "100%|██████████| 1/1 [00:01<00:00,  1.89s/it]\n"
     ]
    },
    {
     "name": "stdout",
     "output_type": "stream",
     "text": [
      "computing greedy matching.\n"
     ]
    },
    {
     "name": "stderr",
     "output_type": "stream",
     "text": [
      "100%|██████████| 1/1 [00:00<00:00, 1000.31it/s]\n",
      "c:\\Users\\Zhang Xiang\\Desktop\\Year 3\\Sem 2\\FYPJ\\Project\\RD_TextSummarizerForWebinar\\Development\\.venv\\lib\\site-packages\\nltk\\translate\\bleu_score.py:552: UserWarning: \n",
      "The hypothesis contains 0 counts of 2-gram overlaps.\n",
      "Therefore the BLEU score evaluates to 0, independently of\n",
      "how many N-gram overlaps of lower order it contains.\n",
      "Consider using lower n-gram order or use SmoothingFunction()\n",
      "  warnings.warn(_msg)\n",
      "c:\\Users\\Zhang Xiang\\Desktop\\Year 3\\Sem 2\\FYPJ\\Project\\RD_TextSummarizerForWebinar\\Development\\.venv\\lib\\site-packages\\nltk\\translate\\bleu_score.py:552: UserWarning: \n",
      "The hypothesis contains 0 counts of 3-gram overlaps.\n",
      "Therefore the BLEU score evaluates to 0, independently of\n",
      "how many N-gram overlaps of lower order it contains.\n",
      "Consider using lower n-gram order or use SmoothingFunction()\n",
      "  warnings.warn(_msg)\n",
      "c:\\Users\\Zhang Xiang\\Desktop\\Year 3\\Sem 2\\FYPJ\\Project\\RD_TextSummarizerForWebinar\\Development\\.venv\\lib\\site-packages\\nltk\\translate\\bleu_score.py:552: UserWarning: \n",
      "The hypothesis contains 0 counts of 4-gram overlaps.\n",
      "Therefore the BLEU score evaluates to 0, independently of\n",
      "how many N-gram overlaps of lower order it contains.\n",
      "Consider using lower n-gram order or use SmoothingFunction()\n",
      "  warnings.warn(_msg)\n"
     ]
    },
    {
     "name": "stdout",
     "output_type": "stream",
     "text": [
      "done in 1.89 seconds, 0.53 sentences/sec\n"
     ]
    }
   ],
   "source": [
    "for model_index, model_row in df_gcp_models.iterrows():\n",
    "    model_name = model_row[\"models\"]\n",
    "    print(model_name)\n",
    "\n",
    "    temperature = 0\n",
    "\n",
    "    # if \"chat\" in model_name.lower():\n",
    "    #   llm = ChatVertexAI(temperature=temperature, model=model_name, verbose=True)\n",
    "    # else:\n",
    "    #   llm = VertexAI(temperature=temperature, model=model_name, verbose=True)\n",
    "    \n",
    "    llm = ChatGoogleGenerativeAI(model=model_name, google_api_key=gcp_api_key, temperature=temperature, convert_system_message_to_human=True)\n",
    "    # Test first row\n",
    "    for index, row in bbc_train_df.head(1).iterrows():\n",
    "        method = \"RAG\"\n",
    "\n",
    "        # get the summary\n",
    "        start_time = time.time()\n",
    "        num_tokens = llm.get_num_tokens(row['transcript'])\n",
    "        print(\"Number of tokens:\", num_tokens)\n",
    "\n",
    "        max_tokens = model_row[\"max_tokens\"]\n",
    "        query = \"Write a concise summary\"\n",
    "        \n",
    "#         augmented_prompt = f\"\"\"Using the contexts below, answer the query.\n",
    "\n",
    "# Contexts:\n",
    "# {source_knowledge}\n",
    "\n",
    "# Query: {query}\"\"\"\n",
    "        \n",
    "        # prompt = HumanMessage(\n",
    "        #     content=augmented_prompt\n",
    "        # )\n",
    "        \n",
    "\n",
    "        text_splitter = RecursiveCharacterTextSplitter.from_tiktoken_encoder(chunk_size=max_tokens-100, chunk_overlap=100)\n",
    "        docs = text_splitter.create_documents([row['transcript']])\n",
    "        # print(\"Number of chunks:\", len(docs))\n",
    "        embeddings = GoogleGenerativeAIEmbeddings(model=\"models/embedding-001\", google_api_key=gcp_api_key)\n",
    "        # vector = Chroma.from_documents(docs, embedding=embeddings)\n",
    "\n",
    "\n",
    "        try:\n",
    "            vector = Chroma.from_documents(documents=docs, embedding=embeddings)\n",
    "        except InvalidDimensionException:\n",
    "            Chroma().delete_collection()\n",
    "            vector = Chroma.from_documents(documents=docs, embedding=embeddings)      \n",
    "\n",
    "        vector.persist()\n",
    "        retriever = vector.as_retriever(search_kwargs={'k': len(docs)})\n",
    "\n",
    "\n",
    "        qa_chain = ConversationalRetrievalChain.from_llm(\n",
    "\n",
    "        llm = llm,\n",
    "        retriever=retriever,\n",
    "        return_source_documents=True,\n",
    "        )\n",
    "        \n",
    "        chat_history = []\n",
    "        result = qa_chain({'question': query, 'chat_history': chat_history})\n",
    "        summary = result['answer']\n",
    "        print(summary)\n",
    "\n",
    "        # # break\n",
    "        # summary_chain = load_summarize_chain(llm=llm, chain_type='map_reduce', token_max=max_tokens , map_prompt=PROMPT)\n",
    "        # summary = summary_chain.run(docs)\n",
    "\n",
    "        \n",
    "\n",
    "        end_time = time.time()\n",
    "        elapsed_time = end_time - start_time\n",
    "\n",
    "        metrics = SummarizationMetrics(row['summary'], summary)\n",
    "\n",
    "        new_result = {\n",
    "            'model': model_name,\n",
    "            'method': method,\n",
    "            'max_tokens': max_tokens,\n",
    "            'topic': row['File_path'],\n",
    "            'transcript': row['transcript'],\n",
    "            'original summary': row['summary'],\n",
    "            'summary': summary,\n",
    "            'rouge': metrics.rouge_scores(),\n",
    "            'bert_score': metrics.bert_score(),\n",
    "            'bleu': metrics.bleu_score(),\n",
    "            'time_taken': elapsed_time,\n",
    "            'grammar': metrics.grammar_check(),\n",
    "            'readability': metrics.readability_index(),\n",
    "            'num_tokens': num_tokens,\n",
    "            'prompt': query,\n",
    "            'temperature': temperature\n",
    "        }\n",
    "\n",
    "\n",
    "        new_row = pd.DataFrame([new_result])\n",
    "\n",
    "        df_scores = pd.concat([df_scores, new_row], ignore_index=True)\n",
    "        time.sleep(1)"
   ]
  },
  {
   "cell_type": "code",
   "execution_count": null,
   "metadata": {},
   "outputs": [],
   "source": [
    "df_scores.to_excel(\"./result/closed_source_model_rag_topic_comparison.xlsx\", index=False)"
   ]
  },
  {
   "cell_type": "code",
   "execution_count": null,
   "metadata": {},
   "outputs": [],
   "source": []
  }
 ],
 "metadata": {
  "kernelspec": {
   "display_name": ".venv",
   "language": "python",
   "name": "python3"
  },
  "language_info": {
   "codemirror_mode": {
    "name": "ipython",
    "version": 3
   },
   "file_extension": ".py",
   "mimetype": "text/x-python",
   "name": "python",
   "nbconvert_exporter": "python",
   "pygments_lexer": "ipython3",
   "version": "3.10.0"
  }
 },
 "nbformat": 4,
 "nbformat_minor": 2
}
