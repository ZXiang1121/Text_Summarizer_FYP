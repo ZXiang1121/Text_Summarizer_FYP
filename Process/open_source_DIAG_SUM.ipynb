{
 "cells": [
  {
   "cell_type": "markdown",
   "metadata": {},
   "source": [
    "### Open Source Summarize Conversation Transcript\n",
    "\n",
    "- Open-Source Summarizer only able to return answer in paragraphs.\n",
    "\n",
    "- After testing result generated was not ideal for multi-speaker summary. \n",
    "\n",
    "- Instead use close-source chat model with prompt engineering E.g. **\"closed_source_PROMPT_ENGINERERING.ipynb\"**"
   ]
  },
  {
   "cell_type": "markdown",
   "metadata": {},
   "source": [
    "### Install & Import Necessary Libraries"
   ]
  },
  {
   "cell_type": "code",
   "execution_count": 21,
   "metadata": {},
   "outputs": [
    {
     "name": "stderr",
     "output_type": "stream",
     "text": [
      "[nltk_data] Downloading package punkt to C:\\Users\\Zhang\n",
      "[nltk_data]     Xiang\\AppData\\Roaming\\nltk_data...\n",
      "[nltk_data]   Package punkt is already up-to-date!\n",
      "[nltk_data] Downloading package stopwords to C:\\Users\\Zhang\n",
      "[nltk_data]     Xiang\\AppData\\Roaming\\nltk_data...\n",
      "[nltk_data]   Package stopwords is already up-to-date!\n"
     ]
    },
    {
     "data": {
      "text/plain": [
       "True"
      ]
     },
     "execution_count": 21,
     "metadata": {},
     "output_type": "execute_result"
    }
   ],
   "source": [
    "import time\n",
    "import sys\n",
    "sys.path.append('../')\n",
    "from helper.SummarizationMetrics import SummarizationMetrics\n",
    "import pandas as pd\n",
    "import numpy as np\n",
    "import matplotlib.pyplot as plt\n",
    "import math\n",
    "import seaborn as sns\n",
    "\n",
    "import torch\n",
    "import transformers\n",
    "from transformers import AutoTokenizer, AutoModelForSeq2SeqLM\n",
    "from  langchain import LLMChain, HuggingFacePipeline, PromptTemplate\n",
    "from langchain.chains.summarize import load_summarize_chain\n",
    "from langchain.embeddings import HuggingFaceEmbeddings\n",
    "from langchain.text_splitter import RecursiveCharacterTextSplitter\n",
    "\n",
    "from sentence_transformers import SentenceTransformer, util\n",
    "from scipy.signal import argrelextrema\n",
    "from sklearn.cluster import KMeans\n",
    "\n",
    "\n",
    "import nltk\n",
    "from nltk.corpus import stopwords\n",
    "from nltk.probability import FreqDist\n",
    "from nltk.tokenize import word_tokenize, sent_tokenize\n",
    "nltk.download('punkt')\n",
    "nltk.download('stopwords')"
   ]
  },
  {
   "cell_type": "code",
   "execution_count": 6,
   "metadata": {},
   "outputs": [],
   "source": [
    "def summ_pipeline(model, tokenizer, chain_type, max_length, prompt=False):\n",
    "  pipeline = transformers.pipeline(\n",
    "      \"summarization\",\n",
    "      model=model,\n",
    "      tokenizer=tokenizer,\n",
    "      torch_dtype=torch.bfloat16,\n",
    "      trust_remote_code=True,\n",
    "      device_map=\"auto\",\n",
    "      max_length=max_length,\n",
    "      do_sample=True,\n",
    "      top_k=10,\n",
    "      num_return_sequences=1,\n",
    "      eos_token_id=tokenizer.eos_token_id,\n",
    "  )\n",
    "  llm = HuggingFacePipeline(pipeline = pipeline)\n",
    "\n",
    "  if chain_type == \"map_reduce\":\n",
    "    if prompt:\n",
    "      prompt_template = \"\"\"Summarize this: ```{text}```\"\"\"\n",
    "      prompt_message = PromptTemplate(template=prompt_template, input_variables=[\"text\"])\n",
    "      \n",
    "      summary_chain = load_summarize_chain(llm=llm, chain_type=chain_type, token_max=max_length, prompt=prompt_message)\n",
    "    else:\n",
    "      summary_chain = load_summarize_chain(llm=llm, chain_type=chain_type, token_max=max_length)\n",
    "  else:\n",
    "    # can't get it to work with refine and stuff, think they updated the library but no documentation\n",
    "    # on how to set token_max\n",
    "    summary_chain = load_summarize_chain(llm=llm, chain_type=chain_type)\n",
    "  return summary_chain"
   ]
  },
  {
   "cell_type": "code",
   "execution_count": 2,
   "metadata": {},
   "outputs": [
    {
     "data": {
      "text/html": [
       "<div>\n",
       "<style scoped>\n",
       "    .dataframe tbody tr th:only-of-type {\n",
       "        vertical-align: middle;\n",
       "    }\n",
       "\n",
       "    .dataframe tbody tr th {\n",
       "        vertical-align: top;\n",
       "    }\n",
       "\n",
       "    .dataframe thead th {\n",
       "        text-align: right;\n",
       "    }\n",
       "</style>\n",
       "<table border=\"1\" class=\"dataframe\">\n",
       "  <thead>\n",
       "    <tr style=\"text-align: right;\">\n",
       "      <th></th>\n",
       "      <th>Models</th>\n",
       "    </tr>\n",
       "  </thead>\n",
       "  <tbody>\n",
       "    <tr>\n",
       "      <th>0</th>\n",
       "      <td>Salesforce/dialogstudio-t5-base-v1.0</td>\n",
       "    </tr>\n",
       "  </tbody>\n",
       "</table>\n",
       "</div>"
      ],
      "text/plain": [
       "                                 Models\n",
       "0  Salesforce/dialogstudio-t5-base-v1.0"
      ]
     },
     "execution_count": 2,
     "metadata": {},
     "output_type": "execute_result"
    }
   ],
   "source": [
    "models = [\"Salesforce/dialogstudio-t5-base-v1.0\"]\n",
    "\n",
    "\n",
    "df_models= pd.DataFrame(models, columns=[\"Models\"])\n",
    "df_models"
   ]
  },
  {
   "cell_type": "code",
   "execution_count": 4,
   "metadata": {},
   "outputs": [
    {
     "data": {
      "text/html": [
       "<div>\n",
       "<style scoped>\n",
       "    .dataframe tbody tr th:only-of-type {\n",
       "        vertical-align: middle;\n",
       "    }\n",
       "\n",
       "    .dataframe tbody tr th {\n",
       "        vertical-align: top;\n",
       "    }\n",
       "\n",
       "    .dataframe thead th {\n",
       "        text-align: right;\n",
       "    }\n",
       "</style>\n",
       "<table border=\"1\" class=\"dataframe\">\n",
       "  <thead>\n",
       "    <tr style=\"text-align: right;\">\n",
       "      <th></th>\n",
       "      <th>model</th>\n",
       "      <th>method</th>\n",
       "      <th>max_tokens</th>\n",
       "      <th>transcript</th>\n",
       "      <th>original summary</th>\n",
       "      <th>summary</th>\n",
       "      <th>rouge</th>\n",
       "      <th>bert_score</th>\n",
       "      <th>bleu</th>\n",
       "      <th>time_taken</th>\n",
       "      <th>grammar</th>\n",
       "      <th>readability</th>\n",
       "    </tr>\n",
       "  </thead>\n",
       "  <tbody>\n",
       "  </tbody>\n",
       "</table>\n",
       "</div>"
      ],
      "text/plain": [
       "Empty DataFrame\n",
       "Columns: [model, method, max_tokens, transcript, original summary, summary, rouge, bert_score, bleu, time_taken, grammar, readability]\n",
       "Index: []"
      ]
     },
     "execution_count": 4,
     "metadata": {},
     "output_type": "execute_result"
    }
   ],
   "source": [
    "df_scores = pd.DataFrame(columns=['model', 'method', 'max_tokens' ,'transcript','original summary', 'summary', 'rouge','bert_score', 'bleu', 'time_taken', 'grammar', 'readability'])\n",
    "df_scores"
   ]
  },
  {
   "cell_type": "markdown",
   "metadata": {},
   "source": [
    "#### Loading Data"
   ]
  },
  {
   "cell_type": "code",
   "execution_count": 5,
   "metadata": {},
   "outputs": [
    {
     "data": {
      "text/html": [
       "<div>\n",
       "<style scoped>\n",
       "    .dataframe tbody tr th:only-of-type {\n",
       "        vertical-align: middle;\n",
       "    }\n",
       "\n",
       "    .dataframe tbody tr th {\n",
       "        vertical-align: top;\n",
       "    }\n",
       "\n",
       "    .dataframe thead th {\n",
       "        text-align: right;\n",
       "    }\n",
       "</style>\n",
       "<table border=\"1\" class=\"dataframe\">\n",
       "  <thead>\n",
       "    <tr style=\"text-align: right;\">\n",
       "      <th></th>\n",
       "      <th>transcript</th>\n",
       "      <th>summary</th>\n",
       "    </tr>\n",
       "  </thead>\n",
       "  <tbody>\n",
       "    <tr>\n",
       "      <th>0</th>\n",
       "      <td>Grad C : Nice . Grad D : OK . Grad A : to {dis...</td>\n",
       "      <td>The group discussed the first version of the B...</td>\n",
       "    </tr>\n",
       "    <tr>\n",
       "      <th>1</th>\n",
       "      <td>Grad A : Alright , so I 'm - I should read all...</td>\n",
       "      <td>The group members mainly talked about the deta...</td>\n",
       "    </tr>\n",
       "    <tr>\n",
       "      <th>2</th>\n",
       "      <td>Grad A : Ah , so comfortable . Grad F : Smooth...</td>\n",
       "      <td>The meeting was taken up by discussion about a...</td>\n",
       "    </tr>\n",
       "    <tr>\n",
       "      <th>3</th>\n",
       "      <td>Grad B : OK , PhD F : That 's looks strange . ...</td>\n",
       "      <td>In this meeting, the speakers addressed issues...</td>\n",
       "    </tr>\n",
       "    <tr>\n",
       "      <th>4</th>\n",
       "      <td>Professor E : Alright . Grad C : So are you {d...</td>\n",
       "      <td>The group discussed recording equipment issues...</td>\n",
       "    </tr>\n",
       "  </tbody>\n",
       "</table>\n",
       "</div>"
      ],
      "text/plain": [
       "                                          transcript  \\\n",
       "0  Grad C : Nice . Grad D : OK . Grad A : to {dis...   \n",
       "1  Grad A : Alright , so I 'm - I should read all...   \n",
       "2  Grad A : Ah , so comfortable . Grad F : Smooth...   \n",
       "3  Grad B : OK , PhD F : That 's looks strange . ...   \n",
       "4  Professor E : Alright . Grad C : So are you {d...   \n",
       "\n",
       "                                             summary  \n",
       "0  The group discussed the first version of the B...  \n",
       "1  The group members mainly talked about the deta...  \n",
       "2  The meeting was taken up by discussion about a...  \n",
       "3  In this meeting, the speakers addressed issues...  \n",
       "4  The group discussed recording equipment issues...  "
      ]
     },
     "execution_count": 5,
     "metadata": {},
     "output_type": "execute_result"
    }
   ],
   "source": [
    "df = pd.read_excel(\"../data/qmsum_test.xlsx\")\n",
    "\n",
    "df_test = df.head(5)\n",
    "\n",
    "df_test"
   ]
  },
  {
   "cell_type": "markdown",
   "metadata": {},
   "source": [
    "#### MapReduce Method"
   ]
  },
  {
   "cell_type": "code",
   "execution_count": 7,
   "metadata": {},
   "outputs": [
    {
     "name": "stdout",
     "output_type": "stream",
     "text": [
      "Salesforce/dialogstudio-t5-base-v1.0\n"
     ]
    },
    {
     "name": "stderr",
     "output_type": "stream",
     "text": [
      "tokenizer_config.json: 100%|██████████| 2.35k/2.35k [00:00<00:00, 2.34MB/s]\n",
      "c:\\Users\\Zhang Xiang\\Desktop\\Year 3\\Sem 2\\FYPJ\\Project\\RD_TextSummarizerForWebinar\\Development\\.venv\\lib\\site-packages\\huggingface_hub\\file_download.py:147: UserWarning: `huggingface_hub` cache-system uses symlinks by default to efficiently store duplicated files but your machine does not support them in C:\\Users\\Zhang Xiang\\.cache\\huggingface\\hub. Caching files will still work but in a degraded version that might require more space on your disk. This warning can be disabled by setting the `HF_HUB_DISABLE_SYMLINKS_WARNING` environment variable. For more details, see https://huggingface.co/docs/huggingface_hub/how-to-cache#limitations.\n",
      "To support symlinks on Windows, you either need to activate Developer Mode or to run Python as an administrator. In order to see activate developer mode, see this article: https://docs.microsoft.com/en-us/windows/apps/get-started/enable-your-device-for-development\n",
      "  warnings.warn(message)\n",
      "spiece.model: 100%|██████████| 792k/792k [00:01<00:00, 664kB/s]\n",
      "tokenizer.json: 100%|██████████| 2.42M/2.42M [00:01<00:00, 1.69MB/s]\n",
      "added_tokens.json: 100%|██████████| 76.0/76.0 [00:00<?, ?B/s]\n",
      "special_tokens_map.json: 100%|██████████| 169/169 [00:00<?, ?B/s] \n",
      "config.json: 100%|██████████| 1.54k/1.54k [00:00<?, ?B/s]\n",
      "model.safetensors: 100%|██████████| 990M/990M [01:04<00:00, 15.4MB/s] \n",
      "generation_config.json: 100%|██████████| 142/142 [00:00<?, ?B/s] \n",
      "Token indices sequence length is longer than the specified maximum sequence length for this model (559 > 512). Running this sequence through the model will result in indexing errors\n",
      "Your max_length is set to 512, but your input_length is only 268. Since this is a summarization task, where outputs shorter than the input are typically wanted, you might consider decreasing max_length manually, e.g. summarizer('...', max_length=134)\n",
      "Token indices sequence length is longer than the specified maximum sequence length for this model (1027 > 1024). Running this sequence through the model will result in indexing errors\n",
      "Your max_length is set to 512, but your input_length is only 101. Since this is a summarization task, where outputs shorter than the input are typically wanted, you might consider decreasing max_length manually, e.g. summarizer('...', max_length=50)\n",
      "Your max_length is set to 512, but your input_length is only 122. Since this is a summarization task, where outputs shorter than the input are typically wanted, you might consider decreasing max_length manually, e.g. summarizer('...', max_length=61)\n",
      "Some weights of RobertaModel were not initialized from the model checkpoint at roberta-large and are newly initialized: ['roberta.pooler.dense.weight', 'roberta.pooler.dense.bias']\n",
      "You should probably TRAIN this model on a down-stream task to be able to use it for predictions and inference.\n"
     ]
    },
    {
     "name": "stdout",
     "output_type": "stream",
     "text": [
      "calculating scores...\n",
      "computing bert embedding.\n"
     ]
    },
    {
     "name": "stderr",
     "output_type": "stream",
     "text": [
      "100%|██████████| 1/1 [00:00<00:00,  1.21it/s]\n"
     ]
    },
    {
     "name": "stdout",
     "output_type": "stream",
     "text": [
      "computing greedy matching.\n"
     ]
    },
    {
     "name": "stderr",
     "output_type": "stream",
     "text": [
      "100%|██████████| 1/1 [00:00<00:00, 70.71it/s]\n",
      "c:\\Users\\Zhang Xiang\\Desktop\\Year 3\\Sem 2\\FYPJ\\Project\\RD_TextSummarizerForWebinar\\Development\\.venv\\lib\\site-packages\\nltk\\translate\\bleu_score.py:552: UserWarning: \n",
      "The hypothesis contains 0 counts of 2-gram overlaps.\n",
      "Therefore the BLEU score evaluates to 0, independently of\n",
      "how many N-gram overlaps of lower order it contains.\n",
      "Consider using lower n-gram order or use SmoothingFunction()\n",
      "  warnings.warn(_msg)\n",
      "c:\\Users\\Zhang Xiang\\Desktop\\Year 3\\Sem 2\\FYPJ\\Project\\RD_TextSummarizerForWebinar\\Development\\.venv\\lib\\site-packages\\nltk\\translate\\bleu_score.py:552: UserWarning: \n",
      "The hypothesis contains 0 counts of 3-gram overlaps.\n",
      "Therefore the BLEU score evaluates to 0, independently of\n",
      "how many N-gram overlaps of lower order it contains.\n",
      "Consider using lower n-gram order or use SmoothingFunction()\n",
      "  warnings.warn(_msg)\n",
      "c:\\Users\\Zhang Xiang\\Desktop\\Year 3\\Sem 2\\FYPJ\\Project\\RD_TextSummarizerForWebinar\\Development\\.venv\\lib\\site-packages\\nltk\\translate\\bleu_score.py:552: UserWarning: \n",
      "The hypothesis contains 0 counts of 4-gram overlaps.\n",
      "Therefore the BLEU score evaluates to 0, independently of\n",
      "how many N-gram overlaps of lower order it contains.\n",
      "Consider using lower n-gram order or use SmoothingFunction()\n",
      "  warnings.warn(_msg)\n"
     ]
    },
    {
     "name": "stdout",
     "output_type": "stream",
     "text": [
      "done in 0.84 seconds, 1.18 sentences/sec\n"
     ]
    },
    {
     "name": "stderr",
     "output_type": "stream",
     "text": [
      "C:\\Users\\Zhang Xiang\\AppData\\Local\\Temp\\ipykernel_16968\\1625815826.py:45: FutureWarning: The behavior of DataFrame concatenation with empty or all-NA entries is deprecated. In a future version, this will no longer exclude empty or all-NA columns when determining the result dtypes. To retain the old behavior, exclude the relevant entries before the concat operation.\n",
      "  df_scores = pd.concat([df_scores, new_row], ignore_index=True)\n",
      "Your max_length is set to 512, but your input_length is only 371. Since this is a summarization task, where outputs shorter than the input are typically wanted, you might consider decreasing max_length manually, e.g. summarizer('...', max_length=185)\n",
      "Your max_length is set to 512, but your input_length is only 58. Since this is a summarization task, where outputs shorter than the input are typically wanted, you might consider decreasing max_length manually, e.g. summarizer('...', max_length=29)\n",
      "Your max_length is set to 512, but your input_length is only 238. Since this is a summarization task, where outputs shorter than the input are typically wanted, you might consider decreasing max_length manually, e.g. summarizer('...', max_length=119)\n",
      "Some weights of RobertaModel were not initialized from the model checkpoint at roberta-large and are newly initialized: ['roberta.pooler.dense.weight', 'roberta.pooler.dense.bias']\n",
      "You should probably TRAIN this model on a down-stream task to be able to use it for predictions and inference.\n"
     ]
    },
    {
     "name": "stdout",
     "output_type": "stream",
     "text": [
      "calculating scores...\n",
      "computing bert embedding.\n"
     ]
    },
    {
     "name": "stderr",
     "output_type": "stream",
     "text": [
      "100%|██████████| 1/1 [00:00<00:00,  1.34it/s]\n"
     ]
    },
    {
     "name": "stdout",
     "output_type": "stream",
     "text": [
      "computing greedy matching.\n"
     ]
    },
    {
     "name": "stderr",
     "output_type": "stream",
     "text": [
      "100%|██████████| 1/1 [00:00<00:00, 333.23it/s]\n",
      "c:\\Users\\Zhang Xiang\\Desktop\\Year 3\\Sem 2\\FYPJ\\Project\\RD_TextSummarizerForWebinar\\Development\\.venv\\lib\\site-packages\\nltk\\translate\\bleu_score.py:552: UserWarning: \n",
      "The hypothesis contains 0 counts of 3-gram overlaps.\n",
      "Therefore the BLEU score evaluates to 0, independently of\n",
      "how many N-gram overlaps of lower order it contains.\n",
      "Consider using lower n-gram order or use SmoothingFunction()\n",
      "  warnings.warn(_msg)\n",
      "c:\\Users\\Zhang Xiang\\Desktop\\Year 3\\Sem 2\\FYPJ\\Project\\RD_TextSummarizerForWebinar\\Development\\.venv\\lib\\site-packages\\nltk\\translate\\bleu_score.py:552: UserWarning: \n",
      "The hypothesis contains 0 counts of 4-gram overlaps.\n",
      "Therefore the BLEU score evaluates to 0, independently of\n",
      "how many N-gram overlaps of lower order it contains.\n",
      "Consider using lower n-gram order or use SmoothingFunction()\n",
      "  warnings.warn(_msg)\n"
     ]
    },
    {
     "name": "stdout",
     "output_type": "stream",
     "text": [
      "done in 0.76 seconds, 1.32 sentences/sec\n"
     ]
    },
    {
     "name": "stderr",
     "output_type": "stream",
     "text": [
      "Your max_length is set to 512, but your input_length is only 409. Since this is a summarization task, where outputs shorter than the input are typically wanted, you might consider decreasing max_length manually, e.g. summarizer('...', max_length=204)\n",
      "Your max_length is set to 512, but your input_length is only 54. Since this is a summarization task, where outputs shorter than the input are typically wanted, you might consider decreasing max_length manually, e.g. summarizer('...', max_length=27)\n",
      "Your max_length is set to 512, but your input_length is only 155. Since this is a summarization task, where outputs shorter than the input are typically wanted, you might consider decreasing max_length manually, e.g. summarizer('...', max_length=77)\n",
      "Some weights of RobertaModel were not initialized from the model checkpoint at roberta-large and are newly initialized: ['roberta.pooler.dense.weight', 'roberta.pooler.dense.bias']\n",
      "You should probably TRAIN this model on a down-stream task to be able to use it for predictions and inference.\n"
     ]
    },
    {
     "name": "stdout",
     "output_type": "stream",
     "text": [
      "calculating scores...\n",
      "computing bert embedding.\n"
     ]
    },
    {
     "name": "stderr",
     "output_type": "stream",
     "text": [
      "100%|██████████| 1/1 [00:00<00:00,  1.44it/s]\n"
     ]
    },
    {
     "name": "stdout",
     "output_type": "stream",
     "text": [
      "computing greedy matching.\n"
     ]
    },
    {
     "name": "stderr",
     "output_type": "stream",
     "text": [
      "100%|██████████| 1/1 [00:00<00:00, 200.01it/s]\n",
      "c:\\Users\\Zhang Xiang\\Desktop\\Year 3\\Sem 2\\FYPJ\\Project\\RD_TextSummarizerForWebinar\\Development\\.venv\\lib\\site-packages\\nltk\\translate\\bleu_score.py:552: UserWarning: \n",
      "The hypothesis contains 0 counts of 4-gram overlaps.\n",
      "Therefore the BLEU score evaluates to 0, independently of\n",
      "how many N-gram overlaps of lower order it contains.\n",
      "Consider using lower n-gram order or use SmoothingFunction()\n",
      "  warnings.warn(_msg)\n"
     ]
    },
    {
     "name": "stdout",
     "output_type": "stream",
     "text": [
      "done in 0.70 seconds, 1.43 sentences/sec\n"
     ]
    },
    {
     "name": "stderr",
     "output_type": "stream",
     "text": [
      "Your max_length is set to 512, but your input_length is only 172. Since this is a summarization task, where outputs shorter than the input are typically wanted, you might consider decreasing max_length manually, e.g. summarizer('...', max_length=86)\n",
      "Your max_length is set to 512, but your input_length is only 46. Since this is a summarization task, where outputs shorter than the input are typically wanted, you might consider decreasing max_length manually, e.g. summarizer('...', max_length=23)\n",
      "Your max_length is set to 512, but your input_length is only 147. Since this is a summarization task, where outputs shorter than the input are typically wanted, you might consider decreasing max_length manually, e.g. summarizer('...', max_length=73)\n",
      "Some weights of RobertaModel were not initialized from the model checkpoint at roberta-large and are newly initialized: ['roberta.pooler.dense.weight', 'roberta.pooler.dense.bias']\n",
      "You should probably TRAIN this model on a down-stream task to be able to use it for predictions and inference.\n"
     ]
    },
    {
     "name": "stdout",
     "output_type": "stream",
     "text": [
      "calculating scores...\n",
      "computing bert embedding.\n"
     ]
    },
    {
     "name": "stderr",
     "output_type": "stream",
     "text": [
      "100%|██████████| 1/1 [00:00<00:00,  1.59it/s]\n"
     ]
    },
    {
     "name": "stdout",
     "output_type": "stream",
     "text": [
      "computing greedy matching.\n"
     ]
    },
    {
     "name": "stderr",
     "output_type": "stream",
     "text": [
      "100%|██████████| 1/1 [00:00<00:00, 397.56it/s]\n",
      "c:\\Users\\Zhang Xiang\\Desktop\\Year 3\\Sem 2\\FYPJ\\Project\\RD_TextSummarizerForWebinar\\Development\\.venv\\lib\\site-packages\\nltk\\translate\\bleu_score.py:552: UserWarning: \n",
      "The hypothesis contains 0 counts of 3-gram overlaps.\n",
      "Therefore the BLEU score evaluates to 0, independently of\n",
      "how many N-gram overlaps of lower order it contains.\n",
      "Consider using lower n-gram order or use SmoothingFunction()\n",
      "  warnings.warn(_msg)\n",
      "c:\\Users\\Zhang Xiang\\Desktop\\Year 3\\Sem 2\\FYPJ\\Project\\RD_TextSummarizerForWebinar\\Development\\.venv\\lib\\site-packages\\nltk\\translate\\bleu_score.py:552: UserWarning: \n",
      "The hypothesis contains 0 counts of 4-gram overlaps.\n",
      "Therefore the BLEU score evaluates to 0, independently of\n",
      "how many N-gram overlaps of lower order it contains.\n",
      "Consider using lower n-gram order or use SmoothingFunction()\n",
      "  warnings.warn(_msg)\n"
     ]
    },
    {
     "name": "stdout",
     "output_type": "stream",
     "text": [
      "done in 0.64 seconds, 1.56 sentences/sec\n"
     ]
    },
    {
     "name": "stderr",
     "output_type": "stream",
     "text": [
      "Your max_length is set to 512, but your input_length is only 297. Since this is a summarization task, where outputs shorter than the input are typically wanted, you might consider decreasing max_length manually, e.g. summarizer('...', max_length=148)\n",
      "Your max_length is set to 512, but your input_length is only 124. Since this is a summarization task, where outputs shorter than the input are typically wanted, you might consider decreasing max_length manually, e.g. summarizer('...', max_length=62)\n",
      "Some weights of RobertaModel were not initialized from the model checkpoint at roberta-large and are newly initialized: ['roberta.pooler.dense.weight', 'roberta.pooler.dense.bias']\n",
      "You should probably TRAIN this model on a down-stream task to be able to use it for predictions and inference.\n"
     ]
    },
    {
     "name": "stdout",
     "output_type": "stream",
     "text": [
      "calculating scores...\n",
      "computing bert embedding.\n"
     ]
    },
    {
     "name": "stderr",
     "output_type": "stream",
     "text": [
      "100%|██████████| 1/1 [00:00<00:00,  1.63it/s]\n"
     ]
    },
    {
     "name": "stdout",
     "output_type": "stream",
     "text": [
      "computing greedy matching.\n"
     ]
    },
    {
     "name": "stderr",
     "output_type": "stream",
     "text": [
      "100%|██████████| 1/1 [00:00<00:00, 493.80it/s]\n",
      "c:\\Users\\Zhang Xiang\\Desktop\\Year 3\\Sem 2\\FYPJ\\Project\\RD_TextSummarizerForWebinar\\Development\\.venv\\lib\\site-packages\\nltk\\translate\\bleu_score.py:552: UserWarning: \n",
      "The hypothesis contains 0 counts of 2-gram overlaps.\n",
      "Therefore the BLEU score evaluates to 0, independently of\n",
      "how many N-gram overlaps of lower order it contains.\n",
      "Consider using lower n-gram order or use SmoothingFunction()\n",
      "  warnings.warn(_msg)\n",
      "c:\\Users\\Zhang Xiang\\Desktop\\Year 3\\Sem 2\\FYPJ\\Project\\RD_TextSummarizerForWebinar\\Development\\.venv\\lib\\site-packages\\nltk\\translate\\bleu_score.py:552: UserWarning: \n",
      "The hypothesis contains 0 counts of 3-gram overlaps.\n",
      "Therefore the BLEU score evaluates to 0, independently of\n",
      "how many N-gram overlaps of lower order it contains.\n",
      "Consider using lower n-gram order or use SmoothingFunction()\n",
      "  warnings.warn(_msg)\n",
      "c:\\Users\\Zhang Xiang\\Desktop\\Year 3\\Sem 2\\FYPJ\\Project\\RD_TextSummarizerForWebinar\\Development\\.venv\\lib\\site-packages\\nltk\\translate\\bleu_score.py:552: UserWarning: \n",
      "The hypothesis contains 0 counts of 4-gram overlaps.\n",
      "Therefore the BLEU score evaluates to 0, independently of\n",
      "how many N-gram overlaps of lower order it contains.\n",
      "Consider using lower n-gram order or use SmoothingFunction()\n",
      "  warnings.warn(_msg)\n"
     ]
    },
    {
     "name": "stdout",
     "output_type": "stream",
     "text": [
      "done in 0.62 seconds, 1.61 sentences/sec\n"
     ]
    }
   ],
   "source": [
    "for model_name in df_models['Models']:\n",
    "    print(model_name)\n",
    "    tokenizer = AutoTokenizer.from_pretrained(model_name)\n",
    "    model = AutoModelForSeq2SeqLM.from_pretrained(model_name)\n",
    "\n",
    "    for index, row in df_test.iterrows():\n",
    "        method = \"MapReduce\"\n",
    "        \n",
    "        # get the summary\n",
    "        start_time = time.time()\n",
    "\n",
    "\n",
    "        max_tokens = tokenizer.model_max_length\n",
    "        summary_chain = summ_pipeline(model, tokenizer, \"map_reduce\", max_tokens)\n",
    "\n",
    "        # Used for efficient tokenization and processing of long texts when working with language models\n",
    "        text_splitter = RecursiveCharacterTextSplitter.from_tiktoken_encoder(chunk_size=max_tokens-100, chunk_overlap=100)\n",
    "        docs = text_splitter.create_documents([row[\"transcript\"]])\n",
    "        summary = summary_chain.run(docs)\n",
    "\n",
    "\n",
    "        end_time = time.time()\n",
    "        elapsed_time = end_time - start_time\n",
    "\n",
    "        metrics = SummarizationMetrics(row['summary'], summary)\n",
    "\n",
    "        new_result = {\n",
    "            'model': model_name,\n",
    "            'method': method,\n",
    "            'max_tokens': max_tokens,\n",
    "            'transcript': row['transcript'],\n",
    "            'original summary': row['summary'],\n",
    "            'summary': summary,\n",
    "            'rouge': metrics.rouge_scores(),\n",
    "            'bert_score': metrics.bert_score(),\n",
    "            'bleu': metrics.bleu_score(),\n",
    "            'time_taken': elapsed_time,\n",
    "            'grammar': metrics.grammar_check(),\n",
    "            'readability': metrics.readability_index()\n",
    "        }\n",
    "\n",
    "\n",
    "        new_row = pd.DataFrame([new_result])\n",
    "\n",
    "        df_scores = pd.concat([df_scores, new_row], ignore_index=True)\n"
   ]
  },
  {
   "cell_type": "code",
   "execution_count": 9,
   "metadata": {},
   "outputs": [
    {
     "data": {
      "text/html": [
       "<div>\n",
       "<style scoped>\n",
       "    .dataframe tbody tr th:only-of-type {\n",
       "        vertical-align: middle;\n",
       "    }\n",
       "\n",
       "    .dataframe tbody tr th {\n",
       "        vertical-align: top;\n",
       "    }\n",
       "\n",
       "    .dataframe thead th {\n",
       "        text-align: right;\n",
       "    }\n",
       "</style>\n",
       "<table border=\"1\" class=\"dataframe\">\n",
       "  <thead>\n",
       "    <tr style=\"text-align: right;\">\n",
       "      <th></th>\n",
       "      <th>model</th>\n",
       "      <th>method</th>\n",
       "      <th>max_tokens</th>\n",
       "      <th>transcript</th>\n",
       "      <th>original summary</th>\n",
       "      <th>summary</th>\n",
       "      <th>rouge</th>\n",
       "      <th>bert_score</th>\n",
       "      <th>bleu</th>\n",
       "      <th>time_taken</th>\n",
       "      <th>grammar</th>\n",
       "      <th>readability</th>\n",
       "    </tr>\n",
       "  </thead>\n",
       "  <tbody>\n",
       "    <tr>\n",
       "      <th>0</th>\n",
       "      <td>Salesforce/dialogstudio-t5-base-v1.0</td>\n",
       "      <td>MapReduce</td>\n",
       "      <td>512</td>\n",
       "      <td>Grad C : Nice . Grad D : OK . Grad A : to {dis...</td>\n",
       "      <td>The group discussed the first version of the B...</td>\n",
       "      <td>Grad Bhaskara talks about the admission fee an...</td>\n",
       "      <td>[{'rouge-1': {'r': 0.031578947368421054, 'p': ...</td>\n",
       "      <td>([tensor(0.8197)], [tensor(0.8037)], [tensor(0...</td>\n",
       "      <td>2.846070e-233</td>\n",
       "      <td>111.841398</td>\n",
       "      <td>[Offset 5, length 8, Rule ID: MORFOLOGIK_RULE_...</td>\n",
       "      <td>100 words required.</td>\n",
       "    </tr>\n",
       "    <tr>\n",
       "      <th>1</th>\n",
       "      <td>Salesforce/dialogstudio-t5-base-v1.0</td>\n",
       "      <td>MapReduce</td>\n",
       "      <td>512</td>\n",
       "      <td>Grad A : Alright , so I 'm - I should read all...</td>\n",
       "      <td>The group members mainly talked about the deta...</td>\n",
       "      <td>\"\"Grad A, Grad B, Nancy, Nancy and Ami are goi...</td>\n",
       "      <td>[{'rouge-1': {'r': 0.08333333333333333, 'p': 0...</td>\n",
       "      <td>([tensor(0.8195)], [tensor(0.8246)], [tensor(0...</td>\n",
       "      <td>2.296016e-155</td>\n",
       "      <td>137.580119</td>\n",
       "      <td>[Offset 35, length 3, Rule ID: MORFOLOGIK_RULE...</td>\n",
       "      <td>100 words required.</td>\n",
       "    </tr>\n",
       "    <tr>\n",
       "      <th>2</th>\n",
       "      <td>Salesforce/dialogstudio-t5-base-v1.0</td>\n",
       "      <td>MapReduce</td>\n",
       "      <td>512</td>\n",
       "      <td>Grad A : Ah , so comfortable . Grad F : Smooth...</td>\n",
       "      <td>The meeting was taken up by discussion about a...</td>\n",
       "      <td>\" Running out of film is different from being ...</td>\n",
       "      <td>[{'rouge-1': {'r': 0.06172839506172839, 'p': 0...</td>\n",
       "      <td>([tensor(0.8196)], [tensor(0.8011)], [tensor(0...</td>\n",
       "      <td>7.719183e-80</td>\n",
       "      <td>119.740855</td>\n",
       "      <td>[Offset 89, length 3, Rule ID: COMMA_PARENTHES...</td>\n",
       "      <td>100 words required.</td>\n",
       "    </tr>\n",
       "    <tr>\n",
       "      <th>3</th>\n",
       "      <td>Salesforce/dialogstudio-t5-base-v1.0</td>\n",
       "      <td>MapReduce</td>\n",
       "      <td>512</td>\n",
       "      <td>Grad B : OK , PhD F : That 's looks strange . ...</td>\n",
       "      <td>In this meeting, the speakers addressed issues...</td>\n",
       "      <td>Professors discuss the 'disfmarker ' glitch at...</td>\n",
       "      <td>[{'rouge-1': {'r': 0.09090909090909091, 'p': 0...</td>\n",
       "      <td>([tensor(0.8413)], [tensor(0.8542)], [tensor(0...</td>\n",
       "      <td>2.986240e-156</td>\n",
       "      <td>132.872282</td>\n",
       "      <td>[Offset 24, length 10, Rule ID: MORFOLOGIK_RUL...</td>\n",
       "      <td>100 words required.</td>\n",
       "    </tr>\n",
       "    <tr>\n",
       "      <th>4</th>\n",
       "      <td>Salesforce/dialogstudio-t5-base-v1.0</td>\n",
       "      <td>MapReduce</td>\n",
       "      <td>512</td>\n",
       "      <td>Professor E : Alright . Grad C : So are you {d...</td>\n",
       "      <td>The group discussed recording equipment issues...</td>\n",
       "      <td>Professor E, Postdoc F and Grad C are going to...</td>\n",
       "      <td>[{'rouge-1': {'r': 0.06172839506172839, 'p': 0...</td>\n",
       "      <td>([tensor(0.8342)], [tensor(0.8198)], [tensor(0...</td>\n",
       "      <td>1.394024e-232</td>\n",
       "      <td>124.668619</td>\n",
       "      <td>[]</td>\n",
       "      <td>100 words required.</td>\n",
       "    </tr>\n",
       "  </tbody>\n",
       "</table>\n",
       "</div>"
      ],
      "text/plain": [
       "                                  model     method max_tokens  \\\n",
       "0  Salesforce/dialogstudio-t5-base-v1.0  MapReduce        512   \n",
       "1  Salesforce/dialogstudio-t5-base-v1.0  MapReduce        512   \n",
       "2  Salesforce/dialogstudio-t5-base-v1.0  MapReduce        512   \n",
       "3  Salesforce/dialogstudio-t5-base-v1.0  MapReduce        512   \n",
       "4  Salesforce/dialogstudio-t5-base-v1.0  MapReduce        512   \n",
       "\n",
       "                                          transcript  \\\n",
       "0  Grad C : Nice . Grad D : OK . Grad A : to {dis...   \n",
       "1  Grad A : Alright , so I 'm - I should read all...   \n",
       "2  Grad A : Ah , so comfortable . Grad F : Smooth...   \n",
       "3  Grad B : OK , PhD F : That 's looks strange . ...   \n",
       "4  Professor E : Alright . Grad C : So are you {d...   \n",
       "\n",
       "                                    original summary  \\\n",
       "0  The group discussed the first version of the B...   \n",
       "1  The group members mainly talked about the deta...   \n",
       "2  The meeting was taken up by discussion about a...   \n",
       "3  In this meeting, the speakers addressed issues...   \n",
       "4  The group discussed recording equipment issues...   \n",
       "\n",
       "                                             summary  \\\n",
       "0  Grad Bhaskara talks about the admission fee an...   \n",
       "1  \"\"Grad A, Grad B, Nancy, Nancy and Ami are goi...   \n",
       "2  \" Running out of film is different from being ...   \n",
       "3  Professors discuss the 'disfmarker ' glitch at...   \n",
       "4  Professor E, Postdoc F and Grad C are going to...   \n",
       "\n",
       "                                               rouge  \\\n",
       "0  [{'rouge-1': {'r': 0.031578947368421054, 'p': ...   \n",
       "1  [{'rouge-1': {'r': 0.08333333333333333, 'p': 0...   \n",
       "2  [{'rouge-1': {'r': 0.06172839506172839, 'p': 0...   \n",
       "3  [{'rouge-1': {'r': 0.09090909090909091, 'p': 0...   \n",
       "4  [{'rouge-1': {'r': 0.06172839506172839, 'p': 0...   \n",
       "\n",
       "                                          bert_score           bleu  \\\n",
       "0  ([tensor(0.8197)], [tensor(0.8037)], [tensor(0...  2.846070e-233   \n",
       "1  ([tensor(0.8195)], [tensor(0.8246)], [tensor(0...  2.296016e-155   \n",
       "2  ([tensor(0.8196)], [tensor(0.8011)], [tensor(0...   7.719183e-80   \n",
       "3  ([tensor(0.8413)], [tensor(0.8542)], [tensor(0...  2.986240e-156   \n",
       "4  ([tensor(0.8342)], [tensor(0.8198)], [tensor(0...  1.394024e-232   \n",
       "\n",
       "   time_taken                                            grammar  \\\n",
       "0  111.841398  [Offset 5, length 8, Rule ID: MORFOLOGIK_RULE_...   \n",
       "1  137.580119  [Offset 35, length 3, Rule ID: MORFOLOGIK_RULE...   \n",
       "2  119.740855  [Offset 89, length 3, Rule ID: COMMA_PARENTHES...   \n",
       "3  132.872282  [Offset 24, length 10, Rule ID: MORFOLOGIK_RUL...   \n",
       "4  124.668619                                                 []   \n",
       "\n",
       "           readability  \n",
       "0  100 words required.  \n",
       "1  100 words required.  \n",
       "2  100 words required.  \n",
       "3  100 words required.  \n",
       "4  100 words required.  "
      ]
     },
     "execution_count": 9,
     "metadata": {},
     "output_type": "execute_result"
    }
   ],
   "source": [
    "df_scores"
   ]
  },
  {
   "cell_type": "code",
   "execution_count": 24,
   "metadata": {},
   "outputs": [
    {
     "name": "stderr",
     "output_type": "stream",
     "text": [
      "C:\\Users\\Zhang Xiang\\AppData\\Local\\Temp\\ipykernel_16968\\4287741633.py:30: UserWarning: set_ticklabels() should only be used with a fixed number of ticks, i.e. after set_ticks() or using a FixedLocator.\n",
      "  axes[0].set_xticklabels(axes[0].get_xticklabels(), rotation=45, ha='right')\n",
      "C:\\Users\\Zhang Xiang\\AppData\\Local\\Temp\\ipykernel_16968\\4287741633.py:39: UserWarning: set_ticklabels() should only be used with a fixed number of ticks, i.e. after set_ticks() or using a FixedLocator.\n",
      "  axes[1].set_xticklabels(axes[1].get_xticklabels(), rotation=45, ha='right')\n",
      "C:\\Users\\Zhang Xiang\\AppData\\Local\\Temp\\ipykernel_16968\\4287741633.py:47: UserWarning: set_ticklabels() should only be used with a fixed number of ticks, i.e. after set_ticks() or using a FixedLocator.\n",
      "  axes[2].set_xticklabels(axes[2].get_xticklabels(), rotation=45, ha='right')\n"
     ]
    },
    {
     "data": {
      "image/png": "[encoded data removed]",
      "text/plain": [
       "<Figure size 1800x800 with 3 Axes>"
      ]
     },
     "metadata": {},
     "output_type": "display_data"
    }
   ],
   "source": [
    "# Filter removed models\n",
    "# df_scores = df_scores[df_scores['model'].isin(df_avg_last_f1['model'])]\n",
    "\n",
    "from ast import literal_eval\n",
    "\n",
    "# Convert string representation of dict to a dictionary\n",
    "df_scores['rouge_scores'] = df_scores['rouge'].apply(lambda x: eval(str(x))[0])\n",
    "\n",
    "# Extract Rouge-1, Rouge-2, and Rouge-L F1 scores from the dictionary\n",
    "df_scores['rouge-1_f'] = df_scores['rouge_scores'].apply(lambda x: x['rouge-1']['f'])\n",
    "df_scores['rouge-2_f'] = df_scores['rouge_scores'].apply(lambda x: x['rouge-2']['f'])\n",
    "df_scores['rouge-l_f'] = df_scores['rouge_scores'].apply(lambda x: x['rouge-l']['f'])\n",
    "\n",
    "# Filter data for MapReduce method\n",
    "df_scores_mapreduce = df_scores[df_scores['method'] == 'MapReduce']\n",
    "\n",
    "# Calculate the average of Rouge-1, Rouge-2, and Rouge-L F1 scores for each model\n",
    "avg_rouge1 = df_scores_mapreduce.groupby('model')['rouge-1_f'].mean().reset_index()\n",
    "avg_rouge2 = df_scores_mapreduce.groupby('model')['rouge-2_f'].mean().reset_index()\n",
    "avg_rouge_l = df_scores_mapreduce.groupby('model')['rouge-l_f'].mean().reset_index()\n",
    "\n",
    "fig, axes = plt.subplots(nrows=1, ncols=3, figsize=(18, 8))\n",
    "\n",
    "# Plot Charts\n",
    "sns.barplot(x='model', y='rouge-1_f', data=avg_rouge1, palette='viridis', ax=axes[0], hue='model')\n",
    "axes[0].set_title('Average Rouge-1 F1 Score for MapReduce Method')\n",
    "axes[0].set_xlabel('Model')\n",
    "axes[0].set_ylabel('Average Rouge-1 F1 Score')\n",
    "# axes[0].tick_params(axis='x', labelrotation = 45)\n",
    "axes[0].set_xticklabels(axes[0].get_xticklabels(), rotation=45, ha='right')\n",
    "\n",
    "for container in axes[0].containers:\n",
    "    axes[0].bar_label(container)\n",
    "\n",
    "sns.barplot(x='model', y='rouge-2_f', data=avg_rouge2, palette='viridis', ax=axes[1], hue='model')\n",
    "axes[1].set_title('Average Rouge-2 F1 Score for MapReduce Method')\n",
    "axes[1].set_xlabel('Model')\n",
    "axes[1].set_ylabel('Average Rouge-2 F1 Score')\n",
    "axes[1].set_xticklabels(axes[1].get_xticklabels(), rotation=45, ha='right')\n",
    "for container in axes[1].containers:\n",
    "    axes[1].bar_label(container)\n",
    "\n",
    "sns.barplot(x='model', y='rouge-l_f', data=avg_rouge_l, palette='viridis', ax=axes[2], hue='model')\n",
    "axes[2].set_title('Average Rouge-L F1 Score for MapReduce Method')\n",
    "axes[2].set_xlabel('Model')\n",
    "axes[2].set_ylabel('Average Rouge-L F1 Score')\n",
    "axes[2].set_xticklabels(axes[2].get_xticklabels(), rotation=45, ha='right')\n",
    "for container in axes[2].containers:\n",
    "    axes[2].bar_label(container)\n",
    "\n",
    "\n",
    "\n",
    "\n",
    "plt.tight_layout()\n",
    "\n",
    "plt.show()"
   ]
  }
 ],
 "metadata": {
  "kernelspec": {
   "display_name": ".venv",
   "language": "python",
   "name": "python3"
  },
  "language_info": {
   "codemirror_mode": {
    "name": "ipython",
    "version": 3
   },
   "file_extension": ".py",
   "mimetype": "text/x-python",
   "name": "python",
   "nbconvert_exporter": "python",
   "pygments_lexer": "ipython3",
   "version": "3.10.0"
  }
 },
 "nbformat": 4,
 "nbformat_minor": 2
}
