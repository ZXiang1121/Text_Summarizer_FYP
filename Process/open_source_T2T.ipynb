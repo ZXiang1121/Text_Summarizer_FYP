{
 "cells": [
  {
   "cell_type": "markdown",
   "metadata": {},
   "source": [
    "### Open-Source Text to Text Model\n",
    "\n",
    "Not trained for summarization but Chat & Answering"
   ]
  },
  {
   "cell_type": "markdown",
   "metadata": {},
   "source": [
    "### Install & Import Necessary Libraries"
   ]
  },
  {
   "cell_type": "code",
   "execution_count": 1,
   "metadata": {},
   "outputs": [
    {
     "name": "stderr",
     "output_type": "stream",
     "text": [
      "c:\\Users\\Zhang Xiang\\Desktop\\Year 3\\Sem 2\\FYPJ\\Project\\RD_TextSummarizerForWebinar\\Development\\.venv\\lib\\site-packages\\tqdm\\auto.py:21: TqdmWarning: IProgress not found. Please update jupyter and ipywidgets. See https://ipywidgets.readthedocs.io/en/stable/user_install.html\n",
      "  from .autonotebook import tqdm as notebook_tqdm\n",
      "[nltk_data] Downloading package punkt to C:\\Users\\Zhang\n",
      "[nltk_data]     Xiang\\AppData\\Roaming\\nltk_data...\n",
      "[nltk_data]   Package punkt is already up-to-date!\n",
      "[nltk_data] Downloading package stopwords to C:\\Users\\Zhang\n",
      "[nltk_data]     Xiang\\AppData\\Roaming\\nltk_data...\n",
      "[nltk_data]   Package stopwords is already up-to-date!\n"
     ]
    },
    {
     "data": {
      "text/plain": [
       "True"
      ]
     },
     "execution_count": 1,
     "metadata": {},
     "output_type": "execute_result"
    }
   ],
   "source": [
    "import time\n",
    "import sys\n",
    "sys.path.append('../')\n",
    "from helper.SummarizationMetrics import SummarizationMetrics\n",
    "from langchain.prompts import PromptTemplate\n",
    "\n",
    "\n",
    "import pandas as pd\n",
    "import numpy as np\n",
    "import matplotlib.pyplot as plt\n",
    "import math\n",
    "import seaborn as sns\n",
    "\n",
    "import torch\n",
    "import transformers\n",
    "from transformers import AutoTokenizer, AutoModelForSeq2SeqLM\n",
    "from  langchain import LLMChain, HuggingFacePipeline, PromptTemplate\n",
    "from langchain.chains.summarize import load_summarize_chain\n",
    "from langchain.embeddings import HuggingFaceEmbeddings\n",
    "from langchain.text_splitter import RecursiveCharacterTextSplitter\n",
    "\n",
    "from sentence_transformers import SentenceTransformer, util\n",
    "from scipy.signal import argrelextrema\n",
    "from sklearn.cluster import KMeans\n",
    "\n",
    "\n",
    "import nltk\n",
    "from nltk.corpus import stopwords\n",
    "from nltk.probability import FreqDist\n",
    "from nltk.tokenize import word_tokenize, sent_tokenize\n",
    "nltk.download('punkt')\n",
    "nltk.download('stopwords')"
   ]
  },
  {
   "cell_type": "code",
   "execution_count": 2,
   "metadata": {},
   "outputs": [],
   "source": [
    "def summ_pipeline(model, tokenizer, chain_type, max_length, prompt=False):\n",
    "  pipeline = transformers.pipeline(\n",
    "      \"text2text-generation\",\n",
    "      model=model,\n",
    "      tokenizer=tokenizer,\n",
    "      torch_dtype=torch.bfloat16,\n",
    "      trust_remote_code=True,\n",
    "      device_map=\"auto\",\n",
    "      max_length=max_length,\n",
    "      do_sample=True,\n",
    "      top_k=10,\n",
    "      num_return_sequences=1,\n",
    "      eos_token_id=tokenizer.eos_token_id,\n",
    "  )\n",
    "  llm = HuggingFacePipeline(pipeline = pipeline)\n",
    "\n",
    "\n",
    "  if chain_type == \"map_reduce\":\n",
    "    if prompt:\n",
    "      prompt_template = \"\"\"Summarize this: ```{text}```\"\"\"\n",
    "      prompt_message = PromptTemplate(template=prompt_template, input_variables=[\"text\"])\n",
    "      \n",
    "      summary_chain = load_summarize_chain(llm=llm, chain_type=chain_type, token_max=max_length, map_prompt=prompt_message)\n",
    "    else:\n",
    "      summary_chain = load_summarize_chain(llm=llm, chain_type=chain_type, token_max=max_length)\n",
    "  else:\n",
    "    # can't get it to work with refine and stuff, think they updated the library but no documentation\n",
    "    # on how to set token_max\n",
    "    summary_chain = load_summarize_chain(llm=llm, chain_type=chain_type)\n",
    "  return summary_chain"
   ]
  },
  {
   "cell_type": "code",
   "execution_count": 3,
   "metadata": {},
   "outputs": [
    {
     "data": {
      "text/html": [
       "<div>\n",
       "<style scoped>\n",
       "    .dataframe tbody tr th:only-of-type {\n",
       "        vertical-align: middle;\n",
       "    }\n",
       "\n",
       "    .dataframe tbody tr th {\n",
       "        vertical-align: top;\n",
       "    }\n",
       "\n",
       "    .dataframe thead th {\n",
       "        text-align: right;\n",
       "    }\n",
       "</style>\n",
       "<table border=\"1\" class=\"dataframe\">\n",
       "  <thead>\n",
       "    <tr style=\"text-align: right;\">\n",
       "      <th></th>\n",
       "      <th>summary</th>\n",
       "      <th>transcript</th>\n",
       "    </tr>\n",
       "  </thead>\n",
       "  <tbody>\n",
       "    <tr>\n",
       "      <th>0</th>\n",
       "      <td>A firsthand look at efforts to improve diversi...</td>\n",
       "      <td>All right. So our next talk is called Hacking...</td>\n",
       "    </tr>\n",
       "    <tr>\n",
       "      <th>1</th>\n",
       "      <td>It is certainly a time of discovery- though th...</td>\n",
       "      <td>Welcome, DEF CON 28, the Do No Harm panel. Th...</td>\n",
       "    </tr>\n",
       "    <tr>\n",
       "      <th>2</th>\n",
       "      <td>Roman Architecture (HSAR 252) Professor Kleine...</td>\n",
       "      <td>Good morning. As you can see from the title o...</td>\n",
       "    </tr>\n",
       "    <tr>\n",
       "      <th>3</th>\n",
       "      <td>Stochastic rewriting systems evolving over gra...</td>\n",
       "      <td>Thank you very much, first important question...</td>\n",
       "    </tr>\n",
       "    <tr>\n",
       "      <th>4</th>\n",
       "      <td>In typical military operations, the advantage ...</td>\n",
       "      <td>I was great to be with all of you today. I sa...</td>\n",
       "    </tr>\n",
       "  </tbody>\n",
       "</table>\n",
       "</div>"
      ],
      "text/plain": [
       "                                             summary  \\\n",
       "0  A firsthand look at efforts to improve diversi...   \n",
       "1  It is certainly a time of discovery- though th...   \n",
       "2  Roman Architecture (HSAR 252) Professor Kleine...   \n",
       "3  Stochastic rewriting systems evolving over gra...   \n",
       "4  In typical military operations, the advantage ...   \n",
       "\n",
       "                                          transcript  \n",
       "0   All right. So our next talk is called Hacking...  \n",
       "1   Welcome, DEF CON 28, the Do No Harm panel. Th...  \n",
       "2   Good morning. As you can see from the title o...  \n",
       "3   Thank you very much, first important question...  \n",
       "4   I was great to be with all of you today. I sa...  "
      ]
     },
     "execution_count": 3,
     "metadata": {},
     "output_type": "execute_result"
    }
   ],
   "source": [
    "df = pd.read_excel(\"../Data/tib_test.xlsx\")\n",
    "\n",
    "df_test = df.head(5)\n",
    "\n",
    "df_test"
   ]
  },
  {
   "cell_type": "code",
   "execution_count": 4,
   "metadata": {},
   "outputs": [],
   "source": [
    "df_scores = pd.DataFrame(columns=['model', 'method', 'max_tokens' ,'transcript','original summary', 'summary', 'rouge','bert_score', 'bleu', 'time_taken', 'grammar', 'readability'])"
   ]
  },
  {
   "cell_type": "code",
   "execution_count": 5,
   "metadata": {},
   "outputs": [],
   "source": [
    "# List of models\n",
    "models_512 = [\n",
    "    \"google/flan-t5-base\",\n",
    "    \"google/flan-t5-large\",\n",
    "]\n",
    "\n",
    "models_1024 = [\n",
    "\n",
    "]\n",
    "\n",
    "df_models_512 = pd.DataFrame(models_512, columns=[\"Models\"])\n"
   ]
  },
  {
   "cell_type": "code",
   "execution_count": 6,
   "metadata": {},
   "outputs": [
    {
     "name": "stdout",
     "output_type": "stream",
     "text": [
      "google/flan-t5-base\n",
      "1\n"
     ]
    },
    {
     "name": "stderr",
     "output_type": "stream",
     "text": [
      "Token indices sequence length is longer than the specified maximum sequence length for this model (546 > 512). Running this sequence through the model will result in indexing errors\n",
      "Some weights of RobertaModel were not initialized from the model checkpoint at roberta-large and are newly initialized: ['roberta.pooler.dense.bias', 'roberta.pooler.dense.weight']\n",
      "You should probably TRAIN this model on a down-stream task to be able to use it for predictions and inference.\n"
     ]
    },
    {
     "name": "stdout",
     "output_type": "stream",
     "text": [
      "calculating scores...\n",
      "computing bert embedding.\n"
     ]
    },
    {
     "name": "stderr",
     "output_type": "stream",
     "text": [
      "100%|██████████| 1/1 [00:02<00:00,  2.96s/it]\n"
     ]
    },
    {
     "name": "stdout",
     "output_type": "stream",
     "text": [
      "computing greedy matching.\n"
     ]
    },
    {
     "name": "stderr",
     "output_type": "stream",
     "text": [
      "100%|██████████| 1/1 [00:00<00:00, 100.02it/s]\n",
      "c:\\Users\\Zhang Xiang\\Desktop\\Year 3\\Sem 2\\FYPJ\\Project\\RD_TextSummarizerForWebinar\\Development\\.venv\\lib\\site-packages\\nltk\\translate\\bleu_score.py:552: UserWarning: \n",
      "The hypothesis contains 0 counts of 2-gram overlaps.\n",
      "Therefore the BLEU score evaluates to 0, independently of\n",
      "how many N-gram overlaps of lower order it contains.\n",
      "Consider using lower n-gram order or use SmoothingFunction()\n",
      "  warnings.warn(_msg)\n",
      "c:\\Users\\Zhang Xiang\\Desktop\\Year 3\\Sem 2\\FYPJ\\Project\\RD_TextSummarizerForWebinar\\Development\\.venv\\lib\\site-packages\\nltk\\translate\\bleu_score.py:552: UserWarning: \n",
      "The hypothesis contains 0 counts of 3-gram overlaps.\n",
      "Therefore the BLEU score evaluates to 0, independently of\n",
      "how many N-gram overlaps of lower order it contains.\n",
      "Consider using lower n-gram order or use SmoothingFunction()\n",
      "  warnings.warn(_msg)\n",
      "c:\\Users\\Zhang Xiang\\Desktop\\Year 3\\Sem 2\\FYPJ\\Project\\RD_TextSummarizerForWebinar\\Development\\.venv\\lib\\site-packages\\nltk\\translate\\bleu_score.py:552: UserWarning: \n",
      "The hypothesis contains 0 counts of 4-gram overlaps.\n",
      "Therefore the BLEU score evaluates to 0, independently of\n",
      "how many N-gram overlaps of lower order it contains.\n",
      "Consider using lower n-gram order or use SmoothingFunction()\n",
      "  warnings.warn(_msg)\n"
     ]
    },
    {
     "name": "stdout",
     "output_type": "stream",
     "text": [
      "done in 2.98 seconds, 0.34 sentences/sec\n"
     ]
    },
    {
     "name": "stderr",
     "output_type": "stream",
     "text": [
      "C:\\Users\\Zhang Xiang\\AppData\\Local\\Temp\\ipykernel_16452\\2764923580.py:46: FutureWarning: The behavior of DataFrame concatenation with empty or all-NA entries is deprecated. In a future version, this will no longer exclude empty or all-NA columns when determining the result dtypes. To retain the old behavior, exclude the relevant entries before the concat operation.\n",
      "  df_scores = pd.concat([df_scores, new_row], ignore_index=True)\n"
     ]
    },
    {
     "name": "stdout",
     "output_type": "stream",
     "text": [
      "1\n"
     ]
    },
    {
     "name": "stderr",
     "output_type": "stream",
     "text": [
      "Some weights of RobertaModel were not initialized from the model checkpoint at roberta-large and are newly initialized: ['roberta.pooler.dense.bias', 'roberta.pooler.dense.weight']\n",
      "You should probably TRAIN this model on a down-stream task to be able to use it for predictions and inference.\n"
     ]
    },
    {
     "name": "stdout",
     "output_type": "stream",
     "text": [
      "calculating scores...\n",
      "computing bert embedding.\n"
     ]
    },
    {
     "name": "stderr",
     "output_type": "stream",
     "text": [
      "100%|██████████| 1/1 [00:01<00:00,  1.61s/it]\n"
     ]
    },
    {
     "name": "stdout",
     "output_type": "stream",
     "text": [
      "computing greedy matching.\n"
     ]
    },
    {
     "name": "stderr",
     "output_type": "stream",
     "text": [
      "100%|██████████| 1/1 [00:00<00:00, 359.53it/s]\n",
      "c:\\Users\\Zhang Xiang\\Desktop\\Year 3\\Sem 2\\FYPJ\\Project\\RD_TextSummarizerForWebinar\\Development\\.venv\\lib\\site-packages\\nltk\\translate\\bleu_score.py:552: UserWarning: \n",
      "The hypothesis contains 0 counts of 2-gram overlaps.\n",
      "Therefore the BLEU score evaluates to 0, independently of\n",
      "how many N-gram overlaps of lower order it contains.\n",
      "Consider using lower n-gram order or use SmoothingFunction()\n",
      "  warnings.warn(_msg)\n",
      "c:\\Users\\Zhang Xiang\\Desktop\\Year 3\\Sem 2\\FYPJ\\Project\\RD_TextSummarizerForWebinar\\Development\\.venv\\lib\\site-packages\\nltk\\translate\\bleu_score.py:552: UserWarning: \n",
      "The hypothesis contains 0 counts of 3-gram overlaps.\n",
      "Therefore the BLEU score evaluates to 0, independently of\n",
      "how many N-gram overlaps of lower order it contains.\n",
      "Consider using lower n-gram order or use SmoothingFunction()\n",
      "  warnings.warn(_msg)\n",
      "c:\\Users\\Zhang Xiang\\Desktop\\Year 3\\Sem 2\\FYPJ\\Project\\RD_TextSummarizerForWebinar\\Development\\.venv\\lib\\site-packages\\nltk\\translate\\bleu_score.py:552: UserWarning: \n",
      "The hypothesis contains 0 counts of 4-gram overlaps.\n",
      "Therefore the BLEU score evaluates to 0, independently of\n",
      "how many N-gram overlaps of lower order it contains.\n",
      "Consider using lower n-gram order or use SmoothingFunction()\n",
      "  warnings.warn(_msg)\n"
     ]
    },
    {
     "name": "stdout",
     "output_type": "stream",
     "text": [
      "done in 1.62 seconds, 0.62 sentences/sec\n",
      "1\n"
     ]
    },
    {
     "name": "stderr",
     "output_type": "stream",
     "text": [
      "Some weights of RobertaModel were not initialized from the model checkpoint at roberta-large and are newly initialized: ['roberta.pooler.dense.bias', 'roberta.pooler.dense.weight']\n",
      "You should probably TRAIN this model on a down-stream task to be able to use it for predictions and inference.\n"
     ]
    },
    {
     "name": "stdout",
     "output_type": "stream",
     "text": [
      "calculating scores...\n",
      "computing bert embedding.\n"
     ]
    },
    {
     "name": "stderr",
     "output_type": "stream",
     "text": [
      "100%|██████████| 1/1 [00:02<00:00,  2.36s/it]\n"
     ]
    },
    {
     "name": "stdout",
     "output_type": "stream",
     "text": [
      "computing greedy matching.\n"
     ]
    },
    {
     "name": "stderr",
     "output_type": "stream",
     "text": [
      "100%|██████████| 1/1 [00:00<00:00, 499.86it/s]\n",
      "c:\\Users\\Zhang Xiang\\Desktop\\Year 3\\Sem 2\\FYPJ\\Project\\RD_TextSummarizerForWebinar\\Development\\.venv\\lib\\site-packages\\nltk\\translate\\bleu_score.py:552: UserWarning: \n",
      "The hypothesis contains 0 counts of 3-gram overlaps.\n",
      "Therefore the BLEU score evaluates to 0, independently of\n",
      "how many N-gram overlaps of lower order it contains.\n",
      "Consider using lower n-gram order or use SmoothingFunction()\n",
      "  warnings.warn(_msg)\n",
      "c:\\Users\\Zhang Xiang\\Desktop\\Year 3\\Sem 2\\FYPJ\\Project\\RD_TextSummarizerForWebinar\\Development\\.venv\\lib\\site-packages\\nltk\\translate\\bleu_score.py:552: UserWarning: \n",
      "The hypothesis contains 0 counts of 4-gram overlaps.\n",
      "Therefore the BLEU score evaluates to 0, independently of\n",
      "how many N-gram overlaps of lower order it contains.\n",
      "Consider using lower n-gram order or use SmoothingFunction()\n",
      "  warnings.warn(_msg)\n"
     ]
    },
    {
     "name": "stdout",
     "output_type": "stream",
     "text": [
      "done in 2.37 seconds, 0.42 sentences/sec\n",
      "1\n"
     ]
    },
    {
     "name": "stderr",
     "output_type": "stream",
     "text": [
      "Token indices sequence length is longer than the specified maximum sequence length for this model (1212 > 1024). Running this sequence through the model will result in indexing errors\n",
      "Some weights of RobertaModel were not initialized from the model checkpoint at roberta-large and are newly initialized: ['roberta.pooler.dense.bias', 'roberta.pooler.dense.weight']\n",
      "You should probably TRAIN this model on a down-stream task to be able to use it for predictions and inference.\n"
     ]
    },
    {
     "name": "stdout",
     "output_type": "stream",
     "text": [
      "calculating scores...\n",
      "computing bert embedding.\n"
     ]
    },
    {
     "name": "stderr",
     "output_type": "stream",
     "text": [
      "100%|██████████| 1/1 [00:03<00:00,  3.13s/it]\n"
     ]
    },
    {
     "name": "stdout",
     "output_type": "stream",
     "text": [
      "computing greedy matching.\n"
     ]
    },
    {
     "name": "stderr",
     "output_type": "stream",
     "text": [
      "100%|██████████| 1/1 [00:00<00:00, 200.22it/s]\n",
      "c:\\Users\\Zhang Xiang\\Desktop\\Year 3\\Sem 2\\FYPJ\\Project\\RD_TextSummarizerForWebinar\\Development\\.venv\\lib\\site-packages\\nltk\\translate\\bleu_score.py:552: UserWarning: \n",
      "The hypothesis contains 0 counts of 3-gram overlaps.\n",
      "Therefore the BLEU score evaluates to 0, independently of\n",
      "how many N-gram overlaps of lower order it contains.\n",
      "Consider using lower n-gram order or use SmoothingFunction()\n",
      "  warnings.warn(_msg)\n",
      "c:\\Users\\Zhang Xiang\\Desktop\\Year 3\\Sem 2\\FYPJ\\Project\\RD_TextSummarizerForWebinar\\Development\\.venv\\lib\\site-packages\\nltk\\translate\\bleu_score.py:552: UserWarning: \n",
      "The hypothesis contains 0 counts of 4-gram overlaps.\n",
      "Therefore the BLEU score evaluates to 0, independently of\n",
      "how many N-gram overlaps of lower order it contains.\n",
      "Consider using lower n-gram order or use SmoothingFunction()\n",
      "  warnings.warn(_msg)\n"
     ]
    },
    {
     "name": "stdout",
     "output_type": "stream",
     "text": [
      "done in 3.15 seconds, 0.32 sentences/sec\n",
      "1\n"
     ]
    },
    {
     "name": "stderr",
     "output_type": "stream",
     "text": [
      "Some weights of RobertaModel were not initialized from the model checkpoint at roberta-large and are newly initialized: ['roberta.pooler.dense.bias', 'roberta.pooler.dense.weight']\n",
      "You should probably TRAIN this model on a down-stream task to be able to use it for predictions and inference.\n"
     ]
    },
    {
     "name": "stdout",
     "output_type": "stream",
     "text": [
      "calculating scores...\n",
      "computing bert embedding.\n"
     ]
    },
    {
     "name": "stderr",
     "output_type": "stream",
     "text": [
      "100%|██████████| 1/1 [00:02<00:00,  2.12s/it]\n"
     ]
    },
    {
     "name": "stdout",
     "output_type": "stream",
     "text": [
      "computing greedy matching.\n"
     ]
    },
    {
     "name": "stderr",
     "output_type": "stream",
     "text": [
      "100%|██████████| 1/1 [00:00<00:00, 499.80it/s]\n",
      "c:\\Users\\Zhang Xiang\\Desktop\\Year 3\\Sem 2\\FYPJ\\Project\\RD_TextSummarizerForWebinar\\Development\\.venv\\lib\\site-packages\\nltk\\translate\\bleu_score.py:552: UserWarning: \n",
      "The hypothesis contains 0 counts of 2-gram overlaps.\n",
      "Therefore the BLEU score evaluates to 0, independently of\n",
      "how many N-gram overlaps of lower order it contains.\n",
      "Consider using lower n-gram order or use SmoothingFunction()\n",
      "  warnings.warn(_msg)\n",
      "c:\\Users\\Zhang Xiang\\Desktop\\Year 3\\Sem 2\\FYPJ\\Project\\RD_TextSummarizerForWebinar\\Development\\.venv\\lib\\site-packages\\nltk\\translate\\bleu_score.py:552: UserWarning: \n",
      "The hypothesis contains 0 counts of 3-gram overlaps.\n",
      "Therefore the BLEU score evaluates to 0, independently of\n",
      "how many N-gram overlaps of lower order it contains.\n",
      "Consider using lower n-gram order or use SmoothingFunction()\n",
      "  warnings.warn(_msg)\n",
      "c:\\Users\\Zhang Xiang\\Desktop\\Year 3\\Sem 2\\FYPJ\\Project\\RD_TextSummarizerForWebinar\\Development\\.venv\\lib\\site-packages\\nltk\\translate\\bleu_score.py:552: UserWarning: \n",
      "The hypothesis contains 0 counts of 4-gram overlaps.\n",
      "Therefore the BLEU score evaluates to 0, independently of\n",
      "how many N-gram overlaps of lower order it contains.\n",
      "Consider using lower n-gram order or use SmoothingFunction()\n",
      "  warnings.warn(_msg)\n"
     ]
    },
    {
     "name": "stdout",
     "output_type": "stream",
     "text": [
      "done in 2.13 seconds, 0.47 sentences/sec\n",
      "google/flan-t5-large\n",
      "1\n"
     ]
    },
    {
     "name": "stderr",
     "output_type": "stream",
     "text": [
      "Token indices sequence length is longer than the specified maximum sequence length for this model (545 > 512). Running this sequence through the model will result in indexing errors\n",
      "Some weights of RobertaModel were not initialized from the model checkpoint at roberta-large and are newly initialized: ['roberta.pooler.dense.bias', 'roberta.pooler.dense.weight']\n",
      "You should probably TRAIN this model on a down-stream task to be able to use it for predictions and inference.\n"
     ]
    },
    {
     "name": "stdout",
     "output_type": "stream",
     "text": [
      "calculating scores...\n",
      "computing bert embedding.\n"
     ]
    },
    {
     "name": "stderr",
     "output_type": "stream",
     "text": [
      "100%|██████████| 1/1 [00:02<00:00,  2.64s/it]\n"
     ]
    },
    {
     "name": "stdout",
     "output_type": "stream",
     "text": [
      "computing greedy matching.\n"
     ]
    },
    {
     "name": "stderr",
     "output_type": "stream",
     "text": [
      "100%|██████████| 1/1 [00:00<00:00, 111.10it/s]\n",
      "c:\\Users\\Zhang Xiang\\Desktop\\Year 3\\Sem 2\\FYPJ\\Project\\RD_TextSummarizerForWebinar\\Development\\.venv\\lib\\site-packages\\nltk\\translate\\bleu_score.py:552: UserWarning: \n",
      "The hypothesis contains 0 counts of 2-gram overlaps.\n",
      "Therefore the BLEU score evaluates to 0, independently of\n",
      "how many N-gram overlaps of lower order it contains.\n",
      "Consider using lower n-gram order or use SmoothingFunction()\n",
      "  warnings.warn(_msg)\n",
      "c:\\Users\\Zhang Xiang\\Desktop\\Year 3\\Sem 2\\FYPJ\\Project\\RD_TextSummarizerForWebinar\\Development\\.venv\\lib\\site-packages\\nltk\\translate\\bleu_score.py:552: UserWarning: \n",
      "The hypothesis contains 0 counts of 3-gram overlaps.\n",
      "Therefore the BLEU score evaluates to 0, independently of\n",
      "how many N-gram overlaps of lower order it contains.\n",
      "Consider using lower n-gram order or use SmoothingFunction()\n",
      "  warnings.warn(_msg)\n",
      "c:\\Users\\Zhang Xiang\\Desktop\\Year 3\\Sem 2\\FYPJ\\Project\\RD_TextSummarizerForWebinar\\Development\\.venv\\lib\\site-packages\\nltk\\translate\\bleu_score.py:552: UserWarning: \n",
      "The hypothesis contains 0 counts of 4-gram overlaps.\n",
      "Therefore the BLEU score evaluates to 0, independently of\n",
      "how many N-gram overlaps of lower order it contains.\n",
      "Consider using lower n-gram order or use SmoothingFunction()\n",
      "  warnings.warn(_msg)\n"
     ]
    },
    {
     "name": "stdout",
     "output_type": "stream",
     "text": [
      "done in 2.66 seconds, 0.38 sentences/sec\n",
      "1\n"
     ]
    },
    {
     "name": "stderr",
     "output_type": "stream",
     "text": [
      "Some weights of RobertaModel were not initialized from the model checkpoint at roberta-large and are newly initialized: ['roberta.pooler.dense.bias', 'roberta.pooler.dense.weight']\n",
      "You should probably TRAIN this model on a down-stream task to be able to use it for predictions and inference.\n"
     ]
    },
    {
     "name": "stdout",
     "output_type": "stream",
     "text": [
      "calculating scores...\n",
      "computing bert embedding.\n"
     ]
    },
    {
     "name": "stderr",
     "output_type": "stream",
     "text": [
      "100%|██████████| 1/1 [00:01<00:00,  1.75s/it]\n"
     ]
    },
    {
     "name": "stdout",
     "output_type": "stream",
     "text": [
      "computing greedy matching.\n"
     ]
    },
    {
     "name": "stderr",
     "output_type": "stream",
     "text": [
      "100%|██████████| 1/1 [00:00<00:00, 533.56it/s]\n",
      "c:\\Users\\Zhang Xiang\\Desktop\\Year 3\\Sem 2\\FYPJ\\Project\\RD_TextSummarizerForWebinar\\Development\\.venv\\lib\\site-packages\\nltk\\translate\\bleu_score.py:552: UserWarning: \n",
      "The hypothesis contains 0 counts of 2-gram overlaps.\n",
      "Therefore the BLEU score evaluates to 0, independently of\n",
      "how many N-gram overlaps of lower order it contains.\n",
      "Consider using lower n-gram order or use SmoothingFunction()\n",
      "  warnings.warn(_msg)\n",
      "c:\\Users\\Zhang Xiang\\Desktop\\Year 3\\Sem 2\\FYPJ\\Project\\RD_TextSummarizerForWebinar\\Development\\.venv\\lib\\site-packages\\nltk\\translate\\bleu_score.py:552: UserWarning: \n",
      "The hypothesis contains 0 counts of 3-gram overlaps.\n",
      "Therefore the BLEU score evaluates to 0, independently of\n",
      "how many N-gram overlaps of lower order it contains.\n",
      "Consider using lower n-gram order or use SmoothingFunction()\n",
      "  warnings.warn(_msg)\n",
      "c:\\Users\\Zhang Xiang\\Desktop\\Year 3\\Sem 2\\FYPJ\\Project\\RD_TextSummarizerForWebinar\\Development\\.venv\\lib\\site-packages\\nltk\\translate\\bleu_score.py:552: UserWarning: \n",
      "The hypothesis contains 0 counts of 4-gram overlaps.\n",
      "Therefore the BLEU score evaluates to 0, independently of\n",
      "how many N-gram overlaps of lower order it contains.\n",
      "Consider using lower n-gram order or use SmoothingFunction()\n",
      "  warnings.warn(_msg)\n"
     ]
    },
    {
     "name": "stdout",
     "output_type": "stream",
     "text": [
      "done in 1.77 seconds, 0.57 sentences/sec\n",
      "1\n"
     ]
    },
    {
     "name": "stderr",
     "output_type": "stream",
     "text": [
      "Some weights of RobertaModel were not initialized from the model checkpoint at roberta-large and are newly initialized: ['roberta.pooler.dense.bias', 'roberta.pooler.dense.weight']\n",
      "You should probably TRAIN this model on a down-stream task to be able to use it for predictions and inference.\n"
     ]
    },
    {
     "name": "stdout",
     "output_type": "stream",
     "text": [
      "calculating scores...\n",
      "computing bert embedding.\n"
     ]
    },
    {
     "name": "stderr",
     "output_type": "stream",
     "text": [
      "100%|██████████| 1/1 [00:02<00:00,  2.74s/it]\n"
     ]
    },
    {
     "name": "stdout",
     "output_type": "stream",
     "text": [
      "computing greedy matching.\n"
     ]
    },
    {
     "name": "stderr",
     "output_type": "stream",
     "text": [
      "100%|██████████| 1/1 [00:00<00:00, 345.21it/s]\n",
      "c:\\Users\\Zhang Xiang\\Desktop\\Year 3\\Sem 2\\FYPJ\\Project\\RD_TextSummarizerForWebinar\\Development\\.venv\\lib\\site-packages\\nltk\\translate\\bleu_score.py:552: UserWarning: \n",
      "The hypothesis contains 0 counts of 3-gram overlaps.\n",
      "Therefore the BLEU score evaluates to 0, independently of\n",
      "how many N-gram overlaps of lower order it contains.\n",
      "Consider using lower n-gram order or use SmoothingFunction()\n",
      "  warnings.warn(_msg)\n",
      "c:\\Users\\Zhang Xiang\\Desktop\\Year 3\\Sem 2\\FYPJ\\Project\\RD_TextSummarizerForWebinar\\Development\\.venv\\lib\\site-packages\\nltk\\translate\\bleu_score.py:552: UserWarning: \n",
      "The hypothesis contains 0 counts of 4-gram overlaps.\n",
      "Therefore the BLEU score evaluates to 0, independently of\n",
      "how many N-gram overlaps of lower order it contains.\n",
      "Consider using lower n-gram order or use SmoothingFunction()\n",
      "  warnings.warn(_msg)\n"
     ]
    },
    {
     "name": "stdout",
     "output_type": "stream",
     "text": [
      "done in 2.75 seconds, 0.36 sentences/sec\n",
      "1\n"
     ]
    },
    {
     "name": "stderr",
     "output_type": "stream",
     "text": [
      "Some weights of RobertaModel were not initialized from the model checkpoint at roberta-large and are newly initialized: ['roberta.pooler.dense.bias', 'roberta.pooler.dense.weight']\n",
      "You should probably TRAIN this model on a down-stream task to be able to use it for predictions and inference.\n"
     ]
    },
    {
     "name": "stdout",
     "output_type": "stream",
     "text": [
      "calculating scores...\n",
      "computing bert embedding.\n"
     ]
    },
    {
     "name": "stderr",
     "output_type": "stream",
     "text": [
      "100%|██████████| 1/1 [00:04<00:00,  4.02s/it]\n"
     ]
    },
    {
     "name": "stdout",
     "output_type": "stream",
     "text": [
      "computing greedy matching.\n"
     ]
    },
    {
     "name": "stderr",
     "output_type": "stream",
     "text": [
      "100%|██████████| 1/1 [00:00<00:00, 498.55it/s]\n",
      "c:\\Users\\Zhang Xiang\\Desktop\\Year 3\\Sem 2\\FYPJ\\Project\\RD_TextSummarizerForWebinar\\Development\\.venv\\lib\\site-packages\\nltk\\translate\\bleu_score.py:552: UserWarning: \n",
      "The hypothesis contains 0 counts of 2-gram overlaps.\n",
      "Therefore the BLEU score evaluates to 0, independently of\n",
      "how many N-gram overlaps of lower order it contains.\n",
      "Consider using lower n-gram order or use SmoothingFunction()\n",
      "  warnings.warn(_msg)\n",
      "c:\\Users\\Zhang Xiang\\Desktop\\Year 3\\Sem 2\\FYPJ\\Project\\RD_TextSummarizerForWebinar\\Development\\.venv\\lib\\site-packages\\nltk\\translate\\bleu_score.py:552: UserWarning: \n",
      "The hypothesis contains 0 counts of 3-gram overlaps.\n",
      "Therefore the BLEU score evaluates to 0, independently of\n",
      "how many N-gram overlaps of lower order it contains.\n",
      "Consider using lower n-gram order or use SmoothingFunction()\n",
      "  warnings.warn(_msg)\n",
      "c:\\Users\\Zhang Xiang\\Desktop\\Year 3\\Sem 2\\FYPJ\\Project\\RD_TextSummarizerForWebinar\\Development\\.venv\\lib\\site-packages\\nltk\\translate\\bleu_score.py:552: UserWarning: \n",
      "The hypothesis contains 0 counts of 4-gram overlaps.\n",
      "Therefore the BLEU score evaluates to 0, independently of\n",
      "how many N-gram overlaps of lower order it contains.\n",
      "Consider using lower n-gram order or use SmoothingFunction()\n",
      "  warnings.warn(_msg)\n"
     ]
    },
    {
     "name": "stdout",
     "output_type": "stream",
     "text": [
      "done in 4.03 seconds, 0.25 sentences/sec\n",
      "1\n"
     ]
    },
    {
     "name": "stderr",
     "output_type": "stream",
     "text": [
      "Some weights of RobertaModel were not initialized from the model checkpoint at roberta-large and are newly initialized: ['roberta.pooler.dense.bias', 'roberta.pooler.dense.weight']\n",
      "You should probably TRAIN this model on a down-stream task to be able to use it for predictions and inference.\n"
     ]
    },
    {
     "name": "stdout",
     "output_type": "stream",
     "text": [
      "calculating scores...\n",
      "computing bert embedding.\n"
     ]
    },
    {
     "name": "stderr",
     "output_type": "stream",
     "text": [
      "100%|██████████| 1/1 [00:02<00:00,  2.26s/it]\n"
     ]
    },
    {
     "name": "stdout",
     "output_type": "stream",
     "text": [
      "computing greedy matching.\n"
     ]
    },
    {
     "name": "stderr",
     "output_type": "stream",
     "text": [
      "100%|██████████| 1/1 [00:00<00:00, 333.12it/s]\n",
      "c:\\Users\\Zhang Xiang\\Desktop\\Year 3\\Sem 2\\FYPJ\\Project\\RD_TextSummarizerForWebinar\\Development\\.venv\\lib\\site-packages\\nltk\\translate\\bleu_score.py:552: UserWarning: \n",
      "The hypothesis contains 0 counts of 4-gram overlaps.\n",
      "Therefore the BLEU score evaluates to 0, independently of\n",
      "how many N-gram overlaps of lower order it contains.\n",
      "Consider using lower n-gram order or use SmoothingFunction()\n",
      "  warnings.warn(_msg)\n"
     ]
    },
    {
     "name": "stdout",
     "output_type": "stream",
     "text": [
      "done in 2.27 seconds, 0.44 sentences/sec\n"
     ]
    }
   ],
   "source": [
    "for model_name in df_models_512['Models']:\n",
    "    print(model_name)\n",
    "    tokenizer = AutoTokenizer.from_pretrained(model_name)\n",
    "    model = AutoModelForSeq2SeqLM.from_pretrained(model_name)\n",
    "\n",
    "    for index, row in df_test.iterrows():\n",
    "        method = \"MapReduce\"\n",
    "        \n",
    "\n",
    "        # get the summary\n",
    "        start_time = time.time()\n",
    "        max_tokens = tokenizer.model_max_length\n",
    "        \n",
    "        summary_chain = summ_pipeline(model, tokenizer, \"map_reduce\", max_tokens, True)\n",
    "        print('1')\n",
    "        # Used for efficient tokenization and processing of long texts when working with language models\n",
    "        text_splitter = RecursiveCharacterTextSplitter.from_tiktoken_encoder(chunk_size=max_tokens-100, chunk_overlap=100)\n",
    "        docs = text_splitter.create_documents([row[\"transcript\"]])\n",
    "\n",
    "        summary = summary_chain.run(docs)\n",
    "\n",
    "\n",
    "        end_time = time.time()\n",
    "        elapsed_time = end_time - start_time\n",
    "\n",
    "        metrics = SummarizationMetrics(row['summary'], summary)\n",
    "\n",
    "        new_result = {\n",
    "            'model': model_name,\n",
    "            'method': method,\n",
    "            'max_tokens': max_tokens,\n",
    "            'transcript': row['transcript'],\n",
    "            'original summary': row['summary'],\n",
    "            'summary': summary,\n",
    "            'rouge': metrics.rouge_scores(),\n",
    "            'bert_score': metrics.bert_score(),\n",
    "            'bleu': metrics.bleu_score(),\n",
    "            'time_taken': elapsed_time,\n",
    "            'grammar': metrics.grammar_check(),\n",
    "            'readability': metrics.readability_index()\n",
    "        }\n",
    "\n",
    "\n",
    "        new_row = pd.DataFrame([new_result])\n",
    "\n",
    "        df_scores = pd.concat([df_scores, new_row], ignore_index=True)\n"
   ]
  },
  {
   "cell_type": "code",
   "execution_count": 8,
   "metadata": {},
   "outputs": [
    {
     "data": {
      "text/html": [
       "<div>\n",
       "<style scoped>\n",
       "    .dataframe tbody tr th:only-of-type {\n",
       "        vertical-align: middle;\n",
       "    }\n",
       "\n",
       "    .dataframe tbody tr th {\n",
       "        vertical-align: top;\n",
       "    }\n",
       "\n",
       "    .dataframe thead th {\n",
       "        text-align: right;\n",
       "    }\n",
       "</style>\n",
       "<table border=\"1\" class=\"dataframe\">\n",
       "  <thead>\n",
       "    <tr style=\"text-align: right;\">\n",
       "      <th></th>\n",
       "      <th>model</th>\n",
       "      <th>method</th>\n",
       "      <th>max_tokens</th>\n",
       "      <th>transcript</th>\n",
       "      <th>original summary</th>\n",
       "      <th>summary</th>\n",
       "      <th>rouge</th>\n",
       "      <th>bert_score</th>\n",
       "      <th>bleu</th>\n",
       "      <th>time_taken</th>\n",
       "      <th>grammar</th>\n",
       "      <th>readability</th>\n",
       "    </tr>\n",
       "  </thead>\n",
       "  <tbody>\n",
       "    <tr>\n",
       "      <th>0</th>\n",
       "      <td>google/flan-t5-base</td>\n",
       "      <td>MapReduce</td>\n",
       "      <td>512</td>\n",
       "      <td>All right. So our next talk is called Hacking...</td>\n",
       "      <td>A firsthand look at efforts to improve diversi...</td>\n",
       "      <td>MIT’s Jeremy Peters and Sarah Somers are discu...</td>\n",
       "      <td>[{'rouge-1': {'r': 0.02976190476190476, 'p': 0...</td>\n",
       "      <td>([tensor(0.8459)], [tensor(0.8010)], [tensor(0...</td>\n",
       "      <td>9.723315e-236</td>\n",
       "      <td>41.102583</td>\n",
       "      <td>[Offset 30, length 6, Rule ID: MORFOLOGIK_RULE...</td>\n",
       "      <td>100 words required.</td>\n",
       "    </tr>\n",
       "    <tr>\n",
       "      <th>1</th>\n",
       "      <td>google/flan-t5-base</td>\n",
       "      <td>MapReduce</td>\n",
       "      <td>512</td>\n",
       "      <td>Welcome, DEF CON 28, the Do No Harm panel. Th...</td>\n",
       "      <td>It is certainly a time of discovery- though th...</td>\n",
       "      <td>\"DEF Con\" on Dec. 21.</td>\n",
       "      <td>[{'rouge-1': {'r': 0.007874015748031496, 'p': ...</td>\n",
       "      <td>([tensor(0.8517)], [tensor(0.7828)], [tensor(0...</td>\n",
       "      <td>2.243577e-242</td>\n",
       "      <td>44.164815</td>\n",
       "      <td>[]</td>\n",
       "      <td>100 words required.</td>\n",
       "    </tr>\n",
       "    <tr>\n",
       "      <th>2</th>\n",
       "      <td>google/flan-t5-base</td>\n",
       "      <td>MapReduce</td>\n",
       "      <td>512</td>\n",
       "      <td>Good morning. As you can see from the title o...</td>\n",
       "      <td>Roman Architecture (HSAR 252) Professor Kleine...</td>\n",
       "      <td>\"You should have a clearer view of Pompeii, an...</td>\n",
       "      <td>[{'rouge-1': {'r': 0.04285714285714286, 'p': 0...</td>\n",
       "      <td>([tensor(0.8265)], [tensor(0.7688)], [tensor(0...</td>\n",
       "      <td>4.153298e-158</td>\n",
       "      <td>48.918595</td>\n",
       "      <td>[]</td>\n",
       "      <td>100 words required.</td>\n",
       "    </tr>\n",
       "    <tr>\n",
       "      <th>3</th>\n",
       "      <td>google/flan-t5-base</td>\n",
       "      <td>MapReduce</td>\n",
       "      <td>512</td>\n",
       "      <td>Thank you very much, first important question...</td>\n",
       "      <td>Stochastic rewriting systems evolving over gra...</td>\n",
       "      <td>The Berkeley Conference is a conference about ...</td>\n",
       "      <td>[{'rouge-1': {'r': 0.044444444444444446, 'p': ...</td>\n",
       "      <td>([tensor(0.8346)], [tensor(0.7700)], [tensor(0...</td>\n",
       "      <td>2.796185e-160</td>\n",
       "      <td>68.292450</td>\n",
       "      <td>[]</td>\n",
       "      <td>100 words required.</td>\n",
       "    </tr>\n",
       "    <tr>\n",
       "      <th>4</th>\n",
       "      <td>google/flan-t5-base</td>\n",
       "      <td>MapReduce</td>\n",
       "      <td>512</td>\n",
       "      <td>I was great to be with all of you today. I sa...</td>\n",
       "      <td>In typical military operations, the advantage ...</td>\n",
       "      <td>A Deaf Veterans' perspective on cybersecurity</td>\n",
       "      <td>[{'rouge-1': {'r': 0.007407407407407408, 'p': ...</td>\n",
       "      <td>([tensor(0.8075)], [tensor(0.7777)], [tensor(0...</td>\n",
       "      <td>3.399302e-246</td>\n",
       "      <td>34.339274</td>\n",
       "      <td>[]</td>\n",
       "      <td>100 words required.</td>\n",
       "    </tr>\n",
       "    <tr>\n",
       "      <th>5</th>\n",
       "      <td>google/flan-t5-large</td>\n",
       "      <td>MapReduce</td>\n",
       "      <td>512</td>\n",
       "      <td>All right. So our next talk is called Hacking...</td>\n",
       "      <td>A firsthand look at efforts to improve diversi...</td>\n",
       "      <td>Douglas Douglas will give a talk about feminis...</td>\n",
       "      <td>[{'rouge-1': {'r': 0.023809523809523808, 'p': ...</td>\n",
       "      <td>([tensor(0.8181)], [tensor(0.7894)], [tensor(0...</td>\n",
       "      <td>1.534528e-237</td>\n",
       "      <td>131.849959</td>\n",
       "      <td>[Offset 0, length 15, Rule ID: ENGLISH_WORD_RE...</td>\n",
       "      <td>100 words required.</td>\n",
       "    </tr>\n",
       "    <tr>\n",
       "      <th>6</th>\n",
       "      <td>google/flan-t5-large</td>\n",
       "      <td>MapReduce</td>\n",
       "      <td>512</td>\n",
       "      <td>Welcome, DEF CON 28, the Do No Harm panel. Th...</td>\n",
       "      <td>It is certainly a time of discovery- though th...</td>\n",
       "      <td>The Do No Harm panel is at DEFCON 28.</td>\n",
       "      <td>[{'rouge-1': {'r': 0.023622047244094488, 'p': ...</td>\n",
       "      <td>([tensor(0.8348)], [tensor(0.7858)], [tensor(0...</td>\n",
       "      <td>4.031086e-240</td>\n",
       "      <td>129.691131</td>\n",
       "      <td>[]</td>\n",
       "      <td>100 words required.</td>\n",
       "    </tr>\n",
       "    <tr>\n",
       "      <th>7</th>\n",
       "      <td>google/flan-t5-large</td>\n",
       "      <td>MapReduce</td>\n",
       "      <td>512</td>\n",
       "      <td>Good morning. As you can see from the title o...</td>\n",
       "      <td>Roman Architecture (HSAR 252) Professor Kleine...</td>\n",
       "      <td>Students learn about the ancient Roman Republi...</td>\n",
       "      <td>[{'rouge-1': {'r': 0.05, 'p': 0.25, 'f': 0.083...</td>\n",
       "      <td>([tensor(0.8442)], [tensor(0.7736)], [tensor(0...</td>\n",
       "      <td>7.376383e-158</td>\n",
       "      <td>155.554224</td>\n",
       "      <td>[]</td>\n",
       "      <td>100 words required.</td>\n",
       "    </tr>\n",
       "    <tr>\n",
       "      <th>8</th>\n",
       "      <td>google/flan-t5-large</td>\n",
       "      <td>MapReduce</td>\n",
       "      <td>512</td>\n",
       "      <td>Thank you very much, first important question...</td>\n",
       "      <td>Stochastic rewriting systems evolving over gra...</td>\n",
       "      <td>\"Is it possible to manipulate trees as structu...</td>\n",
       "      <td>[{'rouge-1': {'r': 0.016666666666666666, 'p': ...</td>\n",
       "      <td>([tensor(0.8444)], [tensor(0.7671)], [tensor(0...</td>\n",
       "      <td>1.132761e-243</td>\n",
       "      <td>148.562496</td>\n",
       "      <td>[]</td>\n",
       "      <td>100 words required.</td>\n",
       "    </tr>\n",
       "    <tr>\n",
       "      <th>9</th>\n",
       "      <td>google/flan-t5-large</td>\n",
       "      <td>MapReduce</td>\n",
       "      <td>512</td>\n",
       "      <td>I was great to be with all of you today. I sa...</td>\n",
       "      <td>In typical military operations, the advantage ...</td>\n",
       "      <td>\"The U.S. Air Force's Chief Information Office...</td>\n",
       "      <td>[{'rouge-1': {'r': 0.08148148148148149, 'p': 0...</td>\n",
       "      <td>([tensor(0.8522)], [tensor(0.8114)], [tensor(0...</td>\n",
       "      <td>3.568590e-80</td>\n",
       "      <td>137.609319</td>\n",
       "      <td>[Offset 0, length 1, Rule ID: EN_UNPAIRED_BRAC...</td>\n",
       "      <td>100 words required.</td>\n",
       "    </tr>\n",
       "  </tbody>\n",
       "</table>\n",
       "</div>"
      ],
      "text/plain": [
       "                  model     method max_tokens  \\\n",
       "0   google/flan-t5-base  MapReduce        512   \n",
       "1   google/flan-t5-base  MapReduce        512   \n",
       "2   google/flan-t5-base  MapReduce        512   \n",
       "3   google/flan-t5-base  MapReduce        512   \n",
       "4   google/flan-t5-base  MapReduce        512   \n",
       "5  google/flan-t5-large  MapReduce        512   \n",
       "6  google/flan-t5-large  MapReduce        512   \n",
       "7  google/flan-t5-large  MapReduce        512   \n",
       "8  google/flan-t5-large  MapReduce        512   \n",
       "9  google/flan-t5-large  MapReduce        512   \n",
       "\n",
       "                                          transcript  \\\n",
       "0   All right. So our next talk is called Hacking...   \n",
       "1   Welcome, DEF CON 28, the Do No Harm panel. Th...   \n",
       "2   Good morning. As you can see from the title o...   \n",
       "3   Thank you very much, first important question...   \n",
       "4   I was great to be with all of you today. I sa...   \n",
       "5   All right. So our next talk is called Hacking...   \n",
       "6   Welcome, DEF CON 28, the Do No Harm panel. Th...   \n",
       "7   Good morning. As you can see from the title o...   \n",
       "8   Thank you very much, first important question...   \n",
       "9   I was great to be with all of you today. I sa...   \n",
       "\n",
       "                                    original summary  \\\n",
       "0  A firsthand look at efforts to improve diversi...   \n",
       "1  It is certainly a time of discovery- though th...   \n",
       "2  Roman Architecture (HSAR 252) Professor Kleine...   \n",
       "3  Stochastic rewriting systems evolving over gra...   \n",
       "4  In typical military operations, the advantage ...   \n",
       "5  A firsthand look at efforts to improve diversi...   \n",
       "6  It is certainly a time of discovery- though th...   \n",
       "7  Roman Architecture (HSAR 252) Professor Kleine...   \n",
       "8  Stochastic rewriting systems evolving over gra...   \n",
       "9  In typical military operations, the advantage ...   \n",
       "\n",
       "                                             summary  \\\n",
       "0  MIT’s Jeremy Peters and Sarah Somers are discu...   \n",
       "1                              \"DEF Con\" on Dec. 21.   \n",
       "2  \"You should have a clearer view of Pompeii, an...   \n",
       "3  The Berkeley Conference is a conference about ...   \n",
       "4      A Deaf Veterans' perspective on cybersecurity   \n",
       "5  Douglas Douglas will give a talk about feminis...   \n",
       "6              The Do No Harm panel is at DEFCON 28.   \n",
       "7  Students learn about the ancient Roman Republi...   \n",
       "8  \"Is it possible to manipulate trees as structu...   \n",
       "9  \"The U.S. Air Force's Chief Information Office...   \n",
       "\n",
       "                                               rouge  \\\n",
       "0  [{'rouge-1': {'r': 0.02976190476190476, 'p': 0...   \n",
       "1  [{'rouge-1': {'r': 0.007874015748031496, 'p': ...   \n",
       "2  [{'rouge-1': {'r': 0.04285714285714286, 'p': 0...   \n",
       "3  [{'rouge-1': {'r': 0.044444444444444446, 'p': ...   \n",
       "4  [{'rouge-1': {'r': 0.007407407407407408, 'p': ...   \n",
       "5  [{'rouge-1': {'r': 0.023809523809523808, 'p': ...   \n",
       "6  [{'rouge-1': {'r': 0.023622047244094488, 'p': ...   \n",
       "7  [{'rouge-1': {'r': 0.05, 'p': 0.25, 'f': 0.083...   \n",
       "8  [{'rouge-1': {'r': 0.016666666666666666, 'p': ...   \n",
       "9  [{'rouge-1': {'r': 0.08148148148148149, 'p': 0...   \n",
       "\n",
       "                                          bert_score           bleu  \\\n",
       "0  ([tensor(0.8459)], [tensor(0.8010)], [tensor(0...  9.723315e-236   \n",
       "1  ([tensor(0.8517)], [tensor(0.7828)], [tensor(0...  2.243577e-242   \n",
       "2  ([tensor(0.8265)], [tensor(0.7688)], [tensor(0...  4.153298e-158   \n",
       "3  ([tensor(0.8346)], [tensor(0.7700)], [tensor(0...  2.796185e-160   \n",
       "4  ([tensor(0.8075)], [tensor(0.7777)], [tensor(0...  3.399302e-246   \n",
       "5  ([tensor(0.8181)], [tensor(0.7894)], [tensor(0...  1.534528e-237   \n",
       "6  ([tensor(0.8348)], [tensor(0.7858)], [tensor(0...  4.031086e-240   \n",
       "7  ([tensor(0.8442)], [tensor(0.7736)], [tensor(0...  7.376383e-158   \n",
       "8  ([tensor(0.8444)], [tensor(0.7671)], [tensor(0...  1.132761e-243   \n",
       "9  ([tensor(0.8522)], [tensor(0.8114)], [tensor(0...   3.568590e-80   \n",
       "\n",
       "   time_taken                                            grammar  \\\n",
       "0   41.102583  [Offset 30, length 6, Rule ID: MORFOLOGIK_RULE...   \n",
       "1   44.164815                                                 []   \n",
       "2   48.918595                                                 []   \n",
       "3   68.292450                                                 []   \n",
       "4   34.339274                                                 []   \n",
       "5  131.849959  [Offset 0, length 15, Rule ID: ENGLISH_WORD_RE...   \n",
       "6  129.691131                                                 []   \n",
       "7  155.554224                                                 []   \n",
       "8  148.562496                                                 []   \n",
       "9  137.609319  [Offset 0, length 1, Rule ID: EN_UNPAIRED_BRAC...   \n",
       "\n",
       "           readability  \n",
       "0  100 words required.  \n",
       "1  100 words required.  \n",
       "2  100 words required.  \n",
       "3  100 words required.  \n",
       "4  100 words required.  \n",
       "5  100 words required.  \n",
       "6  100 words required.  \n",
       "7  100 words required.  \n",
       "8  100 words required.  \n",
       "9  100 words required.  "
      ]
     },
     "execution_count": 8,
     "metadata": {},
     "output_type": "execute_result"
    }
   ],
   "source": [
    "df_scores"
   ]
  },
  {
   "cell_type": "code",
   "execution_count": 9,
   "metadata": {},
   "outputs": [],
   "source": [
    "df_scores.to_excel(\"./result/open_source_model_t2t.xlsx\", index=False)"
   ]
  },
  {
   "cell_type": "code",
   "execution_count": 10,
   "metadata": {},
   "outputs": [
    {
     "name": "stderr",
     "output_type": "stream",
     "text": [
      "C:\\Users\\Zhang Xiang\\AppData\\Local\\Temp\\ipykernel_16452\\2086916961.py:25: UserWarning: set_ticklabels() should only be used with a fixed number of ticks, i.e. after set_ticks() or using a FixedLocator.\n",
      "  axes[0].set_xticklabels(axes[0].get_xticklabels(), rotation=45, ha='right')\n",
      "C:\\Users\\Zhang Xiang\\AppData\\Local\\Temp\\ipykernel_16452\\2086916961.py:34: UserWarning: set_ticklabels() should only be used with a fixed number of ticks, i.e. after set_ticks() or using a FixedLocator.\n",
      "  axes[1].set_xticklabels(axes[1].get_xticklabels(), rotation=45, ha='right')\n",
      "C:\\Users\\Zhang Xiang\\AppData\\Local\\Temp\\ipykernel_16452\\2086916961.py:42: UserWarning: set_ticklabels() should only be used with a fixed number of ticks, i.e. after set_ticks() or using a FixedLocator.\n",
      "  axes[2].set_xticklabels(axes[2].get_xticklabels(), rotation=45, ha='right')\n"
     ]
    },
    {
     "data": {
      "image/png": "[encoded data removed]",
      "text/plain": [
       "<Figure size 1800x800 with 3 Axes>"
      ]
     },
     "metadata": {},
     "output_type": "display_data"
    }
   ],
   "source": [
    "# Convert string representation of dict to a dictionary\n",
    "df_scores['rouge_scores'] = df_scores['rouge'].apply(lambda x: x[0])\n",
    "\n",
    "# Extract Rouge-1, Rouge-2, and Rouge-L F1 scores from the dictionary\n",
    "df_scores['rouge-1_f'] = df_scores['rouge_scores'].apply(lambda x: x['rouge-1']['f'])\n",
    "df_scores['rouge-2_f'] = df_scores['rouge_scores'].apply(lambda x: x['rouge-2']['f'])\n",
    "df_scores['rouge-l_f'] = df_scores['rouge_scores'].apply(lambda x: x['rouge-l']['f'])\n",
    "\n",
    "# Filter data for MapReduce method\n",
    "df_scores_mapreduce = df_scores[df_scores['method'] == 'MapReduce']\n",
    "\n",
    "# Calculate the average of Rouge-1, Rouge-2, and Rouge-L F1 scores for each model\n",
    "avg_rouge1 = df_scores_mapreduce.groupby('model')['rouge-1_f'].mean().reset_index()\n",
    "avg_rouge2 = df_scores_mapreduce.groupby('model')['rouge-2_f'].mean().reset_index()\n",
    "avg_rouge_l = df_scores_mapreduce.groupby('model')['rouge-l_f'].mean().reset_index()\n",
    "\n",
    "fig, axes = plt.subplots(nrows=1, ncols=3, figsize=(18, 8))\n",
    "\n",
    "# Plot Charts\n",
    "sns.barplot(x='model', y='rouge-1_f', data=avg_rouge1, palette='viridis', ax=axes[0], hue='model')\n",
    "axes[0].set_title('Average Rouge-1 F1 Score for MapReduce Method')\n",
    "axes[0].set_xlabel('Model')\n",
    "axes[0].set_ylabel('Average Rouge-1 F1 Score')\n",
    "# axes[0].tick_params(axis='x', labelrotation = 45)\n",
    "axes[0].set_xticklabels(axes[0].get_xticklabels(), rotation=45, ha='right')\n",
    "\n",
    "for container in axes[0].containers:\n",
    "    axes[0].bar_label(container)\n",
    "\n",
    "sns.barplot(x='model', y='rouge-2_f', data=avg_rouge2, palette='viridis', ax=axes[1], hue='model')\n",
    "axes[1].set_title('Average Rouge-2 F1 Score for MapReduce Method')\n",
    "axes[1].set_xlabel('Model')\n",
    "axes[1].set_ylabel('Average Rouge-2 F1 Score')\n",
    "axes[1].set_xticklabels(axes[1].get_xticklabels(), rotation=45, ha='right')\n",
    "for container in axes[1].containers:\n",
    "    axes[1].bar_label(container)\n",
    "\n",
    "sns.barplot(x='model', y='rouge-l_f', data=avg_rouge_l, palette='viridis', ax=axes[2], hue='model')\n",
    "axes[2].set_title('Average Rouge-L F1 Score for MapReduce Method')\n",
    "axes[2].set_xlabel('Model')\n",
    "axes[2].set_ylabel('Average Rouge-L F1 Score')\n",
    "axes[2].set_xticklabels(axes[2].get_xticklabels(), rotation=45, ha='right')\n",
    "for container in axes[2].containers:\n",
    "    axes[2].bar_label(container)\n",
    "\n",
    "\n",
    "\n",
    "\n",
    "plt.tight_layout()\n",
    "\n",
    "plt.show()"
   ]
  },
  {
   "cell_type": "code",
   "execution_count": null,
   "metadata": {},
   "outputs": [],
   "source": []
  },
  {
   "cell_type": "code",
   "execution_count": null,
   "metadata": {},
   "outputs": [],
   "source": []
  },
  {
   "cell_type": "code",
   "execution_count": null,
   "metadata": {},
   "outputs": [],
   "source": []
  }
 ],
 "metadata": {
  "kernelspec": {
   "display_name": ".venv",
   "language": "python",
   "name": "python3"
  },
  "language_info": {
   "codemirror_mode": {
    "name": "ipython",
    "version": 3
   },
   "file_extension": ".py",
   "mimetype": "text/x-python",
   "name": "python",
   "nbconvert_exporter": "python",
   "pygments_lexer": "ipython3",
   "version": "3.10.0"
  }
 },
 "nbformat": 4,
 "nbformat_minor": 2
}
